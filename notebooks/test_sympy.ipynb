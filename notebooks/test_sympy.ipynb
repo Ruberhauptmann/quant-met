{
 "cells": [
  {
   "cell_type": "code",
   "id": "initial_id",
   "metadata": {
    "collapsed": true,
    "ExecuteTime": {
     "end_time": "2024-06-09T18:41:53.179249Z",
     "start_time": "2024-06-09T18:41:52.597361Z"
    }
   },
   "source": [
    "from quant_met import hamiltonians\n",
    "import numpy as np\n",
    "import sympy as sp\n",
    "from IPython.display import display\n",
    "sp.init_printing(use_latex='mathjax')"
   ],
   "outputs": [],
   "execution_count": 1
  },
  {
   "metadata": {
    "ExecuteTime": {
     "end_time": "2024-06-09T18:41:53.182628Z",
     "start_time": "2024-06-09T18:41:53.180408Z"
    }
   },
   "cell_type": "code",
   "source": "graphene_h = hamiltonians.GrapheneHamiltonian(t_nn=1, a=np.sqrt(3), mu=1, coulomb_gr=1)",
   "id": "4f99c6b7d4ff0ceb",
   "outputs": [],
   "execution_count": 2
  },
  {
   "metadata": {
    "ExecuteTime": {
     "end_time": "2024-06-09T18:41:53.326045Z",
     "start_time": "2024-06-09T18:41:53.183413Z"
    }
   },
   "cell_type": "code",
   "source": "display(graphene_h.hamiltonian)",
   "id": "978b19f67f681fdf",
   "outputs": [
    {
     "data": {
      "text/plain": [
       "⎡                                                                             \n",
       "⎢                                         -μ                                  \n",
       "⎢                                                                             \n",
       "⎢    ⎛   0.166666666666667⋅√3⋅ⅈ⋅a⋅k_y                  -0.333333333333333⋅√3⋅ⅈ\n",
       "⎣tₙₙ⋅⎝2⋅ℯ                            ⋅cos(0.5⋅a⋅kₓ) + ℯ                       \n",
       "\n",
       "             ⎛ 0.333333333333333⋅√3⋅ⅈ⋅a⋅k_y      -0.166666666666667⋅√3⋅ⅈ⋅a⋅k_y\n",
       "         tₙₙ⋅⎝ℯ                             + 2⋅ℯ                             \n",
       "                                                                              \n",
       "⋅a⋅k_y⎞                                                                       \n",
       "      ⎠                                           -μ                          \n",
       "\n",
       "              ⎞⎤\n",
       "⋅cos(0.5⋅a⋅kₓ)⎠⎥\n",
       "               ⎥\n",
       "               ⎥\n",
       "               ⎦"
      ],
      "text/latex": "$\\displaystyle \\left[\\begin{matrix}- \\mu & t_{nn} \\left(e^{0.333333333333333 \\sqrt{3} i a k_{y}} + 2 e^{- 0.166666666666667 \\sqrt{3} i a k_{y}} \\cos{\\left(0.5 a k_{x} \\right)}\\right)\\\\t_{nn} \\left(2 e^{0.166666666666667 \\sqrt{3} i a k_{y}} \\cos{\\left(0.5 a k_{x} \\right)} + e^{- 0.333333333333333 \\sqrt{3} i a k_{y}}\\right) & - \\mu\\end{matrix}\\right]$"
     },
     "metadata": {},
     "output_type": "display_data"
    }
   ],
   "execution_count": 3
  },
  {
   "metadata": {
    "ExecuteTime": {
     "end_time": "2024-06-09T18:42:20.434681Z",
     "start_time": "2024-06-09T18:42:20.428888Z"
    }
   },
   "cell_type": "code",
   "source": [
    "h_matrix = graphene_h.hamiltonian_k_space(np.array([[0, 0]]))\n",
    "print(h_matrix)"
   ],
   "id": "8a877911e32b9c89",
   "outputs": [
    {
     "name": "stdout",
     "output_type": "stream",
     "text": [
      "[[[-1.+0.j  3.+0.j]\n",
      "  [ 3.+0.j -1.+0.j]]]\n"
     ]
    }
   ],
   "execution_count": 7
  },
  {
   "metadata": {
    "ExecuteTime": {
     "end_time": "2024-06-09T18:40:12.441917Z",
     "start_time": "2024-06-09T18:40:12.439489Z"
    }
   },
   "cell_type": "code",
   "source": "print(np.transpose(h_matrix, axes=(2, 0, 1)))",
   "id": "9f07e7254687a549",
   "outputs": [
    {
     "name": "stdout",
     "output_type": "stream",
     "text": [
      "[[[-1.        +0.j          1.67740243+0.22027035j]\n",
      "  [ 1.67740243-0.22027035j -1.        +0.j        ]]\n",
      "\n",
      " [[-1.        +0.j          2.81540741-0.01538238j]\n",
      "  [ 2.81540741+0.01538238j -1.        +0.j        ]]]\n"
     ]
    }
   ],
   "execution_count": 11
  },
  {
   "metadata": {},
   "cell_type": "code",
   "outputs": [],
   "execution_count": null,
   "source": "",
   "id": "3adebf39ec35a103"
  }
 ],
 "metadata": {
  "kernelspec": {
   "display_name": "Python 3",
   "language": "python",
   "name": "python3"
  },
  "language_info": {
   "codemirror_mode": {
    "name": "ipython",
    "version": 2
   },
   "file_extension": ".py",
   "mimetype": "text/x-python",
   "name": "python",
   "nbconvert_exporter": "python",
   "pygments_lexer": "ipython2",
   "version": "2.7.6"
  }
 },
 "nbformat": 4,
 "nbformat_minor": 5
}
