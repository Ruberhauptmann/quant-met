{
 "cells": [
  {
   "cell_type": "code",
   "id": "initial_id",
   "metadata": {
    "collapsed": true,
    "ExecuteTime": {
     "end_time": "2024-06-10T08:34:40.362944Z",
     "start_time": "2024-06-10T08:34:40.055461Z"
    }
   },
   "source": [
    "from quant_met import hamiltonians\n",
    "import numpy as np\n",
    "import sympy as sp\n",
    "from IPython.display import display\n",
    "sp.init_printing(use_latex='mathjax')"
   ],
   "outputs": [],
   "execution_count": 1
  },
  {
   "metadata": {
    "ExecuteTime": {
     "end_time": "2024-06-10T08:34:46.759539Z",
     "start_time": "2024-06-10T08:34:46.754279Z"
    }
   },
   "cell_type": "code",
   "source": [
    "graphene_h = hamiltonians.GrapheneHamiltonian()\n",
    "print(graphene_h)\n",
    "print(graphene_h.parameters)"
   ],
   "id": "4f99c6b7d4ff0ceb",
   "outputs": [
    {
     "name": "stdout",
     "output_type": "stream",
     "text": [
      "<quant_met.hamiltonians._hamiltonians.GrapheneHamiltonian object at 0x7727c9261d60>\n",
      "{'t_nn': (t_nn, 'Hopping between nearest neighbours'), 'mu': (mu, 'Chemical potential'), 'a': (a, 'Lattice constant'), 'U': (U, 'Local coloumb interaction'), 'k': (Matrix([[k_x, k_y]]), 'Lattice momentum vector')}\n"
     ]
    }
   ],
   "execution_count": 3
  },
  {
   "metadata": {
    "ExecuteTime": {
     "end_time": "2024-06-10T08:34:48.673833Z",
     "start_time": "2024-06-10T08:34:48.555220Z"
    }
   },
   "cell_type": "code",
   "source": "display(graphene_h.hamiltonian)",
   "id": "978b19f67f681fdf",
   "outputs": [
    {
     "ename": "AttributeError",
     "evalue": "'GrapheneHamiltonian' object has no attribute 'hamiltonian'",
     "output_type": "error",
     "traceback": [
      "\u001B[0;31m---------------------------------------------------------------------------\u001B[0m",
      "\u001B[0;31mAttributeError\u001B[0m                            Traceback (most recent call last)",
      "Cell \u001B[0;32mIn[4], line 1\u001B[0m\n\u001B[0;32m----> 1\u001B[0m display(\u001B[43mgraphene_h\u001B[49m\u001B[38;5;241;43m.\u001B[39;49m\u001B[43mhamiltonian\u001B[49m)\n",
      "\u001B[0;31mAttributeError\u001B[0m: 'GrapheneHamiltonian' object has no attribute 'hamiltonian'"
     ]
    }
   ],
   "execution_count": 4
  },
  {
   "metadata": {
    "ExecuteTime": {
     "end_time": "2024-06-10T08:34:53.413041Z",
     "start_time": "2024-06-10T08:34:53.389969Z"
    }
   },
   "cell_type": "code",
   "source": [
    "h_matrix = graphene_h.hamiltonian_k_space(np.array([[0, 0]]))\n",
    "print(h_matrix)"
   ],
   "id": "8a877911e32b9c89",
   "outputs": [
    {
     "ename": "AttributeError",
     "evalue": "'GrapheneHamiltonian' object has no attribute 'hamiltonian_k_space'",
     "output_type": "error",
     "traceback": [
      "\u001B[0;31m---------------------------------------------------------------------------\u001B[0m",
      "\u001B[0;31mAttributeError\u001B[0m                            Traceback (most recent call last)",
      "Cell \u001B[0;32mIn[5], line 1\u001B[0m\n\u001B[0;32m----> 1\u001B[0m h_matrix \u001B[38;5;241m=\u001B[39m \u001B[43mgraphene_h\u001B[49m\u001B[38;5;241;43m.\u001B[39;49m\u001B[43mhamiltonian_k_space\u001B[49m(np\u001B[38;5;241m.\u001B[39marray([[\u001B[38;5;241m0\u001B[39m, \u001B[38;5;241m0\u001B[39m]]))\n\u001B[1;32m      2\u001B[0m \u001B[38;5;28mprint\u001B[39m(h_matrix)\n",
      "\u001B[0;31mAttributeError\u001B[0m: 'GrapheneHamiltonian' object has no attribute 'hamiltonian_k_space'"
     ]
    }
   ],
   "execution_count": 5
  },
  {
   "metadata": {
    "ExecuteTime": {
     "end_time": "2024-06-10T08:34:53.787325Z",
     "start_time": "2024-06-10T08:34:53.777695Z"
    }
   },
   "cell_type": "code",
   "source": "print(np.transpose(h_matrix, axes=(2, 0, 1)))",
   "id": "9f07e7254687a549",
   "outputs": [
    {
     "ename": "NameError",
     "evalue": "name 'h_matrix' is not defined",
     "output_type": "error",
     "traceback": [
      "\u001B[0;31m---------------------------------------------------------------------------\u001B[0m",
      "\u001B[0;31mNameError\u001B[0m                                 Traceback (most recent call last)",
      "Cell \u001B[0;32mIn[6], line 1\u001B[0m\n\u001B[0;32m----> 1\u001B[0m \u001B[38;5;28mprint\u001B[39m(np\u001B[38;5;241m.\u001B[39mtranspose(\u001B[43mh_matrix\u001B[49m, axes\u001B[38;5;241m=\u001B[39m(\u001B[38;5;241m2\u001B[39m, \u001B[38;5;241m0\u001B[39m, \u001B[38;5;241m1\u001B[39m)))\n",
      "\u001B[0;31mNameError\u001B[0m: name 'h_matrix' is not defined"
     ]
    }
   ],
   "execution_count": 6
  },
  {
   "metadata": {
    "ExecuteTime": {
     "end_time": "2024-06-10T08:35:00.547293Z",
     "start_time": "2024-06-10T08:35:00.464263Z"
    }
   },
   "cell_type": "code",
   "source": "print(graphene_h.parameters)",
   "id": "3adebf39ec35a103",
   "outputs": [
    {
     "name": "stdout",
     "output_type": "stream",
     "text": [
      "Matrix([[-mu, t_nn*(exp(0.333333333333333*sqrt(3)*I*a*k_y) + 2*exp(-0.166666666666667*sqrt(3)*I*a*k_y)*cos(0.5*a*k_x))], [t_nn*(2*exp(0.166666666666667*sqrt(3)*I*a*k_y)*cos(0.5*a*k_x) + exp(-0.333333333333333*sqrt(3)*I*a*k_y)), -mu]])\n"
     ]
    }
   ],
   "execution_count": 7
  },
  {
   "metadata": {},
   "cell_type": "code",
   "outputs": [],
   "execution_count": null,
   "source": "",
   "id": "1a1bb9409c7b16dc"
  }
 ],
 "metadata": {
  "kernelspec": {
   "display_name": "Python 3",
   "language": "python",
   "name": "python3"
  },
  "language_info": {
   "codemirror_mode": {
    "name": "ipython",
    "version": 2
   },
   "file_extension": ".py",
   "mimetype": "text/x-python",
   "name": "python",
   "nbconvert_exporter": "python",
   "pygments_lexer": "ipython2",
   "version": "2.7.6"
  }
 },
 "nbformat": 4,
 "nbformat_minor": 5
}
