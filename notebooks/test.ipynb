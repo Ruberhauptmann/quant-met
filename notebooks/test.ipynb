{
 "cells": [
  {
   "cell_type": "code",
   "id": "initial_id",
   "metadata": {
    "collapsed": true,
    "ExecuteTime": {
     "end_time": "2024-06-07T12:56:47.117462Z",
     "start_time": "2024-06-07T12:56:46.642709Z"
    }
   },
   "source": [
    "from quant_met import hamiltonians\n",
    "from quant_met.minimize_free_energy import free_energy\n",
    "import numpy as np"
   ],
   "outputs": [],
   "execution_count": 1
  },
  {
   "metadata": {
    "ExecuteTime": {
     "end_time": "2024-06-07T12:57:20.654295Z",
     "start_time": "2024-06-07T12:57:20.648617Z"
    }
   },
   "cell_type": "code",
   "source": [
    "lattice_constant = np.sqrt(3)\n",
    "beta = 100\n",
    "\n",
    "graphene_h = hamiltonians.GrapheneHamiltonian(t_nn=1, a=lattice_constant, mu=-1, coulomb_gr=2)\n",
    "\n",
    "#print(graphene_h.hamiltonian_k_space(np.array([[1, 1], [0, 0]])))\n",
    "print(free_energy(delta_vector=np.array([1, -1]), beta=beta, hamiltonian=graphene_h, k_points=np.array([[0, 0], [1, 1], [2, 2], [3, 3]])))\n",
    "print(free_energy(delta_vector=np.array([1, 1]), beta=beta, hamiltonian=graphene_h, k_points=np.array([[0, 0], [1, 1], [2, 2], [3, 3]])))"
   ],
   "id": "a656c03f2d5d4013",
   "outputs": [
    {
     "name": "stdout",
     "output_type": "stream",
     "text": [
      "[[-2.16227766 -2.16227766  4.16227766  4.16227766]\n",
      " [-1.07430438 -0.84977221  2.84977221  3.07430438]\n",
      " [-1.25785788  0.38363716  1.61636284  3.25785788]\n",
      " [-2.05763806 -0.39809122  2.39809122  4.05763806]]\n",
      "[0.5 0.5]\n",
      "1.0\n",
      "[1. 1. 1. 1.]\n",
      "0.19608556141015557\n",
      "[[-3.         -1.          3.          5.        ]\n",
      " [-1.68644799  0.2876847   1.7123153   3.68644799]\n",
      " [-0.97944503 -0.24884856  2.24884856  2.97944503]\n",
      " [-1.80607633 -0.85195712  2.85195712  3.80607633]]\n",
      "[0.5 0.5]\n",
      "1.0\n",
      "[1. 1. 1. 1.]\n",
      "0.2335598310347222\n"
     ]
    }
   ],
   "execution_count": 5
  },
  {
   "metadata": {},
   "cell_type": "code",
   "outputs": [],
   "execution_count": null,
   "source": "",
   "id": "e1cf9e2cc5eff1fa"
  }
 ],
 "metadata": {
  "kernelspec": {
   "display_name": "Python 3",
   "language": "python",
   "name": "python3"
  },
  "language_info": {
   "codemirror_mode": {
    "name": "ipython",
    "version": 2
   },
   "file_extension": ".py",
   "mimetype": "text/x-python",
   "name": "python",
   "nbconvert_exporter": "python",
   "pygments_lexer": "ipython2",
   "version": "2.7.6"
  }
 },
 "nbformat": 4,
 "nbformat_minor": 5
}
