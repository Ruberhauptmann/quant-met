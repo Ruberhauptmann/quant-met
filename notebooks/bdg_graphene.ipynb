{
 "cells": [
  {
   "cell_type": "code",
   "id": "initial_id",
   "metadata": {
    "collapsed": true,
    "ExecuteTime": {
     "end_time": "2024-06-10T13:03:50.852860Z",
     "start_time": "2024-06-10T13:03:50.305663Z"
    }
   },
   "source": [
    "from quant_met import plotting, hamiltonians, minimize_free_energy, utils\n",
    "import numpy as np\n",
    "import time\n",
    "import matplotlib.pyplot as plt\n",
    "import pandas as pd"
   ],
   "outputs": [],
   "execution_count": 2
  },
  {
   "metadata": {
    "ExecuteTime": {
     "end_time": "2024-06-10T13:03:50.905905Z",
     "start_time": "2024-06-10T13:03:50.853803Z"
    }
   },
   "cell_type": "code",
   "source": [
    "lattice_constant = np.sqrt(3)\n",
    "\n",
    "all_K_points = 4 * np.pi / (3 * lattice_constant) * np.array([\n",
    "    (np.sin(i * np.pi / 6), np.cos(i * np.pi / 6)) for i in [1, 3, 5, 7, 9, 11]]\n",
    ")\n",
    "\n",
    "Gamma = np.array([0, 0])\n",
    "M = np.pi / lattice_constant * np.array([1, 1 / np.sqrt(3)])\n",
    "K = 4 * np.pi / (3 * lattice_constant) * np.array([1, 0])\n",
    "\n",
    "points = [(M, 'M'), (Gamma, r'\\Gamma'), (all_K_points[1], 'K')]\n",
    "\n",
    "band_path, band_path_plot, ticks, labels = plotting.generate_bz_path(points, number_of_points=1000)\n",
    "\n",
    "#BZ_path_plot = plotting.scatter_into_bz(all_K_points, band_path)\n",
    "\n",
    "graphene_h = hamiltonians.GrapheneHamiltonian(t_nn=1, a=lattice_constant, mu=0, coulomb_gr=0)\n",
    "\n",
    "band_structure = graphene_h.calculate_bandstructure(band_path)\n",
    "\n",
    "BZ_grid = utils.generate_uniform_grid(20, 20, all_K_points[1], all_K_points[5], origin=np.array([0, 0]))"
   ],
   "id": "efa8d655b2038812",
   "outputs": [],
   "execution_count": 3
  },
  {
   "metadata": {
    "ExecuteTime": {
     "end_time": "2024-06-10T13:03:51.327624Z",
     "start_time": "2024-06-10T13:03:51.324263Z"
    }
   },
   "cell_type": "code",
   "source": "gap_size_vs_U = pd.DataFrame()",
   "id": "21fd513b5eb0052b",
   "outputs": [],
   "execution_count": 4
  },
  {
   "metadata": {
    "ExecuteTime": {
     "end_time": "2024-06-10T13:22:31.816650Z",
     "start_time": "2024-06-10T13:17:39.629111Z"
    }
   },
   "cell_type": "code",
   "source": [
    "U_range = np.linspace(start=0.1, stop=6, num=10)\n",
    "\n",
    "gap_size_vs_U['U'] = U_range\n",
    "\n",
    "for mu in [0, 0.5, 1, 1.5, 2]:\n",
    "    delta_over_U = []\n",
    "    beta = 1000\n",
    "\n",
    "    for i, U in enumerate(U_range):\n",
    "        graphene_h = hamiltonians.GrapheneHamiltonian(t_nn=1, a=lattice_constant, mu=mu, coulomb_gr=U)\n",
    "\n",
    "        start = time.time()\n",
    "        solution = minimize_free_energy.minimize_loop(beta=beta, hamiltonian=graphene_h, k_points=BZ_grid)\n",
    "        print(f'U = {U}')\n",
    "        print(solution)\n",
    "        end = time.time()\n",
    "        print(f'Time taken to solve the gap equation: {end - start:0.2f} seconds')\n",
    "        gap_size_vs_U.loc[i, f'{mu}'] = solution[0]"
   ],
   "id": "ae60362bd3b2c578",
   "outputs": [
    {
     "name": "stderr",
     "output_type": "stream",
     "text": [
      "/home/tjark/Projects/quant-met/src/quant_met/minimize_free_energy.py:25: RuntimeWarning: overflow encountered in exp\n",
      "  - np.sum(np.log(1 + np.nan_to_num(np.exp(-beta * bdg_energies))), axis=-1) / beta\n",
      "/home/tjark/Projects/quant-met/src/quant_met/minimize_free_energy.py:25: RuntimeWarning: overflow encountered in exp\n",
      "  - np.sum(np.log(1 + np.nan_to_num(np.exp(-beta * bdg_energies))), axis=-1) / beta\n",
      "/home/tjark/Projects/quant-met/src/quant_met/minimize_free_energy.py:25: RuntimeWarning: overflow encountered in exp\n",
      "  - np.sum(np.log(1 + np.nan_to_num(np.exp(-beta * bdg_energies))), axis=-1) / beta\n",
      "/home/tjark/Projects/quant-met/src/quant_met/minimize_free_energy.py:25: RuntimeWarning: overflow encountered in exp\n",
      "  - np.sum(np.log(1 + np.nan_to_num(np.exp(-beta * bdg_energies))), axis=-1) / beta\n",
      "/home/tjark/Projects/quant-met/src/quant_met/minimize_free_energy.py:25: RuntimeWarning: overflow encountered in exp\n",
      "  - np.sum(np.log(1 + np.nan_to_num(np.exp(-beta * bdg_energies))), axis=-1) / beta\n",
      "/home/tjark/Projects/quant-met/src/quant_met/minimize_free_energy.py:25: RuntimeWarning: overflow encountered in exp\n",
      "  - np.sum(np.log(1 + np.nan_to_num(np.exp(-beta * bdg_energies))), axis=-1) / beta\n",
      "/home/tjark/Projects/quant-met/src/quant_met/minimize_free_energy.py:25: RuntimeWarning: overflow encountered in exp\n",
      "  - np.sum(np.log(1 + np.nan_to_num(np.exp(-beta * bdg_energies))), axis=-1) / beta\n",
      "/home/tjark/Projects/quant-met/src/quant_met/minimize_free_energy.py:25: RuntimeWarning: overflow encountered in exp\n",
      "  - np.sum(np.log(1 + np.nan_to_num(np.exp(-beta * bdg_energies))), axis=-1) / beta\n",
      "/home/tjark/Projects/quant-met/src/quant_met/minimize_free_energy.py:25: RuntimeWarning: overflow encountered in exp\n",
      "  - np.sum(np.log(1 + np.nan_to_num(np.exp(-beta * bdg_energies))), axis=-1) / beta\n",
      "/home/tjark/Projects/quant-met/src/quant_met/minimize_free_energy.py:25: RuntimeWarning: overflow encountered in exp\n",
      "  - np.sum(np.log(1 + np.nan_to_num(np.exp(-beta * bdg_energies))), axis=-1) / beta\n",
      "/home/tjark/Projects/quant-met/src/quant_met/minimize_free_energy.py:25: RuntimeWarning: overflow encountered in exp\n",
      "  - np.sum(np.log(1 + np.nan_to_num(np.exp(-beta * bdg_energies))), axis=-1) / beta\n"
     ]
    },
    {
     "name": "stdout",
     "output_type": "stream",
     "text": [
      "U = 0.1\n",
      "[0. 0.]\n",
      "Time taken to solve the gap equation: 4.00 seconds\n"
     ]
    },
    {
     "name": "stderr",
     "output_type": "stream",
     "text": [
      "/home/tjark/Projects/quant-met/src/quant_met/minimize_free_energy.py:25: RuntimeWarning: overflow encountered in exp\n",
      "  - np.sum(np.log(1 + np.nan_to_num(np.exp(-beta * bdg_energies))), axis=-1) / beta\n",
      "/home/tjark/Projects/quant-met/src/quant_met/minimize_free_energy.py:25: RuntimeWarning: overflow encountered in exp\n",
      "  - np.sum(np.log(1 + np.nan_to_num(np.exp(-beta * bdg_energies))), axis=-1) / beta\n",
      "/home/tjark/Projects/quant-met/src/quant_met/minimize_free_energy.py:25: RuntimeWarning: overflow encountered in exp\n",
      "  - np.sum(np.log(1 + np.nan_to_num(np.exp(-beta * bdg_energies))), axis=-1) / beta\n",
      "/home/tjark/Projects/quant-met/src/quant_met/minimize_free_energy.py:25: RuntimeWarning: overflow encountered in exp\n",
      "  - np.sum(np.log(1 + np.nan_to_num(np.exp(-beta * bdg_energies))), axis=-1) / beta\n",
      "/home/tjark/Projects/quant-met/src/quant_met/minimize_free_energy.py:25: RuntimeWarning: overflow encountered in exp\n",
      "  - np.sum(np.log(1 + np.nan_to_num(np.exp(-beta * bdg_energies))), axis=-1) / beta\n",
      "/home/tjark/Projects/quant-met/src/quant_met/minimize_free_energy.py:25: RuntimeWarning: overflow encountered in exp\n",
      "  - np.sum(np.log(1 + np.nan_to_num(np.exp(-beta * bdg_energies))), axis=-1) / beta\n",
      "/home/tjark/Projects/quant-met/src/quant_met/minimize_free_energy.py:25: RuntimeWarning: overflow encountered in exp\n",
      "  - np.sum(np.log(1 + np.nan_to_num(np.exp(-beta * bdg_energies))), axis=-1) / beta\n",
      "/home/tjark/Projects/quant-met/src/quant_met/minimize_free_energy.py:25: RuntimeWarning: overflow encountered in exp\n",
      "  - np.sum(np.log(1 + np.nan_to_num(np.exp(-beta * bdg_energies))), axis=-1) / beta\n",
      "/home/tjark/Projects/quant-met/src/quant_met/minimize_free_energy.py:25: RuntimeWarning: overflow encountered in exp\n",
      "  - np.sum(np.log(1 + np.nan_to_num(np.exp(-beta * bdg_energies))), axis=-1) / beta\n",
      "/home/tjark/Projects/quant-met/src/quant_met/minimize_free_energy.py:25: RuntimeWarning: overflow encountered in exp\n",
      "  - np.sum(np.log(1 + np.nan_to_num(np.exp(-beta * bdg_energies))), axis=-1) / beta\n",
      "/home/tjark/Projects/quant-met/src/quant_met/minimize_free_energy.py:25: RuntimeWarning: overflow encountered in exp\n",
      "  - np.sum(np.log(1 + np.nan_to_num(np.exp(-beta * bdg_energies))), axis=-1) / beta\n"
     ]
    },
    {
     "name": "stdout",
     "output_type": "stream",
     "text": [
      "U = 0.7555555555555555\n",
      "[0.00265252 0.00264514]\n",
      "Time taken to solve the gap equation: 4.74 seconds\n"
     ]
    },
    {
     "name": "stderr",
     "output_type": "stream",
     "text": [
      "/home/tjark/Projects/quant-met/src/quant_met/minimize_free_energy.py:25: RuntimeWarning: overflow encountered in exp\n",
      "  - np.sum(np.log(1 + np.nan_to_num(np.exp(-beta * bdg_energies))), axis=-1) / beta\n",
      "/home/tjark/Projects/quant-met/src/quant_met/minimize_free_energy.py:25: RuntimeWarning: overflow encountered in exp\n",
      "  - np.sum(np.log(1 + np.nan_to_num(np.exp(-beta * bdg_energies))), axis=-1) / beta\n",
      "/home/tjark/Projects/quant-met/src/quant_met/minimize_free_energy.py:25: RuntimeWarning: overflow encountered in exp\n",
      "  - np.sum(np.log(1 + np.nan_to_num(np.exp(-beta * bdg_energies))), axis=-1) / beta\n",
      "/home/tjark/Projects/quant-met/src/quant_met/minimize_free_energy.py:25: RuntimeWarning: overflow encountered in exp\n",
      "  - np.sum(np.log(1 + np.nan_to_num(np.exp(-beta * bdg_energies))), axis=-1) / beta\n",
      "/home/tjark/Projects/quant-met/src/quant_met/minimize_free_energy.py:25: RuntimeWarning: overflow encountered in exp\n",
      "  - np.sum(np.log(1 + np.nan_to_num(np.exp(-beta * bdg_energies))), axis=-1) / beta\n",
      "/home/tjark/Projects/quant-met/src/quant_met/minimize_free_energy.py:25: RuntimeWarning: overflow encountered in exp\n",
      "  - np.sum(np.log(1 + np.nan_to_num(np.exp(-beta * bdg_energies))), axis=-1) / beta\n",
      "/home/tjark/Projects/quant-met/src/quant_met/minimize_free_energy.py:25: RuntimeWarning: overflow encountered in exp\n",
      "  - np.sum(np.log(1 + np.nan_to_num(np.exp(-beta * bdg_energies))), axis=-1) / beta\n",
      "/home/tjark/Projects/quant-met/src/quant_met/minimize_free_energy.py:25: RuntimeWarning: overflow encountered in exp\n",
      "  - np.sum(np.log(1 + np.nan_to_num(np.exp(-beta * bdg_energies))), axis=-1) / beta\n",
      "/home/tjark/Projects/quant-met/src/quant_met/minimize_free_energy.py:25: RuntimeWarning: overflow encountered in exp\n",
      "  - np.sum(np.log(1 + np.nan_to_num(np.exp(-beta * bdg_energies))), axis=-1) / beta\n",
      "/home/tjark/Projects/quant-met/src/quant_met/minimize_free_energy.py:25: RuntimeWarning: overflow encountered in exp\n",
      "  - np.sum(np.log(1 + np.nan_to_num(np.exp(-beta * bdg_energies))), axis=-1) / beta\n",
      "/home/tjark/Projects/quant-met/src/quant_met/minimize_free_energy.py:25: RuntimeWarning: overflow encountered in exp\n",
      "  - np.sum(np.log(1 + np.nan_to_num(np.exp(-beta * bdg_energies))), axis=-1) / beta\n"
     ]
    },
    {
     "name": "stdout",
     "output_type": "stream",
     "text": [
      "U = 1.4111111111111112\n",
      "[0.00601268 0.00596697]\n",
      "Time taken to solve the gap equation: 4.91 seconds\n"
     ]
    },
    {
     "name": "stderr",
     "output_type": "stream",
     "text": [
      "/home/tjark/Projects/quant-met/src/quant_met/minimize_free_energy.py:25: RuntimeWarning: overflow encountered in exp\n",
      "  - np.sum(np.log(1 + np.nan_to_num(np.exp(-beta * bdg_energies))), axis=-1) / beta\n",
      "/home/tjark/Projects/quant-met/src/quant_met/minimize_free_energy.py:25: RuntimeWarning: overflow encountered in exp\n",
      "  - np.sum(np.log(1 + np.nan_to_num(np.exp(-beta * bdg_energies))), axis=-1) / beta\n",
      "/home/tjark/Projects/quant-met/src/quant_met/minimize_free_energy.py:25: RuntimeWarning: overflow encountered in exp\n",
      "  - np.sum(np.log(1 + np.nan_to_num(np.exp(-beta * bdg_energies))), axis=-1) / beta\n",
      "/home/tjark/Projects/quant-met/src/quant_met/minimize_free_energy.py:25: RuntimeWarning: overflow encountered in exp\n",
      "  - np.sum(np.log(1 + np.nan_to_num(np.exp(-beta * bdg_energies))), axis=-1) / beta\n",
      "/home/tjark/Projects/quant-met/src/quant_met/minimize_free_energy.py:25: RuntimeWarning: overflow encountered in exp\n",
      "  - np.sum(np.log(1 + np.nan_to_num(np.exp(-beta * bdg_energies))), axis=-1) / beta\n",
      "/home/tjark/Projects/quant-met/src/quant_met/minimize_free_energy.py:25: RuntimeWarning: overflow encountered in exp\n",
      "  - np.sum(np.log(1 + np.nan_to_num(np.exp(-beta * bdg_energies))), axis=-1) / beta\n",
      "/home/tjark/Projects/quant-met/src/quant_met/minimize_free_energy.py:25: RuntimeWarning: overflow encountered in exp\n",
      "  - np.sum(np.log(1 + np.nan_to_num(np.exp(-beta * bdg_energies))), axis=-1) / beta\n",
      "/home/tjark/Projects/quant-met/src/quant_met/minimize_free_energy.py:25: RuntimeWarning: overflow encountered in exp\n",
      "  - np.sum(np.log(1 + np.nan_to_num(np.exp(-beta * bdg_energies))), axis=-1) / beta\n",
      "/home/tjark/Projects/quant-met/src/quant_met/minimize_free_energy.py:25: RuntimeWarning: overflow encountered in exp\n",
      "  - np.sum(np.log(1 + np.nan_to_num(np.exp(-beta * bdg_energies))), axis=-1) / beta\n",
      "/home/tjark/Projects/quant-met/src/quant_met/minimize_free_energy.py:25: RuntimeWarning: overflow encountered in exp\n",
      "  - np.sum(np.log(1 + np.nan_to_num(np.exp(-beta * bdg_energies))), axis=-1) / beta\n",
      "/home/tjark/Projects/quant-met/src/quant_met/minimize_free_energy.py:25: RuntimeWarning: overflow encountered in exp\n",
      "  - np.sum(np.log(1 + np.nan_to_num(np.exp(-beta * bdg_energies))), axis=-1) / beta\n"
     ]
    },
    {
     "name": "stdout",
     "output_type": "stream",
     "text": [
      "U = 2.066666666666667\n",
      "[0.00948398 0.00949199]\n",
      "Time taken to solve the gap equation: 5.76 seconds\n"
     ]
    },
    {
     "name": "stderr",
     "output_type": "stream",
     "text": [
      "/home/tjark/Projects/quant-met/src/quant_met/minimize_free_energy.py:25: RuntimeWarning: overflow encountered in exp\n",
      "  - np.sum(np.log(1 + np.nan_to_num(np.exp(-beta * bdg_energies))), axis=-1) / beta\n",
      "/home/tjark/Projects/quant-met/src/quant_met/minimize_free_energy.py:25: RuntimeWarning: overflow encountered in exp\n",
      "  - np.sum(np.log(1 + np.nan_to_num(np.exp(-beta * bdg_energies))), axis=-1) / beta\n",
      "/home/tjark/Projects/quant-met/src/quant_met/minimize_free_energy.py:25: RuntimeWarning: overflow encountered in exp\n",
      "  - np.sum(np.log(1 + np.nan_to_num(np.exp(-beta * bdg_energies))), axis=-1) / beta\n",
      "/home/tjark/Projects/quant-met/src/quant_met/minimize_free_energy.py:25: RuntimeWarning: overflow encountered in exp\n",
      "  - np.sum(np.log(1 + np.nan_to_num(np.exp(-beta * bdg_energies))), axis=-1) / beta\n",
      "/home/tjark/Projects/quant-met/src/quant_met/minimize_free_energy.py:25: RuntimeWarning: overflow encountered in exp\n",
      "  - np.sum(np.log(1 + np.nan_to_num(np.exp(-beta * bdg_energies))), axis=-1) / beta\n",
      "/home/tjark/Projects/quant-met/src/quant_met/minimize_free_energy.py:25: RuntimeWarning: overflow encountered in exp\n",
      "  - np.sum(np.log(1 + np.nan_to_num(np.exp(-beta * bdg_energies))), axis=-1) / beta\n",
      "/home/tjark/Projects/quant-met/src/quant_met/minimize_free_energy.py:25: RuntimeWarning: overflow encountered in exp\n",
      "  - np.sum(np.log(1 + np.nan_to_num(np.exp(-beta * bdg_energies))), axis=-1) / beta\n",
      "/home/tjark/Projects/quant-met/src/quant_met/minimize_free_energy.py:25: RuntimeWarning: overflow encountered in exp\n",
      "  - np.sum(np.log(1 + np.nan_to_num(np.exp(-beta * bdg_energies))), axis=-1) / beta\n",
      "/home/tjark/Projects/quant-met/src/quant_met/minimize_free_energy.py:25: RuntimeWarning: overflow encountered in exp\n",
      "  - np.sum(np.log(1 + np.nan_to_num(np.exp(-beta * bdg_energies))), axis=-1) / beta\n",
      "/home/tjark/Projects/quant-met/src/quant_met/minimize_free_energy.py:25: RuntimeWarning: overflow encountered in exp\n",
      "  - np.sum(np.log(1 + np.nan_to_num(np.exp(-beta * bdg_energies))), axis=-1) / beta\n",
      "/home/tjark/Projects/quant-met/src/quant_met/minimize_free_energy.py:25: RuntimeWarning: overflow encountered in exp\n",
      "  - np.sum(np.log(1 + np.nan_to_num(np.exp(-beta * bdg_energies))), axis=-1) / beta\n"
     ]
    },
    {
     "name": "stdout",
     "output_type": "stream",
     "text": [
      "U = 2.7222222222222223\n",
      "[0.01340587 0.01344638]\n",
      "Time taken to solve the gap equation: 5.81 seconds\n"
     ]
    },
    {
     "name": "stderr",
     "output_type": "stream",
     "text": [
      "/home/tjark/Projects/quant-met/src/quant_met/minimize_free_energy.py:25: RuntimeWarning: overflow encountered in exp\n",
      "  - np.sum(np.log(1 + np.nan_to_num(np.exp(-beta * bdg_energies))), axis=-1) / beta\n",
      "/home/tjark/Projects/quant-met/src/quant_met/minimize_free_energy.py:25: RuntimeWarning: overflow encountered in exp\n",
      "  - np.sum(np.log(1 + np.nan_to_num(np.exp(-beta * bdg_energies))), axis=-1) / beta\n",
      "/home/tjark/Projects/quant-met/src/quant_met/minimize_free_energy.py:25: RuntimeWarning: overflow encountered in exp\n",
      "  - np.sum(np.log(1 + np.nan_to_num(np.exp(-beta * bdg_energies))), axis=-1) / beta\n",
      "/home/tjark/Projects/quant-met/src/quant_met/minimize_free_energy.py:25: RuntimeWarning: overflow encountered in exp\n",
      "  - np.sum(np.log(1 + np.nan_to_num(np.exp(-beta * bdg_energies))), axis=-1) / beta\n",
      "/home/tjark/Projects/quant-met/src/quant_met/minimize_free_energy.py:25: RuntimeWarning: overflow encountered in exp\n",
      "  - np.sum(np.log(1 + np.nan_to_num(np.exp(-beta * bdg_energies))), axis=-1) / beta\n",
      "/home/tjark/Projects/quant-met/src/quant_met/minimize_free_energy.py:25: RuntimeWarning: overflow encountered in exp\n",
      "  - np.sum(np.log(1 + np.nan_to_num(np.exp(-beta * bdg_energies))), axis=-1) / beta\n",
      "/home/tjark/Projects/quant-met/src/quant_met/minimize_free_energy.py:25: RuntimeWarning: overflow encountered in exp\n",
      "  - np.sum(np.log(1 + np.nan_to_num(np.exp(-beta * bdg_energies))), axis=-1) / beta\n",
      "/home/tjark/Projects/quant-met/src/quant_met/minimize_free_energy.py:25: RuntimeWarning: overflow encountered in exp\n",
      "  - np.sum(np.log(1 + np.nan_to_num(np.exp(-beta * bdg_energies))), axis=-1) / beta\n",
      "/home/tjark/Projects/quant-met/src/quant_met/minimize_free_energy.py:25: RuntimeWarning: overflow encountered in exp\n",
      "  - np.sum(np.log(1 + np.nan_to_num(np.exp(-beta * bdg_energies))), axis=-1) / beta\n",
      "/home/tjark/Projects/quant-met/src/quant_met/minimize_free_energy.py:25: RuntimeWarning: overflow encountered in exp\n",
      "  - np.sum(np.log(1 + np.nan_to_num(np.exp(-beta * bdg_energies))), axis=-1) / beta\n",
      "/home/tjark/Projects/quant-met/src/quant_met/minimize_free_energy.py:25: RuntimeWarning: overflow encountered in exp\n",
      "  - np.sum(np.log(1 + np.nan_to_num(np.exp(-beta * bdg_energies))), axis=-1) / beta\n"
     ]
    },
    {
     "name": "stdout",
     "output_type": "stream",
     "text": [
      "U = 3.3777777777777778\n",
      "[0.01799786 0.01802837]\n",
      "Time taken to solve the gap equation: 5.77 seconds\n"
     ]
    },
    {
     "name": "stderr",
     "output_type": "stream",
     "text": [
      "/home/tjark/Projects/quant-met/src/quant_met/minimize_free_energy.py:25: RuntimeWarning: overflow encountered in exp\n",
      "  - np.sum(np.log(1 + np.nan_to_num(np.exp(-beta * bdg_energies))), axis=-1) / beta\n",
      "/home/tjark/Projects/quant-met/src/quant_met/minimize_free_energy.py:25: RuntimeWarning: overflow encountered in exp\n",
      "  - np.sum(np.log(1 + np.nan_to_num(np.exp(-beta * bdg_energies))), axis=-1) / beta\n",
      "/home/tjark/Projects/quant-met/src/quant_met/minimize_free_energy.py:25: RuntimeWarning: overflow encountered in exp\n",
      "  - np.sum(np.log(1 + np.nan_to_num(np.exp(-beta * bdg_energies))), axis=-1) / beta\n",
      "/home/tjark/Projects/quant-met/src/quant_met/minimize_free_energy.py:25: RuntimeWarning: overflow encountered in exp\n",
      "  - np.sum(np.log(1 + np.nan_to_num(np.exp(-beta * bdg_energies))), axis=-1) / beta\n",
      "/home/tjark/Projects/quant-met/src/quant_met/minimize_free_energy.py:25: RuntimeWarning: overflow encountered in exp\n",
      "  - np.sum(np.log(1 + np.nan_to_num(np.exp(-beta * bdg_energies))), axis=-1) / beta\n",
      "/home/tjark/Projects/quant-met/src/quant_met/minimize_free_energy.py:25: RuntimeWarning: overflow encountered in exp\n",
      "  - np.sum(np.log(1 + np.nan_to_num(np.exp(-beta * bdg_energies))), axis=-1) / beta\n",
      "/home/tjark/Projects/quant-met/src/quant_met/minimize_free_energy.py:25: RuntimeWarning: overflow encountered in exp\n",
      "  - np.sum(np.log(1 + np.nan_to_num(np.exp(-beta * bdg_energies))), axis=-1) / beta\n",
      "/home/tjark/Projects/quant-met/src/quant_met/minimize_free_energy.py:25: RuntimeWarning: overflow encountered in exp\n",
      "  - np.sum(np.log(1 + np.nan_to_num(np.exp(-beta * bdg_energies))), axis=-1) / beta\n",
      "/home/tjark/Projects/quant-met/src/quant_met/minimize_free_energy.py:25: RuntimeWarning: overflow encountered in exp\n",
      "  - np.sum(np.log(1 + np.nan_to_num(np.exp(-beta * bdg_energies))), axis=-1) / beta\n",
      "/home/tjark/Projects/quant-met/src/quant_met/minimize_free_energy.py:25: RuntimeWarning: overflow encountered in exp\n",
      "  - np.sum(np.log(1 + np.nan_to_num(np.exp(-beta * bdg_energies))), axis=-1) / beta\n",
      "/home/tjark/Projects/quant-met/src/quant_met/minimize_free_energy.py:25: RuntimeWarning: overflow encountered in exp\n",
      "  - np.sum(np.log(1 + np.nan_to_num(np.exp(-beta * bdg_energies))), axis=-1) / beta\n"
     ]
    },
    {
     "name": "stdout",
     "output_type": "stream",
     "text": [
      "U = 4.033333333333333\n",
      "[0.0234106  0.02347887]\n",
      "Time taken to solve the gap equation: 5.86 seconds\n"
     ]
    },
    {
     "name": "stderr",
     "output_type": "stream",
     "text": [
      "/home/tjark/Projects/quant-met/src/quant_met/minimize_free_energy.py:25: RuntimeWarning: overflow encountered in exp\n",
      "  - np.sum(np.log(1 + np.nan_to_num(np.exp(-beta * bdg_energies))), axis=-1) / beta\n",
      "/home/tjark/Projects/quant-met/src/quant_met/minimize_free_energy.py:25: RuntimeWarning: overflow encountered in exp\n",
      "  - np.sum(np.log(1 + np.nan_to_num(np.exp(-beta * bdg_energies))), axis=-1) / beta\n",
      "/home/tjark/Projects/quant-met/src/quant_met/minimize_free_energy.py:25: RuntimeWarning: overflow encountered in exp\n",
      "  - np.sum(np.log(1 + np.nan_to_num(np.exp(-beta * bdg_energies))), axis=-1) / beta\n",
      "/home/tjark/Projects/quant-met/src/quant_met/minimize_free_energy.py:25: RuntimeWarning: overflow encountered in exp\n",
      "  - np.sum(np.log(1 + np.nan_to_num(np.exp(-beta * bdg_energies))), axis=-1) / beta\n",
      "/home/tjark/Projects/quant-met/src/quant_met/minimize_free_energy.py:25: RuntimeWarning: overflow encountered in exp\n",
      "  - np.sum(np.log(1 + np.nan_to_num(np.exp(-beta * bdg_energies))), axis=-1) / beta\n",
      "/home/tjark/Projects/quant-met/src/quant_met/minimize_free_energy.py:25: RuntimeWarning: overflow encountered in exp\n",
      "  - np.sum(np.log(1 + np.nan_to_num(np.exp(-beta * bdg_energies))), axis=-1) / beta\n",
      "/home/tjark/Projects/quant-met/src/quant_met/minimize_free_energy.py:25: RuntimeWarning: overflow encountered in exp\n",
      "  - np.sum(np.log(1 + np.nan_to_num(np.exp(-beta * bdg_energies))), axis=-1) / beta\n",
      "/home/tjark/Projects/quant-met/src/quant_met/minimize_free_energy.py:25: RuntimeWarning: overflow encountered in exp\n",
      "  - np.sum(np.log(1 + np.nan_to_num(np.exp(-beta * bdg_energies))), axis=-1) / beta\n",
      "/home/tjark/Projects/quant-met/src/quant_met/minimize_free_energy.py:25: RuntimeWarning: overflow encountered in exp\n",
      "  - np.sum(np.log(1 + np.nan_to_num(np.exp(-beta * bdg_energies))), axis=-1) / beta\n",
      "/home/tjark/Projects/quant-met/src/quant_met/minimize_free_energy.py:25: RuntimeWarning: overflow encountered in exp\n",
      "  - np.sum(np.log(1 + np.nan_to_num(np.exp(-beta * bdg_energies))), axis=-1) / beta\n",
      "/home/tjark/Projects/quant-met/src/quant_met/minimize_free_energy.py:25: RuntimeWarning: overflow encountered in exp\n",
      "  - np.sum(np.log(1 + np.nan_to_num(np.exp(-beta * bdg_energies))), axis=-1) / beta\n"
     ]
    },
    {
     "name": "stdout",
     "output_type": "stream",
     "text": [
      "U = 4.688888888888888\n",
      "[0.02993405 0.02991944]\n",
      "Time taken to solve the gap equation: 5.87 seconds\n"
     ]
    },
    {
     "name": "stderr",
     "output_type": "stream",
     "text": [
      "/home/tjark/Projects/quant-met/src/quant_met/minimize_free_energy.py:25: RuntimeWarning: overflow encountered in exp\n",
      "  - np.sum(np.log(1 + np.nan_to_num(np.exp(-beta * bdg_energies))), axis=-1) / beta\n",
      "/home/tjark/Projects/quant-met/src/quant_met/minimize_free_energy.py:25: RuntimeWarning: overflow encountered in exp\n",
      "  - np.sum(np.log(1 + np.nan_to_num(np.exp(-beta * bdg_energies))), axis=-1) / beta\n",
      "/home/tjark/Projects/quant-met/src/quant_met/minimize_free_energy.py:25: RuntimeWarning: overflow encountered in exp\n",
      "  - np.sum(np.log(1 + np.nan_to_num(np.exp(-beta * bdg_energies))), axis=-1) / beta\n",
      "/home/tjark/Projects/quant-met/src/quant_met/minimize_free_energy.py:25: RuntimeWarning: overflow encountered in exp\n",
      "  - np.sum(np.log(1 + np.nan_to_num(np.exp(-beta * bdg_energies))), axis=-1) / beta\n",
      "/home/tjark/Projects/quant-met/src/quant_met/minimize_free_energy.py:25: RuntimeWarning: overflow encountered in exp\n",
      "  - np.sum(np.log(1 + np.nan_to_num(np.exp(-beta * bdg_energies))), axis=-1) / beta\n",
      "/home/tjark/Projects/quant-met/src/quant_met/minimize_free_energy.py:25: RuntimeWarning: overflow encountered in exp\n",
      "  - np.sum(np.log(1 + np.nan_to_num(np.exp(-beta * bdg_energies))), axis=-1) / beta\n",
      "/home/tjark/Projects/quant-met/src/quant_met/minimize_free_energy.py:25: RuntimeWarning: overflow encountered in exp\n",
      "  - np.sum(np.log(1 + np.nan_to_num(np.exp(-beta * bdg_energies))), axis=-1) / beta\n",
      "/home/tjark/Projects/quant-met/src/quant_met/minimize_free_energy.py:25: RuntimeWarning: overflow encountered in exp\n",
      "  - np.sum(np.log(1 + np.nan_to_num(np.exp(-beta * bdg_energies))), axis=-1) / beta\n",
      "/home/tjark/Projects/quant-met/src/quant_met/minimize_free_energy.py:25: RuntimeWarning: overflow encountered in exp\n",
      "  - np.sum(np.log(1 + np.nan_to_num(np.exp(-beta * bdg_energies))), axis=-1) / beta\n",
      "/home/tjark/Projects/quant-met/src/quant_met/minimize_free_energy.py:25: RuntimeWarning: overflow encountered in exp\n",
      "  - np.sum(np.log(1 + np.nan_to_num(np.exp(-beta * bdg_energies))), axis=-1) / beta\n",
      "/home/tjark/Projects/quant-met/src/quant_met/minimize_free_energy.py:25: RuntimeWarning: overflow encountered in exp\n",
      "  - np.sum(np.log(1 + np.nan_to_num(np.exp(-beta * bdg_energies))), axis=-1) / beta\n"
     ]
    },
    {
     "name": "stdout",
     "output_type": "stream",
     "text": [
      "U = 5.344444444444444\n",
      "[0.03788284 0.03784811]\n",
      "Time taken to solve the gap equation: 5.31 seconds\n"
     ]
    },
    {
     "name": "stderr",
     "output_type": "stream",
     "text": [
      "/home/tjark/Projects/quant-met/src/quant_met/minimize_free_energy.py:25: RuntimeWarning: overflow encountered in exp\n",
      "  - np.sum(np.log(1 + np.nan_to_num(np.exp(-beta * bdg_energies))), axis=-1) / beta\n",
      "/home/tjark/Projects/quant-met/src/quant_met/minimize_free_energy.py:25: RuntimeWarning: overflow encountered in exp\n",
      "  - np.sum(np.log(1 + np.nan_to_num(np.exp(-beta * bdg_energies))), axis=-1) / beta\n",
      "/home/tjark/Projects/quant-met/src/quant_met/minimize_free_energy.py:25: RuntimeWarning: overflow encountered in exp\n",
      "  - np.sum(np.log(1 + np.nan_to_num(np.exp(-beta * bdg_energies))), axis=-1) / beta\n",
      "/home/tjark/Projects/quant-met/src/quant_met/minimize_free_energy.py:25: RuntimeWarning: overflow encountered in exp\n",
      "  - np.sum(np.log(1 + np.nan_to_num(np.exp(-beta * bdg_energies))), axis=-1) / beta\n",
      "/home/tjark/Projects/quant-met/src/quant_met/minimize_free_energy.py:25: RuntimeWarning: overflow encountered in exp\n",
      "  - np.sum(np.log(1 + np.nan_to_num(np.exp(-beta * bdg_energies))), axis=-1) / beta\n",
      "/home/tjark/Projects/quant-met/src/quant_met/minimize_free_energy.py:25: RuntimeWarning: overflow encountered in exp\n",
      "  - np.sum(np.log(1 + np.nan_to_num(np.exp(-beta * bdg_energies))), axis=-1) / beta\n",
      "/home/tjark/Projects/quant-met/src/quant_met/minimize_free_energy.py:25: RuntimeWarning: overflow encountered in exp\n",
      "  - np.sum(np.log(1 + np.nan_to_num(np.exp(-beta * bdg_energies))), axis=-1) / beta\n",
      "/home/tjark/Projects/quant-met/src/quant_met/minimize_free_energy.py:25: RuntimeWarning: overflow encountered in exp\n",
      "  - np.sum(np.log(1 + np.nan_to_num(np.exp(-beta * bdg_energies))), axis=-1) / beta\n",
      "/home/tjark/Projects/quant-met/src/quant_met/minimize_free_energy.py:25: RuntimeWarning: overflow encountered in exp\n",
      "  - np.sum(np.log(1 + np.nan_to_num(np.exp(-beta * bdg_energies))), axis=-1) / beta\n",
      "/home/tjark/Projects/quant-met/src/quant_met/minimize_free_energy.py:25: RuntimeWarning: overflow encountered in exp\n",
      "  - np.sum(np.log(1 + np.nan_to_num(np.exp(-beta * bdg_energies))), axis=-1) / beta\n",
      "/home/tjark/Projects/quant-met/src/quant_met/minimize_free_energy.py:25: RuntimeWarning: overflow encountered in exp\n",
      "  - np.sum(np.log(1 + np.nan_to_num(np.exp(-beta * bdg_energies))), axis=-1) / beta\n"
     ]
    },
    {
     "name": "stdout",
     "output_type": "stream",
     "text": [
      "U = 6.0\n",
      "[0.03881738 0.03867693]\n",
      "Time taken to solve the gap equation: 5.33 seconds\n"
     ]
    },
    {
     "name": "stderr",
     "output_type": "stream",
     "text": [
      "/home/tjark/Projects/quant-met/src/quant_met/minimize_free_energy.py:25: RuntimeWarning: overflow encountered in exp\n",
      "  - np.sum(np.log(1 + np.nan_to_num(np.exp(-beta * bdg_energies))), axis=-1) / beta\n",
      "/home/tjark/Projects/quant-met/src/quant_met/minimize_free_energy.py:25: RuntimeWarning: overflow encountered in exp\n",
      "  - np.sum(np.log(1 + np.nan_to_num(np.exp(-beta * bdg_energies))), axis=-1) / beta\n",
      "/home/tjark/Projects/quant-met/src/quant_met/minimize_free_energy.py:25: RuntimeWarning: overflow encountered in exp\n",
      "  - np.sum(np.log(1 + np.nan_to_num(np.exp(-beta * bdg_energies))), axis=-1) / beta\n",
      "/home/tjark/Projects/quant-met/src/quant_met/minimize_free_energy.py:25: RuntimeWarning: overflow encountered in exp\n",
      "  - np.sum(np.log(1 + np.nan_to_num(np.exp(-beta * bdg_energies))), axis=-1) / beta\n",
      "/home/tjark/Projects/quant-met/src/quant_met/minimize_free_energy.py:25: RuntimeWarning: overflow encountered in exp\n",
      "  - np.sum(np.log(1 + np.nan_to_num(np.exp(-beta * bdg_energies))), axis=-1) / beta\n",
      "/home/tjark/Projects/quant-met/src/quant_met/minimize_free_energy.py:25: RuntimeWarning: overflow encountered in exp\n",
      "  - np.sum(np.log(1 + np.nan_to_num(np.exp(-beta * bdg_energies))), axis=-1) / beta\n",
      "/home/tjark/Projects/quant-met/src/quant_met/minimize_free_energy.py:25: RuntimeWarning: overflow encountered in exp\n",
      "  - np.sum(np.log(1 + np.nan_to_num(np.exp(-beta * bdg_energies))), axis=-1) / beta\n",
      "/home/tjark/Projects/quant-met/src/quant_met/minimize_free_energy.py:25: RuntimeWarning: overflow encountered in exp\n",
      "  - np.sum(np.log(1 + np.nan_to_num(np.exp(-beta * bdg_energies))), axis=-1) / beta\n",
      "/home/tjark/Projects/quant-met/src/quant_met/minimize_free_energy.py:25: RuntimeWarning: overflow encountered in exp\n",
      "  - np.sum(np.log(1 + np.nan_to_num(np.exp(-beta * bdg_energies))), axis=-1) / beta\n",
      "/home/tjark/Projects/quant-met/src/quant_met/minimize_free_energy.py:25: RuntimeWarning: overflow encountered in exp\n",
      "  - np.sum(np.log(1 + np.nan_to_num(np.exp(-beta * bdg_energies))), axis=-1) / beta\n",
      "/home/tjark/Projects/quant-met/src/quant_met/minimize_free_energy.py:25: RuntimeWarning: overflow encountered in exp\n",
      "  - np.sum(np.log(1 + np.nan_to_num(np.exp(-beta * bdg_energies))), axis=-1) / beta\n"
     ]
    },
    {
     "name": "stdout",
     "output_type": "stream",
     "text": [
      "U = 0.1\n",
      "[0. 0.]\n",
      "Time taken to solve the gap equation: 3.89 seconds\n"
     ]
    },
    {
     "name": "stderr",
     "output_type": "stream",
     "text": [
      "/home/tjark/Projects/quant-met/src/quant_met/minimize_free_energy.py:25: RuntimeWarning: overflow encountered in exp\n",
      "  - np.sum(np.log(1 + np.nan_to_num(np.exp(-beta * bdg_energies))), axis=-1) / beta\n",
      "/home/tjark/Projects/quant-met/src/quant_met/minimize_free_energy.py:25: RuntimeWarning: overflow encountered in exp\n",
      "  - np.sum(np.log(1 + np.nan_to_num(np.exp(-beta * bdg_energies))), axis=-1) / beta\n",
      "/home/tjark/Projects/quant-met/src/quant_met/minimize_free_energy.py:25: RuntimeWarning: overflow encountered in exp\n",
      "  - np.sum(np.log(1 + np.nan_to_num(np.exp(-beta * bdg_energies))), axis=-1) / beta\n",
      "/home/tjark/Projects/quant-met/src/quant_met/minimize_free_energy.py:25: RuntimeWarning: overflow encountered in exp\n",
      "  - np.sum(np.log(1 + np.nan_to_num(np.exp(-beta * bdg_energies))), axis=-1) / beta\n",
      "/home/tjark/Projects/quant-met/src/quant_met/minimize_free_energy.py:25: RuntimeWarning: overflow encountered in exp\n",
      "  - np.sum(np.log(1 + np.nan_to_num(np.exp(-beta * bdg_energies))), axis=-1) / beta\n",
      "/home/tjark/Projects/quant-met/src/quant_met/minimize_free_energy.py:25: RuntimeWarning: overflow encountered in exp\n",
      "  - np.sum(np.log(1 + np.nan_to_num(np.exp(-beta * bdg_energies))), axis=-1) / beta\n",
      "/home/tjark/Projects/quant-met/src/quant_met/minimize_free_energy.py:25: RuntimeWarning: overflow encountered in exp\n",
      "  - np.sum(np.log(1 + np.nan_to_num(np.exp(-beta * bdg_energies))), axis=-1) / beta\n",
      "/home/tjark/Projects/quant-met/src/quant_met/minimize_free_energy.py:25: RuntimeWarning: overflow encountered in exp\n",
      "  - np.sum(np.log(1 + np.nan_to_num(np.exp(-beta * bdg_energies))), axis=-1) / beta\n",
      "/home/tjark/Projects/quant-met/src/quant_met/minimize_free_energy.py:25: RuntimeWarning: overflow encountered in exp\n",
      "  - np.sum(np.log(1 + np.nan_to_num(np.exp(-beta * bdg_energies))), axis=-1) / beta\n",
      "/home/tjark/Projects/quant-met/src/quant_met/minimize_free_energy.py:25: RuntimeWarning: overflow encountered in exp\n",
      "  - np.sum(np.log(1 + np.nan_to_num(np.exp(-beta * bdg_energies))), axis=-1) / beta\n",
      "/home/tjark/Projects/quant-met/src/quant_met/minimize_free_energy.py:25: RuntimeWarning: overflow encountered in exp\n",
      "  - np.sum(np.log(1 + np.nan_to_num(np.exp(-beta * bdg_energies))), axis=-1) / beta\n"
     ]
    },
    {
     "name": "stdout",
     "output_type": "stream",
     "text": [
      "U = 0.7555555555555555\n",
      "[0. 0.]\n",
      "Time taken to solve the gap equation: 3.99 seconds\n"
     ]
    },
    {
     "name": "stderr",
     "output_type": "stream",
     "text": [
      "/home/tjark/Projects/quant-met/src/quant_met/minimize_free_energy.py:25: RuntimeWarning: overflow encountered in exp\n",
      "  - np.sum(np.log(1 + np.nan_to_num(np.exp(-beta * bdg_energies))), axis=-1) / beta\n",
      "/home/tjark/Projects/quant-met/src/quant_met/minimize_free_energy.py:25: RuntimeWarning: overflow encountered in exp\n",
      "  - np.sum(np.log(1 + np.nan_to_num(np.exp(-beta * bdg_energies))), axis=-1) / beta\n",
      "/home/tjark/Projects/quant-met/src/quant_met/minimize_free_energy.py:25: RuntimeWarning: overflow encountered in exp\n",
      "  - np.sum(np.log(1 + np.nan_to_num(np.exp(-beta * bdg_energies))), axis=-1) / beta\n",
      "/home/tjark/Projects/quant-met/src/quant_met/minimize_free_energy.py:25: RuntimeWarning: overflow encountered in exp\n",
      "  - np.sum(np.log(1 + np.nan_to_num(np.exp(-beta * bdg_energies))), axis=-1) / beta\n",
      "/home/tjark/Projects/quant-met/src/quant_met/minimize_free_energy.py:25: RuntimeWarning: overflow encountered in exp\n",
      "  - np.sum(np.log(1 + np.nan_to_num(np.exp(-beta * bdg_energies))), axis=-1) / beta\n",
      "/home/tjark/Projects/quant-met/src/quant_met/minimize_free_energy.py:25: RuntimeWarning: overflow encountered in exp\n",
      "  - np.sum(np.log(1 + np.nan_to_num(np.exp(-beta * bdg_energies))), axis=-1) / beta\n",
      "/home/tjark/Projects/quant-met/src/quant_met/minimize_free_energy.py:25: RuntimeWarning: overflow encountered in exp\n",
      "  - np.sum(np.log(1 + np.nan_to_num(np.exp(-beta * bdg_energies))), axis=-1) / beta\n",
      "/home/tjark/Projects/quant-met/src/quant_met/minimize_free_energy.py:25: RuntimeWarning: overflow encountered in exp\n",
      "  - np.sum(np.log(1 + np.nan_to_num(np.exp(-beta * bdg_energies))), axis=-1) / beta\n",
      "/home/tjark/Projects/quant-met/src/quant_met/minimize_free_energy.py:25: RuntimeWarning: overflow encountered in exp\n",
      "  - np.sum(np.log(1 + np.nan_to_num(np.exp(-beta * bdg_energies))), axis=-1) / beta\n",
      "/home/tjark/Projects/quant-met/src/quant_met/minimize_free_energy.py:25: RuntimeWarning: overflow encountered in exp\n",
      "  - np.sum(np.log(1 + np.nan_to_num(np.exp(-beta * bdg_energies))), axis=-1) / beta\n",
      "/home/tjark/Projects/quant-met/src/quant_met/minimize_free_energy.py:25: RuntimeWarning: overflow encountered in exp\n",
      "  - np.sum(np.log(1 + np.nan_to_num(np.exp(-beta * bdg_energies))), axis=-1) / beta\n"
     ]
    },
    {
     "name": "stdout",
     "output_type": "stream",
     "text": [
      "U = 1.4111111111111112\n",
      "[0. 0.]\n",
      "Time taken to solve the gap equation: 4.80 seconds\n"
     ]
    },
    {
     "name": "stderr",
     "output_type": "stream",
     "text": [
      "/home/tjark/Projects/quant-met/src/quant_met/minimize_free_energy.py:25: RuntimeWarning: overflow encountered in exp\n",
      "  - np.sum(np.log(1 + np.nan_to_num(np.exp(-beta * bdg_energies))), axis=-1) / beta\n",
      "/home/tjark/Projects/quant-met/src/quant_met/minimize_free_energy.py:25: RuntimeWarning: overflow encountered in exp\n",
      "  - np.sum(np.log(1 + np.nan_to_num(np.exp(-beta * bdg_energies))), axis=-1) / beta\n",
      "/home/tjark/Projects/quant-met/src/quant_met/minimize_free_energy.py:25: RuntimeWarning: overflow encountered in exp\n",
      "  - np.sum(np.log(1 + np.nan_to_num(np.exp(-beta * bdg_energies))), axis=-1) / beta\n",
      "/home/tjark/Projects/quant-met/src/quant_met/minimize_free_energy.py:25: RuntimeWarning: overflow encountered in exp\n",
      "  - np.sum(np.log(1 + np.nan_to_num(np.exp(-beta * bdg_energies))), axis=-1) / beta\n",
      "/home/tjark/Projects/quant-met/src/quant_met/minimize_free_energy.py:25: RuntimeWarning: overflow encountered in exp\n",
      "  - np.sum(np.log(1 + np.nan_to_num(np.exp(-beta * bdg_energies))), axis=-1) / beta\n",
      "/home/tjark/Projects/quant-met/src/quant_met/minimize_free_energy.py:25: RuntimeWarning: overflow encountered in exp\n",
      "  - np.sum(np.log(1 + np.nan_to_num(np.exp(-beta * bdg_energies))), axis=-1) / beta\n",
      "/home/tjark/Projects/quant-met/src/quant_met/minimize_free_energy.py:25: RuntimeWarning: overflow encountered in exp\n",
      "  - np.sum(np.log(1 + np.nan_to_num(np.exp(-beta * bdg_energies))), axis=-1) / beta\n",
      "/home/tjark/Projects/quant-met/src/quant_met/minimize_free_energy.py:25: RuntimeWarning: overflow encountered in exp\n",
      "  - np.sum(np.log(1 + np.nan_to_num(np.exp(-beta * bdg_energies))), axis=-1) / beta\n",
      "/home/tjark/Projects/quant-met/src/quant_met/minimize_free_energy.py:25: RuntimeWarning: overflow encountered in exp\n",
      "  - np.sum(np.log(1 + np.nan_to_num(np.exp(-beta * bdg_energies))), axis=-1) / beta\n",
      "/home/tjark/Projects/quant-met/src/quant_met/minimize_free_energy.py:25: RuntimeWarning: overflow encountered in exp\n",
      "  - np.sum(np.log(1 + np.nan_to_num(np.exp(-beta * bdg_energies))), axis=-1) / beta\n",
      "/home/tjark/Projects/quant-met/src/quant_met/minimize_free_energy.py:25: RuntimeWarning: overflow encountered in exp\n",
      "  - np.sum(np.log(1 + np.nan_to_num(np.exp(-beta * bdg_energies))), axis=-1) / beta\n"
     ]
    },
    {
     "name": "stdout",
     "output_type": "stream",
     "text": [
      "U = 2.066666666666667\n",
      "[0. 0.]\n",
      "Time taken to solve the gap equation: 4.34 seconds\n"
     ]
    },
    {
     "name": "stderr",
     "output_type": "stream",
     "text": [
      "/home/tjark/Projects/quant-met/src/quant_met/minimize_free_energy.py:25: RuntimeWarning: overflow encountered in exp\n",
      "  - np.sum(np.log(1 + np.nan_to_num(np.exp(-beta * bdg_energies))), axis=-1) / beta\n",
      "/home/tjark/Projects/quant-met/src/quant_met/minimize_free_energy.py:25: RuntimeWarning: overflow encountered in exp\n",
      "  - np.sum(np.log(1 + np.nan_to_num(np.exp(-beta * bdg_energies))), axis=-1) / beta\n",
      "/home/tjark/Projects/quant-met/src/quant_met/minimize_free_energy.py:25: RuntimeWarning: overflow encountered in exp\n",
      "  - np.sum(np.log(1 + np.nan_to_num(np.exp(-beta * bdg_energies))), axis=-1) / beta\n",
      "/home/tjark/Projects/quant-met/src/quant_met/minimize_free_energy.py:25: RuntimeWarning: overflow encountered in exp\n",
      "  - np.sum(np.log(1 + np.nan_to_num(np.exp(-beta * bdg_energies))), axis=-1) / beta\n",
      "/home/tjark/Projects/quant-met/src/quant_met/minimize_free_energy.py:25: RuntimeWarning: overflow encountered in exp\n",
      "  - np.sum(np.log(1 + np.nan_to_num(np.exp(-beta * bdg_energies))), axis=-1) / beta\n",
      "/home/tjark/Projects/quant-met/src/quant_met/minimize_free_energy.py:25: RuntimeWarning: overflow encountered in exp\n",
      "  - np.sum(np.log(1 + np.nan_to_num(np.exp(-beta * bdg_energies))), axis=-1) / beta\n",
      "/home/tjark/Projects/quant-met/src/quant_met/minimize_free_energy.py:25: RuntimeWarning: overflow encountered in exp\n",
      "  - np.sum(np.log(1 + np.nan_to_num(np.exp(-beta * bdg_energies))), axis=-1) / beta\n",
      "/home/tjark/Projects/quant-met/src/quant_met/minimize_free_energy.py:25: RuntimeWarning: overflow encountered in exp\n",
      "  - np.sum(np.log(1 + np.nan_to_num(np.exp(-beta * bdg_energies))), axis=-1) / beta\n",
      "/home/tjark/Projects/quant-met/src/quant_met/minimize_free_energy.py:25: RuntimeWarning: overflow encountered in exp\n",
      "  - np.sum(np.log(1 + np.nan_to_num(np.exp(-beta * bdg_energies))), axis=-1) / beta\n",
      "/home/tjark/Projects/quant-met/src/quant_met/minimize_free_energy.py:25: RuntimeWarning: overflow encountered in exp\n",
      "  - np.sum(np.log(1 + np.nan_to_num(np.exp(-beta * bdg_energies))), axis=-1) / beta\n",
      "/home/tjark/Projects/quant-met/src/quant_met/minimize_free_energy.py:25: RuntimeWarning: overflow encountered in exp\n",
      "  - np.sum(np.log(1 + np.nan_to_num(np.exp(-beta * bdg_energies))), axis=-1) / beta\n"
     ]
    },
    {
     "name": "stdout",
     "output_type": "stream",
     "text": [
      "U = 2.7222222222222223\n",
      "[0.01661485 0.01663921]\n",
      "Time taken to solve the gap equation: 6.28 seconds\n"
     ]
    },
    {
     "name": "stderr",
     "output_type": "stream",
     "text": [
      "/home/tjark/Projects/quant-met/src/quant_met/minimize_free_energy.py:25: RuntimeWarning: overflow encountered in exp\n",
      "  - np.sum(np.log(1 + np.nan_to_num(np.exp(-beta * bdg_energies))), axis=-1) / beta\n",
      "/home/tjark/Projects/quant-met/src/quant_met/minimize_free_energy.py:25: RuntimeWarning: overflow encountered in exp\n",
      "  - np.sum(np.log(1 + np.nan_to_num(np.exp(-beta * bdg_energies))), axis=-1) / beta\n",
      "/home/tjark/Projects/quant-met/src/quant_met/minimize_free_energy.py:25: RuntimeWarning: overflow encountered in exp\n",
      "  - np.sum(np.log(1 + np.nan_to_num(np.exp(-beta * bdg_energies))), axis=-1) / beta\n",
      "/home/tjark/Projects/quant-met/src/quant_met/minimize_free_energy.py:25: RuntimeWarning: overflow encountered in exp\n",
      "  - np.sum(np.log(1 + np.nan_to_num(np.exp(-beta * bdg_energies))), axis=-1) / beta\n",
      "/home/tjark/Projects/quant-met/src/quant_met/minimize_free_energy.py:25: RuntimeWarning: overflow encountered in exp\n",
      "  - np.sum(np.log(1 + np.nan_to_num(np.exp(-beta * bdg_energies))), axis=-1) / beta\n",
      "/home/tjark/Projects/quant-met/src/quant_met/minimize_free_energy.py:25: RuntimeWarning: overflow encountered in exp\n",
      "  - np.sum(np.log(1 + np.nan_to_num(np.exp(-beta * bdg_energies))), axis=-1) / beta\n",
      "/home/tjark/Projects/quant-met/src/quant_met/minimize_free_energy.py:25: RuntimeWarning: overflow encountered in exp\n",
      "  - np.sum(np.log(1 + np.nan_to_num(np.exp(-beta * bdg_energies))), axis=-1) / beta\n",
      "/home/tjark/Projects/quant-met/src/quant_met/minimize_free_energy.py:25: RuntimeWarning: overflow encountered in exp\n",
      "  - np.sum(np.log(1 + np.nan_to_num(np.exp(-beta * bdg_energies))), axis=-1) / beta\n",
      "/home/tjark/Projects/quant-met/src/quant_met/minimize_free_energy.py:25: RuntimeWarning: overflow encountered in exp\n",
      "  - np.sum(np.log(1 + np.nan_to_num(np.exp(-beta * bdg_energies))), axis=-1) / beta\n",
      "/home/tjark/Projects/quant-met/src/quant_met/minimize_free_energy.py:25: RuntimeWarning: overflow encountered in exp\n",
      "  - np.sum(np.log(1 + np.nan_to_num(np.exp(-beta * bdg_energies))), axis=-1) / beta\n",
      "/home/tjark/Projects/quant-met/src/quant_met/minimize_free_energy.py:25: RuntimeWarning: overflow encountered in exp\n",
      "  - np.sum(np.log(1 + np.nan_to_num(np.exp(-beta * bdg_energies))), axis=-1) / beta\n"
     ]
    },
    {
     "name": "stdout",
     "output_type": "stream",
     "text": [
      "U = 3.3777777777777778\n",
      "[0.03692741 0.03692209]\n",
      "Time taken to solve the gap equation: 5.41 seconds\n"
     ]
    },
    {
     "name": "stderr",
     "output_type": "stream",
     "text": [
      "/home/tjark/Projects/quant-met/src/quant_met/minimize_free_energy.py:25: RuntimeWarning: overflow encountered in exp\n",
      "  - np.sum(np.log(1 + np.nan_to_num(np.exp(-beta * bdg_energies))), axis=-1) / beta\n",
      "/home/tjark/Projects/quant-met/src/quant_met/minimize_free_energy.py:25: RuntimeWarning: overflow encountered in exp\n",
      "  - np.sum(np.log(1 + np.nan_to_num(np.exp(-beta * bdg_energies))), axis=-1) / beta\n",
      "/home/tjark/Projects/quant-met/src/quant_met/minimize_free_energy.py:25: RuntimeWarning: overflow encountered in exp\n",
      "  - np.sum(np.log(1 + np.nan_to_num(np.exp(-beta * bdg_energies))), axis=-1) / beta\n",
      "/home/tjark/Projects/quant-met/src/quant_met/minimize_free_energy.py:25: RuntimeWarning: overflow encountered in exp\n",
      "  - np.sum(np.log(1 + np.nan_to_num(np.exp(-beta * bdg_energies))), axis=-1) / beta\n",
      "/home/tjark/Projects/quant-met/src/quant_met/minimize_free_energy.py:25: RuntimeWarning: overflow encountered in exp\n",
      "  - np.sum(np.log(1 + np.nan_to_num(np.exp(-beta * bdg_energies))), axis=-1) / beta\n",
      "/home/tjark/Projects/quant-met/src/quant_met/minimize_free_energy.py:25: RuntimeWarning: overflow encountered in exp\n",
      "  - np.sum(np.log(1 + np.nan_to_num(np.exp(-beta * bdg_energies))), axis=-1) / beta\n",
      "/home/tjark/Projects/quant-met/src/quant_met/minimize_free_energy.py:25: RuntimeWarning: overflow encountered in exp\n",
      "  - np.sum(np.log(1 + np.nan_to_num(np.exp(-beta * bdg_energies))), axis=-1) / beta\n",
      "/home/tjark/Projects/quant-met/src/quant_met/minimize_free_energy.py:25: RuntimeWarning: overflow encountered in exp\n",
      "  - np.sum(np.log(1 + np.nan_to_num(np.exp(-beta * bdg_energies))), axis=-1) / beta\n",
      "/home/tjark/Projects/quant-met/src/quant_met/minimize_free_energy.py:25: RuntimeWarning: overflow encountered in exp\n",
      "  - np.sum(np.log(1 + np.nan_to_num(np.exp(-beta * bdg_energies))), axis=-1) / beta\n",
      "/home/tjark/Projects/quant-met/src/quant_met/minimize_free_energy.py:25: RuntimeWarning: overflow encountered in exp\n",
      "  - np.sum(np.log(1 + np.nan_to_num(np.exp(-beta * bdg_energies))), axis=-1) / beta\n",
      "/home/tjark/Projects/quant-met/src/quant_met/minimize_free_energy.py:25: RuntimeWarning: overflow encountered in exp\n",
      "  - np.sum(np.log(1 + np.nan_to_num(np.exp(-beta * bdg_energies))), axis=-1) / beta\n"
     ]
    },
    {
     "name": "stdout",
     "output_type": "stream",
     "text": [
      "U = 4.033333333333333\n",
      "[0.06185771 0.06183982]\n",
      "Time taken to solve the gap equation: 5.54 seconds\n"
     ]
    },
    {
     "name": "stderr",
     "output_type": "stream",
     "text": [
      "/home/tjark/Projects/quant-met/src/quant_met/minimize_free_energy.py:25: RuntimeWarning: overflow encountered in exp\n",
      "  - np.sum(np.log(1 + np.nan_to_num(np.exp(-beta * bdg_energies))), axis=-1) / beta\n",
      "/home/tjark/Projects/quant-met/src/quant_met/minimize_free_energy.py:25: RuntimeWarning: overflow encountered in exp\n",
      "  - np.sum(np.log(1 + np.nan_to_num(np.exp(-beta * bdg_energies))), axis=-1) / beta\n",
      "/home/tjark/Projects/quant-met/src/quant_met/minimize_free_energy.py:25: RuntimeWarning: overflow encountered in exp\n",
      "  - np.sum(np.log(1 + np.nan_to_num(np.exp(-beta * bdg_energies))), axis=-1) / beta\n",
      "/home/tjark/Projects/quant-met/src/quant_met/minimize_free_energy.py:25: RuntimeWarning: overflow encountered in exp\n",
      "  - np.sum(np.log(1 + np.nan_to_num(np.exp(-beta * bdg_energies))), axis=-1) / beta\n",
      "/home/tjark/Projects/quant-met/src/quant_met/minimize_free_energy.py:25: RuntimeWarning: overflow encountered in exp\n",
      "  - np.sum(np.log(1 + np.nan_to_num(np.exp(-beta * bdg_energies))), axis=-1) / beta\n",
      "/home/tjark/Projects/quant-met/src/quant_met/minimize_free_energy.py:25: RuntimeWarning: overflow encountered in exp\n",
      "  - np.sum(np.log(1 + np.nan_to_num(np.exp(-beta * bdg_energies))), axis=-1) / beta\n",
      "/home/tjark/Projects/quant-met/src/quant_met/minimize_free_energy.py:25: RuntimeWarning: overflow encountered in exp\n",
      "  - np.sum(np.log(1 + np.nan_to_num(np.exp(-beta * bdg_energies))), axis=-1) / beta\n",
      "/home/tjark/Projects/quant-met/src/quant_met/minimize_free_energy.py:25: RuntimeWarning: overflow encountered in exp\n",
      "  - np.sum(np.log(1 + np.nan_to_num(np.exp(-beta * bdg_energies))), axis=-1) / beta\n",
      "/home/tjark/Projects/quant-met/src/quant_met/minimize_free_energy.py:25: RuntimeWarning: overflow encountered in exp\n",
      "  - np.sum(np.log(1 + np.nan_to_num(np.exp(-beta * bdg_energies))), axis=-1) / beta\n",
      "/home/tjark/Projects/quant-met/src/quant_met/minimize_free_energy.py:25: RuntimeWarning: overflow encountered in exp\n",
      "  - np.sum(np.log(1 + np.nan_to_num(np.exp(-beta * bdg_energies))), axis=-1) / beta\n",
      "/home/tjark/Projects/quant-met/src/quant_met/minimize_free_energy.py:25: RuntimeWarning: overflow encountered in exp\n",
      "  - np.sum(np.log(1 + np.nan_to_num(np.exp(-beta * bdg_energies))), axis=-1) / beta\n"
     ]
    },
    {
     "name": "stdout",
     "output_type": "stream",
     "text": [
      "U = 4.688888888888888\n",
      "[0.09447291 0.09452472]\n",
      "Time taken to solve the gap equation: 5.81 seconds\n"
     ]
    },
    {
     "name": "stderr",
     "output_type": "stream",
     "text": [
      "/home/tjark/Projects/quant-met/src/quant_met/minimize_free_energy.py:25: RuntimeWarning: overflow encountered in exp\n",
      "  - np.sum(np.log(1 + np.nan_to_num(np.exp(-beta * bdg_energies))), axis=-1) / beta\n",
      "/home/tjark/Projects/quant-met/src/quant_met/minimize_free_energy.py:25: RuntimeWarning: overflow encountered in exp\n",
      "  - np.sum(np.log(1 + np.nan_to_num(np.exp(-beta * bdg_energies))), axis=-1) / beta\n",
      "/home/tjark/Projects/quant-met/src/quant_met/minimize_free_energy.py:25: RuntimeWarning: overflow encountered in exp\n",
      "  - np.sum(np.log(1 + np.nan_to_num(np.exp(-beta * bdg_energies))), axis=-1) / beta\n",
      "/home/tjark/Projects/quant-met/src/quant_met/minimize_free_energy.py:25: RuntimeWarning: overflow encountered in exp\n",
      "  - np.sum(np.log(1 + np.nan_to_num(np.exp(-beta * bdg_energies))), axis=-1) / beta\n",
      "/home/tjark/Projects/quant-met/src/quant_met/minimize_free_energy.py:25: RuntimeWarning: overflow encountered in exp\n",
      "  - np.sum(np.log(1 + np.nan_to_num(np.exp(-beta * bdg_energies))), axis=-1) / beta\n",
      "/home/tjark/Projects/quant-met/src/quant_met/minimize_free_energy.py:25: RuntimeWarning: overflow encountered in exp\n",
      "  - np.sum(np.log(1 + np.nan_to_num(np.exp(-beta * bdg_energies))), axis=-1) / beta\n",
      "/home/tjark/Projects/quant-met/src/quant_met/minimize_free_energy.py:25: RuntimeWarning: overflow encountered in exp\n",
      "  - np.sum(np.log(1 + np.nan_to_num(np.exp(-beta * bdg_energies))), axis=-1) / beta\n",
      "/home/tjark/Projects/quant-met/src/quant_met/minimize_free_energy.py:25: RuntimeWarning: overflow encountered in exp\n",
      "  - np.sum(np.log(1 + np.nan_to_num(np.exp(-beta * bdg_energies))), axis=-1) / beta\n",
      "/home/tjark/Projects/quant-met/src/quant_met/minimize_free_energy.py:25: RuntimeWarning: overflow encountered in exp\n",
      "  - np.sum(np.log(1 + np.nan_to_num(np.exp(-beta * bdg_energies))), axis=-1) / beta\n",
      "/home/tjark/Projects/quant-met/src/quant_met/minimize_free_energy.py:25: RuntimeWarning: overflow encountered in exp\n",
      "  - np.sum(np.log(1 + np.nan_to_num(np.exp(-beta * bdg_energies))), axis=-1) / beta\n",
      "/home/tjark/Projects/quant-met/src/quant_met/minimize_free_energy.py:25: RuntimeWarning: overflow encountered in exp\n",
      "  - np.sum(np.log(1 + np.nan_to_num(np.exp(-beta * bdg_energies))), axis=-1) / beta\n"
     ]
    },
    {
     "name": "stdout",
     "output_type": "stream",
     "text": [
      "U = 5.344444444444444\n",
      "[0.13185523 0.1318942 ]\n",
      "Time taken to solve the gap equation: 5.60 seconds\n"
     ]
    },
    {
     "name": "stderr",
     "output_type": "stream",
     "text": [
      "/home/tjark/Projects/quant-met/src/quant_met/minimize_free_energy.py:25: RuntimeWarning: overflow encountered in exp\n",
      "  - np.sum(np.log(1 + np.nan_to_num(np.exp(-beta * bdg_energies))), axis=-1) / beta\n",
      "/home/tjark/Projects/quant-met/src/quant_met/minimize_free_energy.py:25: RuntimeWarning: overflow encountered in exp\n",
      "  - np.sum(np.log(1 + np.nan_to_num(np.exp(-beta * bdg_energies))), axis=-1) / beta\n",
      "/home/tjark/Projects/quant-met/src/quant_met/minimize_free_energy.py:25: RuntimeWarning: overflow encountered in exp\n",
      "  - np.sum(np.log(1 + np.nan_to_num(np.exp(-beta * bdg_energies))), axis=-1) / beta\n",
      "/home/tjark/Projects/quant-met/src/quant_met/minimize_free_energy.py:25: RuntimeWarning: overflow encountered in exp\n",
      "  - np.sum(np.log(1 + np.nan_to_num(np.exp(-beta * bdg_energies))), axis=-1) / beta\n",
      "/home/tjark/Projects/quant-met/src/quant_met/minimize_free_energy.py:25: RuntimeWarning: overflow encountered in exp\n",
      "  - np.sum(np.log(1 + np.nan_to_num(np.exp(-beta * bdg_energies))), axis=-1) / beta\n",
      "/home/tjark/Projects/quant-met/src/quant_met/minimize_free_energy.py:25: RuntimeWarning: overflow encountered in exp\n",
      "  - np.sum(np.log(1 + np.nan_to_num(np.exp(-beta * bdg_energies))), axis=-1) / beta\n",
      "/home/tjark/Projects/quant-met/src/quant_met/minimize_free_energy.py:25: RuntimeWarning: overflow encountered in exp\n",
      "  - np.sum(np.log(1 + np.nan_to_num(np.exp(-beta * bdg_energies))), axis=-1) / beta\n",
      "/home/tjark/Projects/quant-met/src/quant_met/minimize_free_energy.py:25: RuntimeWarning: overflow encountered in exp\n",
      "  - np.sum(np.log(1 + np.nan_to_num(np.exp(-beta * bdg_energies))), axis=-1) / beta\n",
      "/home/tjark/Projects/quant-met/src/quant_met/minimize_free_energy.py:25: RuntimeWarning: overflow encountered in exp\n",
      "  - np.sum(np.log(1 + np.nan_to_num(np.exp(-beta * bdg_energies))), axis=-1) / beta\n",
      "/home/tjark/Projects/quant-met/src/quant_met/minimize_free_energy.py:25: RuntimeWarning: overflow encountered in exp\n",
      "  - np.sum(np.log(1 + np.nan_to_num(np.exp(-beta * bdg_energies))), axis=-1) / beta\n",
      "/home/tjark/Projects/quant-met/src/quant_met/minimize_free_energy.py:25: RuntimeWarning: overflow encountered in exp\n",
      "  - np.sum(np.log(1 + np.nan_to_num(np.exp(-beta * bdg_energies))), axis=-1) / beta\n"
     ]
    },
    {
     "name": "stdout",
     "output_type": "stream",
     "text": [
      "U = 6.0\n",
      "[0.16661606 0.16662882]\n",
      "Time taken to solve the gap equation: 5.47 seconds\n"
     ]
    },
    {
     "name": "stderr",
     "output_type": "stream",
     "text": [
      "/home/tjark/Projects/quant-met/src/quant_met/minimize_free_energy.py:25: RuntimeWarning: overflow encountered in exp\n",
      "  - np.sum(np.log(1 + np.nan_to_num(np.exp(-beta * bdg_energies))), axis=-1) / beta\n",
      "/home/tjark/Projects/quant-met/src/quant_met/minimize_free_energy.py:25: RuntimeWarning: overflow encountered in exp\n",
      "  - np.sum(np.log(1 + np.nan_to_num(np.exp(-beta * bdg_energies))), axis=-1) / beta\n",
      "/home/tjark/Projects/quant-met/src/quant_met/minimize_free_energy.py:25: RuntimeWarning: overflow encountered in exp\n",
      "  - np.sum(np.log(1 + np.nan_to_num(np.exp(-beta * bdg_energies))), axis=-1) / beta\n",
      "/home/tjark/Projects/quant-met/src/quant_met/minimize_free_energy.py:25: RuntimeWarning: overflow encountered in exp\n",
      "  - np.sum(np.log(1 + np.nan_to_num(np.exp(-beta * bdg_energies))), axis=-1) / beta\n",
      "/home/tjark/Projects/quant-met/src/quant_met/minimize_free_energy.py:25: RuntimeWarning: overflow encountered in exp\n",
      "  - np.sum(np.log(1 + np.nan_to_num(np.exp(-beta * bdg_energies))), axis=-1) / beta\n",
      "/home/tjark/Projects/quant-met/src/quant_met/minimize_free_energy.py:25: RuntimeWarning: overflow encountered in exp\n",
      "  - np.sum(np.log(1 + np.nan_to_num(np.exp(-beta * bdg_energies))), axis=-1) / beta\n",
      "/home/tjark/Projects/quant-met/src/quant_met/minimize_free_energy.py:25: RuntimeWarning: overflow encountered in exp\n",
      "  - np.sum(np.log(1 + np.nan_to_num(np.exp(-beta * bdg_energies))), axis=-1) / beta\n",
      "/home/tjark/Projects/quant-met/src/quant_met/minimize_free_energy.py:25: RuntimeWarning: overflow encountered in exp\n",
      "  - np.sum(np.log(1 + np.nan_to_num(np.exp(-beta * bdg_energies))), axis=-1) / beta\n",
      "/home/tjark/Projects/quant-met/src/quant_met/minimize_free_energy.py:25: RuntimeWarning: overflow encountered in exp\n",
      "  - np.sum(np.log(1 + np.nan_to_num(np.exp(-beta * bdg_energies))), axis=-1) / beta\n",
      "/home/tjark/Projects/quant-met/src/quant_met/minimize_free_energy.py:25: RuntimeWarning: overflow encountered in exp\n",
      "  - np.sum(np.log(1 + np.nan_to_num(np.exp(-beta * bdg_energies))), axis=-1) / beta\n",
      "/home/tjark/Projects/quant-met/src/quant_met/minimize_free_energy.py:25: RuntimeWarning: overflow encountered in exp\n",
      "  - np.sum(np.log(1 + np.nan_to_num(np.exp(-beta * bdg_energies))), axis=-1) / beta\n"
     ]
    },
    {
     "name": "stdout",
     "output_type": "stream",
     "text": [
      "U = 0.1\n",
      "[0. 0.]\n",
      "Time taken to solve the gap equation: 4.50 seconds\n"
     ]
    },
    {
     "name": "stderr",
     "output_type": "stream",
     "text": [
      "/home/tjark/Projects/quant-met/src/quant_met/minimize_free_energy.py:25: RuntimeWarning: overflow encountered in exp\n",
      "  - np.sum(np.log(1 + np.nan_to_num(np.exp(-beta * bdg_energies))), axis=-1) / beta\n",
      "/home/tjark/Projects/quant-met/src/quant_met/minimize_free_energy.py:25: RuntimeWarning: overflow encountered in exp\n",
      "  - np.sum(np.log(1 + np.nan_to_num(np.exp(-beta * bdg_energies))), axis=-1) / beta\n",
      "/home/tjark/Projects/quant-met/src/quant_met/minimize_free_energy.py:25: RuntimeWarning: overflow encountered in exp\n",
      "  - np.sum(np.log(1 + np.nan_to_num(np.exp(-beta * bdg_energies))), axis=-1) / beta\n",
      "/home/tjark/Projects/quant-met/src/quant_met/minimize_free_energy.py:25: RuntimeWarning: overflow encountered in exp\n",
      "  - np.sum(np.log(1 + np.nan_to_num(np.exp(-beta * bdg_energies))), axis=-1) / beta\n",
      "/home/tjark/Projects/quant-met/src/quant_met/minimize_free_energy.py:25: RuntimeWarning: overflow encountered in exp\n",
      "  - np.sum(np.log(1 + np.nan_to_num(np.exp(-beta * bdg_energies))), axis=-1) / beta\n",
      "/home/tjark/Projects/quant-met/src/quant_met/minimize_free_energy.py:25: RuntimeWarning: overflow encountered in exp\n",
      "  - np.sum(np.log(1 + np.nan_to_num(np.exp(-beta * bdg_energies))), axis=-1) / beta\n",
      "/home/tjark/Projects/quant-met/src/quant_met/minimize_free_energy.py:25: RuntimeWarning: overflow encountered in exp\n",
      "  - np.sum(np.log(1 + np.nan_to_num(np.exp(-beta * bdg_energies))), axis=-1) / beta\n",
      "/home/tjark/Projects/quant-met/src/quant_met/minimize_free_energy.py:25: RuntimeWarning: overflow encountered in exp\n",
      "  - np.sum(np.log(1 + np.nan_to_num(np.exp(-beta * bdg_energies))), axis=-1) / beta\n",
      "/home/tjark/Projects/quant-met/src/quant_met/minimize_free_energy.py:25: RuntimeWarning: overflow encountered in exp\n",
      "  - np.sum(np.log(1 + np.nan_to_num(np.exp(-beta * bdg_energies))), axis=-1) / beta\n",
      "/home/tjark/Projects/quant-met/src/quant_met/minimize_free_energy.py:25: RuntimeWarning: overflow encountered in exp\n",
      "  - np.sum(np.log(1 + np.nan_to_num(np.exp(-beta * bdg_energies))), axis=-1) / beta\n",
      "/home/tjark/Projects/quant-met/src/quant_met/minimize_free_energy.py:25: RuntimeWarning: overflow encountered in exp\n",
      "  - np.sum(np.log(1 + np.nan_to_num(np.exp(-beta * bdg_energies))), axis=-1) / beta\n"
     ]
    },
    {
     "name": "stdout",
     "output_type": "stream",
     "text": [
      "U = 0.7555555555555555\n",
      "[0. 0.]\n",
      "Time taken to solve the gap equation: 4.36 seconds\n"
     ]
    },
    {
     "name": "stderr",
     "output_type": "stream",
     "text": [
      "/home/tjark/Projects/quant-met/src/quant_met/minimize_free_energy.py:25: RuntimeWarning: overflow encountered in exp\n",
      "  - np.sum(np.log(1 + np.nan_to_num(np.exp(-beta * bdg_energies))), axis=-1) / beta\n",
      "/home/tjark/Projects/quant-met/src/quant_met/minimize_free_energy.py:25: RuntimeWarning: overflow encountered in exp\n",
      "  - np.sum(np.log(1 + np.nan_to_num(np.exp(-beta * bdg_energies))), axis=-1) / beta\n",
      "/home/tjark/Projects/quant-met/src/quant_met/minimize_free_energy.py:25: RuntimeWarning: overflow encountered in exp\n",
      "  - np.sum(np.log(1 + np.nan_to_num(np.exp(-beta * bdg_energies))), axis=-1) / beta\n",
      "/home/tjark/Projects/quant-met/src/quant_met/minimize_free_energy.py:25: RuntimeWarning: overflow encountered in exp\n",
      "  - np.sum(np.log(1 + np.nan_to_num(np.exp(-beta * bdg_energies))), axis=-1) / beta\n",
      "/home/tjark/Projects/quant-met/src/quant_met/minimize_free_energy.py:25: RuntimeWarning: overflow encountered in exp\n",
      "  - np.sum(np.log(1 + np.nan_to_num(np.exp(-beta * bdg_energies))), axis=-1) / beta\n",
      "/home/tjark/Projects/quant-met/src/quant_met/minimize_free_energy.py:25: RuntimeWarning: overflow encountered in exp\n",
      "  - np.sum(np.log(1 + np.nan_to_num(np.exp(-beta * bdg_energies))), axis=-1) / beta\n",
      "/home/tjark/Projects/quant-met/src/quant_met/minimize_free_energy.py:25: RuntimeWarning: overflow encountered in exp\n",
      "  - np.sum(np.log(1 + np.nan_to_num(np.exp(-beta * bdg_energies))), axis=-1) / beta\n",
      "/home/tjark/Projects/quant-met/src/quant_met/minimize_free_energy.py:25: RuntimeWarning: overflow encountered in exp\n",
      "  - np.sum(np.log(1 + np.nan_to_num(np.exp(-beta * bdg_energies))), axis=-1) / beta\n",
      "/home/tjark/Projects/quant-met/src/quant_met/minimize_free_energy.py:25: RuntimeWarning: overflow encountered in exp\n",
      "  - np.sum(np.log(1 + np.nan_to_num(np.exp(-beta * bdg_energies))), axis=-1) / beta\n",
      "/home/tjark/Projects/quant-met/src/quant_met/minimize_free_energy.py:25: RuntimeWarning: overflow encountered in exp\n",
      "  - np.sum(np.log(1 + np.nan_to_num(np.exp(-beta * bdg_energies))), axis=-1) / beta\n",
      "/home/tjark/Projects/quant-met/src/quant_met/minimize_free_energy.py:25: RuntimeWarning: overflow encountered in exp\n",
      "  - np.sum(np.log(1 + np.nan_to_num(np.exp(-beta * bdg_energies))), axis=-1) / beta\n"
     ]
    },
    {
     "name": "stdout",
     "output_type": "stream",
     "text": [
      "U = 1.4111111111111112\n",
      "[0.04720901 0.04719128]\n",
      "Time taken to solve the gap equation: 5.36 seconds\n"
     ]
    },
    {
     "name": "stderr",
     "output_type": "stream",
     "text": [
      "/home/tjark/Projects/quant-met/src/quant_met/minimize_free_energy.py:25: RuntimeWarning: overflow encountered in exp\n",
      "  - np.sum(np.log(1 + np.nan_to_num(np.exp(-beta * bdg_energies))), axis=-1) / beta\n",
      "/home/tjark/Projects/quant-met/src/quant_met/minimize_free_energy.py:25: RuntimeWarning: overflow encountered in exp\n",
      "  - np.sum(np.log(1 + np.nan_to_num(np.exp(-beta * bdg_energies))), axis=-1) / beta\n",
      "/home/tjark/Projects/quant-met/src/quant_met/minimize_free_energy.py:25: RuntimeWarning: overflow encountered in exp\n",
      "  - np.sum(np.log(1 + np.nan_to_num(np.exp(-beta * bdg_energies))), axis=-1) / beta\n",
      "/home/tjark/Projects/quant-met/src/quant_met/minimize_free_energy.py:25: RuntimeWarning: overflow encountered in exp\n",
      "  - np.sum(np.log(1 + np.nan_to_num(np.exp(-beta * bdg_energies))), axis=-1) / beta\n",
      "/home/tjark/Projects/quant-met/src/quant_met/minimize_free_energy.py:25: RuntimeWarning: overflow encountered in exp\n",
      "  - np.sum(np.log(1 + np.nan_to_num(np.exp(-beta * bdg_energies))), axis=-1) / beta\n",
      "/home/tjark/Projects/quant-met/src/quant_met/minimize_free_energy.py:25: RuntimeWarning: overflow encountered in exp\n",
      "  - np.sum(np.log(1 + np.nan_to_num(np.exp(-beta * bdg_energies))), axis=-1) / beta\n",
      "/home/tjark/Projects/quant-met/src/quant_met/minimize_free_energy.py:25: RuntimeWarning: overflow encountered in exp\n",
      "  - np.sum(np.log(1 + np.nan_to_num(np.exp(-beta * bdg_energies))), axis=-1) / beta\n",
      "/home/tjark/Projects/quant-met/src/quant_met/minimize_free_energy.py:25: RuntimeWarning: overflow encountered in exp\n",
      "  - np.sum(np.log(1 + np.nan_to_num(np.exp(-beta * bdg_energies))), axis=-1) / beta\n",
      "/home/tjark/Projects/quant-met/src/quant_met/minimize_free_energy.py:25: RuntimeWarning: overflow encountered in exp\n",
      "  - np.sum(np.log(1 + np.nan_to_num(np.exp(-beta * bdg_energies))), axis=-1) / beta\n",
      "/home/tjark/Projects/quant-met/src/quant_met/minimize_free_energy.py:25: RuntimeWarning: overflow encountered in exp\n",
      "  - np.sum(np.log(1 + np.nan_to_num(np.exp(-beta * bdg_energies))), axis=-1) / beta\n",
      "/home/tjark/Projects/quant-met/src/quant_met/minimize_free_energy.py:25: RuntimeWarning: overflow encountered in exp\n",
      "  - np.sum(np.log(1 + np.nan_to_num(np.exp(-beta * bdg_energies))), axis=-1) / beta\n"
     ]
    },
    {
     "name": "stdout",
     "output_type": "stream",
     "text": [
      "U = 2.066666666666667\n",
      "[0.12396351 0.12399466]\n",
      "Time taken to solve the gap equation: 5.83 seconds\n"
     ]
    },
    {
     "name": "stderr",
     "output_type": "stream",
     "text": [
      "/home/tjark/Projects/quant-met/src/quant_met/minimize_free_energy.py:25: RuntimeWarning: overflow encountered in exp\n",
      "  - np.sum(np.log(1 + np.nan_to_num(np.exp(-beta * bdg_energies))), axis=-1) / beta\n",
      "/home/tjark/Projects/quant-met/src/quant_met/minimize_free_energy.py:25: RuntimeWarning: overflow encountered in exp\n",
      "  - np.sum(np.log(1 + np.nan_to_num(np.exp(-beta * bdg_energies))), axis=-1) / beta\n",
      "/home/tjark/Projects/quant-met/src/quant_met/minimize_free_energy.py:25: RuntimeWarning: overflow encountered in exp\n",
      "  - np.sum(np.log(1 + np.nan_to_num(np.exp(-beta * bdg_energies))), axis=-1) / beta\n",
      "/home/tjark/Projects/quant-met/src/quant_met/minimize_free_energy.py:25: RuntimeWarning: overflow encountered in exp\n",
      "  - np.sum(np.log(1 + np.nan_to_num(np.exp(-beta * bdg_energies))), axis=-1) / beta\n",
      "/home/tjark/Projects/quant-met/src/quant_met/minimize_free_energy.py:25: RuntimeWarning: overflow encountered in exp\n",
      "  - np.sum(np.log(1 + np.nan_to_num(np.exp(-beta * bdg_energies))), axis=-1) / beta\n",
      "/home/tjark/Projects/quant-met/src/quant_met/minimize_free_energy.py:25: RuntimeWarning: overflow encountered in exp\n",
      "  - np.sum(np.log(1 + np.nan_to_num(np.exp(-beta * bdg_energies))), axis=-1) / beta\n",
      "/home/tjark/Projects/quant-met/src/quant_met/minimize_free_energy.py:25: RuntimeWarning: overflow encountered in exp\n",
      "  - np.sum(np.log(1 + np.nan_to_num(np.exp(-beta * bdg_energies))), axis=-1) / beta\n",
      "/home/tjark/Projects/quant-met/src/quant_met/minimize_free_energy.py:25: RuntimeWarning: overflow encountered in exp\n",
      "  - np.sum(np.log(1 + np.nan_to_num(np.exp(-beta * bdg_energies))), axis=-1) / beta\n",
      "/home/tjark/Projects/quant-met/src/quant_met/minimize_free_energy.py:25: RuntimeWarning: overflow encountered in exp\n",
      "  - np.sum(np.log(1 + np.nan_to_num(np.exp(-beta * bdg_energies))), axis=-1) / beta\n",
      "/home/tjark/Projects/quant-met/src/quant_met/minimize_free_energy.py:25: RuntimeWarning: overflow encountered in exp\n",
      "  - np.sum(np.log(1 + np.nan_to_num(np.exp(-beta * bdg_energies))), axis=-1) / beta\n",
      "/home/tjark/Projects/quant-met/src/quant_met/minimize_free_energy.py:25: RuntimeWarning: overflow encountered in exp\n",
      "  - np.sum(np.log(1 + np.nan_to_num(np.exp(-beta * bdg_energies))), axis=-1) / beta\n"
     ]
    },
    {
     "name": "stdout",
     "output_type": "stream",
     "text": [
      "U = 2.7222222222222223\n",
      "[0.21026762 0.21027887]\n",
      "Time taken to solve the gap equation: 5.55 seconds\n"
     ]
    },
    {
     "name": "stderr",
     "output_type": "stream",
     "text": [
      "/home/tjark/Projects/quant-met/src/quant_met/minimize_free_energy.py:25: RuntimeWarning: overflow encountered in exp\n",
      "  - np.sum(np.log(1 + np.nan_to_num(np.exp(-beta * bdg_energies))), axis=-1) / beta\n",
      "/home/tjark/Projects/quant-met/src/quant_met/minimize_free_energy.py:25: RuntimeWarning: overflow encountered in exp\n",
      "  - np.sum(np.log(1 + np.nan_to_num(np.exp(-beta * bdg_energies))), axis=-1) / beta\n",
      "/home/tjark/Projects/quant-met/src/quant_met/minimize_free_energy.py:25: RuntimeWarning: overflow encountered in exp\n",
      "  - np.sum(np.log(1 + np.nan_to_num(np.exp(-beta * bdg_energies))), axis=-1) / beta\n",
      "/home/tjark/Projects/quant-met/src/quant_met/minimize_free_energy.py:25: RuntimeWarning: overflow encountered in exp\n",
      "  - np.sum(np.log(1 + np.nan_to_num(np.exp(-beta * bdg_energies))), axis=-1) / beta\n",
      "/home/tjark/Projects/quant-met/src/quant_met/minimize_free_energy.py:25: RuntimeWarning: overflow encountered in exp\n",
      "  - np.sum(np.log(1 + np.nan_to_num(np.exp(-beta * bdg_energies))), axis=-1) / beta\n",
      "/home/tjark/Projects/quant-met/src/quant_met/minimize_free_energy.py:25: RuntimeWarning: overflow encountered in exp\n",
      "  - np.sum(np.log(1 + np.nan_to_num(np.exp(-beta * bdg_energies))), axis=-1) / beta\n",
      "/home/tjark/Projects/quant-met/src/quant_met/minimize_free_energy.py:25: RuntimeWarning: overflow encountered in exp\n",
      "  - np.sum(np.log(1 + np.nan_to_num(np.exp(-beta * bdg_energies))), axis=-1) / beta\n",
      "/home/tjark/Projects/quant-met/src/quant_met/minimize_free_energy.py:25: RuntimeWarning: overflow encountered in exp\n",
      "  - np.sum(np.log(1 + np.nan_to_num(np.exp(-beta * bdg_energies))), axis=-1) / beta\n",
      "/home/tjark/Projects/quant-met/src/quant_met/minimize_free_energy.py:25: RuntimeWarning: overflow encountered in exp\n",
      "  - np.sum(np.log(1 + np.nan_to_num(np.exp(-beta * bdg_energies))), axis=-1) / beta\n",
      "/home/tjark/Projects/quant-met/src/quant_met/minimize_free_energy.py:25: RuntimeWarning: overflow encountered in exp\n",
      "  - np.sum(np.log(1 + np.nan_to_num(np.exp(-beta * bdg_energies))), axis=-1) / beta\n",
      "/home/tjark/Projects/quant-met/src/quant_met/minimize_free_energy.py:25: RuntimeWarning: overflow encountered in exp\n",
      "  - np.sum(np.log(1 + np.nan_to_num(np.exp(-beta * bdg_energies))), axis=-1) / beta\n"
     ]
    },
    {
     "name": "stdout",
     "output_type": "stream",
     "text": [
      "U = 3.3777777777777778\n",
      "[0.28838994 0.28835529]\n",
      "Time taken to solve the gap equation: 5.57 seconds\n"
     ]
    },
    {
     "name": "stderr",
     "output_type": "stream",
     "text": [
      "/home/tjark/Projects/quant-met/src/quant_met/minimize_free_energy.py:25: RuntimeWarning: overflow encountered in exp\n",
      "  - np.sum(np.log(1 + np.nan_to_num(np.exp(-beta * bdg_energies))), axis=-1) / beta\n",
      "/home/tjark/Projects/quant-met/src/quant_met/minimize_free_energy.py:25: RuntimeWarning: overflow encountered in exp\n",
      "  - np.sum(np.log(1 + np.nan_to_num(np.exp(-beta * bdg_energies))), axis=-1) / beta\n",
      "/home/tjark/Projects/quant-met/src/quant_met/minimize_free_energy.py:25: RuntimeWarning: overflow encountered in exp\n",
      "  - np.sum(np.log(1 + np.nan_to_num(np.exp(-beta * bdg_energies))), axis=-1) / beta\n",
      "/home/tjark/Projects/quant-met/src/quant_met/minimize_free_energy.py:25: RuntimeWarning: overflow encountered in exp\n",
      "  - np.sum(np.log(1 + np.nan_to_num(np.exp(-beta * bdg_energies))), axis=-1) / beta\n",
      "/home/tjark/Projects/quant-met/src/quant_met/minimize_free_energy.py:25: RuntimeWarning: overflow encountered in exp\n",
      "  - np.sum(np.log(1 + np.nan_to_num(np.exp(-beta * bdg_energies))), axis=-1) / beta\n",
      "/home/tjark/Projects/quant-met/src/quant_met/minimize_free_energy.py:25: RuntimeWarning: overflow encountered in exp\n",
      "  - np.sum(np.log(1 + np.nan_to_num(np.exp(-beta * bdg_energies))), axis=-1) / beta\n",
      "/home/tjark/Projects/quant-met/src/quant_met/minimize_free_energy.py:25: RuntimeWarning: overflow encountered in exp\n",
      "  - np.sum(np.log(1 + np.nan_to_num(np.exp(-beta * bdg_energies))), axis=-1) / beta\n",
      "/home/tjark/Projects/quant-met/src/quant_met/minimize_free_energy.py:25: RuntimeWarning: overflow encountered in exp\n",
      "  - np.sum(np.log(1 + np.nan_to_num(np.exp(-beta * bdg_energies))), axis=-1) / beta\n",
      "/home/tjark/Projects/quant-met/src/quant_met/minimize_free_energy.py:25: RuntimeWarning: overflow encountered in exp\n",
      "  - np.sum(np.log(1 + np.nan_to_num(np.exp(-beta * bdg_energies))), axis=-1) / beta\n",
      "/home/tjark/Projects/quant-met/src/quant_met/minimize_free_energy.py:25: RuntimeWarning: overflow encountered in exp\n",
      "  - np.sum(np.log(1 + np.nan_to_num(np.exp(-beta * bdg_energies))), axis=-1) / beta\n",
      "/home/tjark/Projects/quant-met/src/quant_met/minimize_free_energy.py:25: RuntimeWarning: overflow encountered in exp\n",
      "  - np.sum(np.log(1 + np.nan_to_num(np.exp(-beta * bdg_energies))), axis=-1) / beta\n"
     ]
    },
    {
     "name": "stdout",
     "output_type": "stream",
     "text": [
      "U = 4.033333333333333\n",
      "[0.36796768 0.36825686]\n",
      "Time taken to solve the gap equation: 6.36 seconds\n"
     ]
    },
    {
     "name": "stderr",
     "output_type": "stream",
     "text": [
      "/home/tjark/Projects/quant-met/src/quant_met/minimize_free_energy.py:25: RuntimeWarning: overflow encountered in exp\n",
      "  - np.sum(np.log(1 + np.nan_to_num(np.exp(-beta * bdg_energies))), axis=-1) / beta\n",
      "/home/tjark/Projects/quant-met/src/quant_met/minimize_free_energy.py:25: RuntimeWarning: overflow encountered in exp\n",
      "  - np.sum(np.log(1 + np.nan_to_num(np.exp(-beta * bdg_energies))), axis=-1) / beta\n",
      "/home/tjark/Projects/quant-met/src/quant_met/minimize_free_energy.py:25: RuntimeWarning: overflow encountered in exp\n",
      "  - np.sum(np.log(1 + np.nan_to_num(np.exp(-beta * bdg_energies))), axis=-1) / beta\n",
      "/home/tjark/Projects/quant-met/src/quant_met/minimize_free_energy.py:25: RuntimeWarning: overflow encountered in exp\n",
      "  - np.sum(np.log(1 + np.nan_to_num(np.exp(-beta * bdg_energies))), axis=-1) / beta\n",
      "/home/tjark/Projects/quant-met/src/quant_met/minimize_free_energy.py:25: RuntimeWarning: overflow encountered in exp\n",
      "  - np.sum(np.log(1 + np.nan_to_num(np.exp(-beta * bdg_energies))), axis=-1) / beta\n",
      "/home/tjark/Projects/quant-met/src/quant_met/minimize_free_energy.py:25: RuntimeWarning: overflow encountered in exp\n",
      "  - np.sum(np.log(1 + np.nan_to_num(np.exp(-beta * bdg_energies))), axis=-1) / beta\n",
      "/home/tjark/Projects/quant-met/src/quant_met/minimize_free_energy.py:25: RuntimeWarning: overflow encountered in exp\n",
      "  - np.sum(np.log(1 + np.nan_to_num(np.exp(-beta * bdg_energies))), axis=-1) / beta\n",
      "/home/tjark/Projects/quant-met/src/quant_met/minimize_free_energy.py:25: RuntimeWarning: overflow encountered in exp\n",
      "  - np.sum(np.log(1 + np.nan_to_num(np.exp(-beta * bdg_energies))), axis=-1) / beta\n",
      "/home/tjark/Projects/quant-met/src/quant_met/minimize_free_energy.py:25: RuntimeWarning: overflow encountered in exp\n",
      "  - np.sum(np.log(1 + np.nan_to_num(np.exp(-beta * bdg_energies))), axis=-1) / beta\n",
      "/home/tjark/Projects/quant-met/src/quant_met/minimize_free_energy.py:25: RuntimeWarning: overflow encountered in exp\n",
      "  - np.sum(np.log(1 + np.nan_to_num(np.exp(-beta * bdg_energies))), axis=-1) / beta\n",
      "/home/tjark/Projects/quant-met/src/quant_met/minimize_free_energy.py:25: RuntimeWarning: overflow encountered in exp\n",
      "  - np.sum(np.log(1 + np.nan_to_num(np.exp(-beta * bdg_energies))), axis=-1) / beta\n"
     ]
    },
    {
     "name": "stdout",
     "output_type": "stream",
     "text": [
      "U = 4.688888888888888\n",
      "[0.43471024 0.43464945]\n",
      "Time taken to solve the gap equation: 8.48 seconds\n"
     ]
    },
    {
     "name": "stderr",
     "output_type": "stream",
     "text": [
      "/home/tjark/Projects/quant-met/src/quant_met/minimize_free_energy.py:25: RuntimeWarning: overflow encountered in exp\n",
      "  - np.sum(np.log(1 + np.nan_to_num(np.exp(-beta * bdg_energies))), axis=-1) / beta\n",
      "/home/tjark/Projects/quant-met/src/quant_met/minimize_free_energy.py:25: RuntimeWarning: overflow encountered in exp\n",
      "  - np.sum(np.log(1 + np.nan_to_num(np.exp(-beta * bdg_energies))), axis=-1) / beta\n",
      "/home/tjark/Projects/quant-met/src/quant_met/minimize_free_energy.py:25: RuntimeWarning: overflow encountered in exp\n",
      "  - np.sum(np.log(1 + np.nan_to_num(np.exp(-beta * bdg_energies))), axis=-1) / beta\n",
      "/home/tjark/Projects/quant-met/src/quant_met/minimize_free_energy.py:25: RuntimeWarning: overflow encountered in exp\n",
      "  - np.sum(np.log(1 + np.nan_to_num(np.exp(-beta * bdg_energies))), axis=-1) / beta\n",
      "/home/tjark/Projects/quant-met/src/quant_met/minimize_free_energy.py:25: RuntimeWarning: overflow encountered in exp\n",
      "  - np.sum(np.log(1 + np.nan_to_num(np.exp(-beta * bdg_energies))), axis=-1) / beta\n",
      "/home/tjark/Projects/quant-met/src/quant_met/minimize_free_energy.py:25: RuntimeWarning: overflow encountered in exp\n",
      "  - np.sum(np.log(1 + np.nan_to_num(np.exp(-beta * bdg_energies))), axis=-1) / beta\n",
      "/home/tjark/Projects/quant-met/src/quant_met/minimize_free_energy.py:25: RuntimeWarning: overflow encountered in exp\n",
      "  - np.sum(np.log(1 + np.nan_to_num(np.exp(-beta * bdg_energies))), axis=-1) / beta\n",
      "/home/tjark/Projects/quant-met/src/quant_met/minimize_free_energy.py:25: RuntimeWarning: overflow encountered in exp\n",
      "  - np.sum(np.log(1 + np.nan_to_num(np.exp(-beta * bdg_energies))), axis=-1) / beta\n",
      "/home/tjark/Projects/quant-met/src/quant_met/minimize_free_energy.py:25: RuntimeWarning: overflow encountered in exp\n",
      "  - np.sum(np.log(1 + np.nan_to_num(np.exp(-beta * bdg_energies))), axis=-1) / beta\n",
      "/home/tjark/Projects/quant-met/src/quant_met/minimize_free_energy.py:25: RuntimeWarning: overflow encountered in exp\n",
      "  - np.sum(np.log(1 + np.nan_to_num(np.exp(-beta * bdg_energies))), axis=-1) / beta\n",
      "/home/tjark/Projects/quant-met/src/quant_met/minimize_free_energy.py:25: RuntimeWarning: overflow encountered in exp\n",
      "  - np.sum(np.log(1 + np.nan_to_num(np.exp(-beta * bdg_energies))), axis=-1) / beta\n"
     ]
    },
    {
     "name": "stdout",
     "output_type": "stream",
     "text": [
      "U = 5.344444444444444\n",
      "[0.50580693 0.50584504]\n",
      "Time taken to solve the gap equation: 8.48 seconds\n"
     ]
    },
    {
     "name": "stderr",
     "output_type": "stream",
     "text": [
      "/home/tjark/Projects/quant-met/src/quant_met/minimize_free_energy.py:25: RuntimeWarning: overflow encountered in exp\n",
      "  - np.sum(np.log(1 + np.nan_to_num(np.exp(-beta * bdg_energies))), axis=-1) / beta\n",
      "/home/tjark/Projects/quant-met/src/quant_met/minimize_free_energy.py:25: RuntimeWarning: overflow encountered in exp\n",
      "  - np.sum(np.log(1 + np.nan_to_num(np.exp(-beta * bdg_energies))), axis=-1) / beta\n",
      "/home/tjark/Projects/quant-met/src/quant_met/minimize_free_energy.py:25: RuntimeWarning: overflow encountered in exp\n",
      "  - np.sum(np.log(1 + np.nan_to_num(np.exp(-beta * bdg_energies))), axis=-1) / beta\n",
      "/home/tjark/Projects/quant-met/src/quant_met/minimize_free_energy.py:25: RuntimeWarning: overflow encountered in exp\n",
      "  - np.sum(np.log(1 + np.nan_to_num(np.exp(-beta * bdg_energies))), axis=-1) / beta\n",
      "/home/tjark/Projects/quant-met/src/quant_met/minimize_free_energy.py:25: RuntimeWarning: overflow encountered in exp\n",
      "  - np.sum(np.log(1 + np.nan_to_num(np.exp(-beta * bdg_energies))), axis=-1) / beta\n",
      "/home/tjark/Projects/quant-met/src/quant_met/minimize_free_energy.py:25: RuntimeWarning: overflow encountered in exp\n",
      "  - np.sum(np.log(1 + np.nan_to_num(np.exp(-beta * bdg_energies))), axis=-1) / beta\n",
      "/home/tjark/Projects/quant-met/src/quant_met/minimize_free_energy.py:25: RuntimeWarning: overflow encountered in exp\n",
      "  - np.sum(np.log(1 + np.nan_to_num(np.exp(-beta * bdg_energies))), axis=-1) / beta\n",
      "/home/tjark/Projects/quant-met/src/quant_met/minimize_free_energy.py:25: RuntimeWarning: overflow encountered in exp\n",
      "  - np.sum(np.log(1 + np.nan_to_num(np.exp(-beta * bdg_energies))), axis=-1) / beta\n",
      "/home/tjark/Projects/quant-met/src/quant_met/minimize_free_energy.py:25: RuntimeWarning: overflow encountered in exp\n",
      "  - np.sum(np.log(1 + np.nan_to_num(np.exp(-beta * bdg_energies))), axis=-1) / beta\n",
      "/home/tjark/Projects/quant-met/src/quant_met/minimize_free_energy.py:25: RuntimeWarning: overflow encountered in exp\n",
      "  - np.sum(np.log(1 + np.nan_to_num(np.exp(-beta * bdg_energies))), axis=-1) / beta\n",
      "/home/tjark/Projects/quant-met/src/quant_met/minimize_free_energy.py:25: RuntimeWarning: overflow encountered in exp\n",
      "  - np.sum(np.log(1 + np.nan_to_num(np.exp(-beta * bdg_energies))), axis=-1) / beta\n"
     ]
    },
    {
     "name": "stdout",
     "output_type": "stream",
     "text": [
      "U = 6.0\n",
      "[0.53419387 0.53405848]\n",
      "Time taken to solve the gap equation: 8.53 seconds\n"
     ]
    },
    {
     "name": "stderr",
     "output_type": "stream",
     "text": [
      "/home/tjark/Projects/quant-met/src/quant_met/minimize_free_energy.py:25: RuntimeWarning: overflow encountered in exp\n",
      "  - np.sum(np.log(1 + np.nan_to_num(np.exp(-beta * bdg_energies))), axis=-1) / beta\n",
      "/home/tjark/Projects/quant-met/src/quant_met/minimize_free_energy.py:25: RuntimeWarning: overflow encountered in exp\n",
      "  - np.sum(np.log(1 + np.nan_to_num(np.exp(-beta * bdg_energies))), axis=-1) / beta\n",
      "/home/tjark/Projects/quant-met/src/quant_met/minimize_free_energy.py:25: RuntimeWarning: overflow encountered in exp\n",
      "  - np.sum(np.log(1 + np.nan_to_num(np.exp(-beta * bdg_energies))), axis=-1) / beta\n",
      "/home/tjark/Projects/quant-met/src/quant_met/minimize_free_energy.py:25: RuntimeWarning: overflow encountered in exp\n",
      "  - np.sum(np.log(1 + np.nan_to_num(np.exp(-beta * bdg_energies))), axis=-1) / beta\n",
      "/home/tjark/Projects/quant-met/src/quant_met/minimize_free_energy.py:25: RuntimeWarning: overflow encountered in exp\n",
      "  - np.sum(np.log(1 + np.nan_to_num(np.exp(-beta * bdg_energies))), axis=-1) / beta\n",
      "/home/tjark/Projects/quant-met/src/quant_met/minimize_free_energy.py:25: RuntimeWarning: overflow encountered in exp\n",
      "  - np.sum(np.log(1 + np.nan_to_num(np.exp(-beta * bdg_energies))), axis=-1) / beta\n",
      "/home/tjark/Projects/quant-met/src/quant_met/minimize_free_energy.py:25: RuntimeWarning: overflow encountered in exp\n",
      "  - np.sum(np.log(1 + np.nan_to_num(np.exp(-beta * bdg_energies))), axis=-1) / beta\n",
      "/home/tjark/Projects/quant-met/src/quant_met/minimize_free_energy.py:25: RuntimeWarning: overflow encountered in exp\n",
      "  - np.sum(np.log(1 + np.nan_to_num(np.exp(-beta * bdg_energies))), axis=-1) / beta\n",
      "/home/tjark/Projects/quant-met/src/quant_met/minimize_free_energy.py:25: RuntimeWarning: overflow encountered in exp\n",
      "  - np.sum(np.log(1 + np.nan_to_num(np.exp(-beta * bdg_energies))), axis=-1) / beta\n",
      "/home/tjark/Projects/quant-met/src/quant_met/minimize_free_energy.py:25: RuntimeWarning: overflow encountered in exp\n",
      "  - np.sum(np.log(1 + np.nan_to_num(np.exp(-beta * bdg_energies))), axis=-1) / beta\n",
      "/home/tjark/Projects/quant-met/src/quant_met/minimize_free_energy.py:25: RuntimeWarning: overflow encountered in exp\n",
      "  - np.sum(np.log(1 + np.nan_to_num(np.exp(-beta * bdg_energies))), axis=-1) / beta\n"
     ]
    },
    {
     "name": "stdout",
     "output_type": "stream",
     "text": [
      "U = 0.1\n",
      "[0. 0.]\n",
      "Time taken to solve the gap equation: 6.28 seconds\n"
     ]
    },
    {
     "name": "stderr",
     "output_type": "stream",
     "text": [
      "/home/tjark/Projects/quant-met/src/quant_met/minimize_free_energy.py:25: RuntimeWarning: overflow encountered in exp\n",
      "  - np.sum(np.log(1 + np.nan_to_num(np.exp(-beta * bdg_energies))), axis=-1) / beta\n",
      "/home/tjark/Projects/quant-met/src/quant_met/minimize_free_energy.py:25: RuntimeWarning: overflow encountered in exp\n",
      "  - np.sum(np.log(1 + np.nan_to_num(np.exp(-beta * bdg_energies))), axis=-1) / beta\n",
      "/home/tjark/Projects/quant-met/src/quant_met/minimize_free_energy.py:25: RuntimeWarning: overflow encountered in exp\n",
      "  - np.sum(np.log(1 + np.nan_to_num(np.exp(-beta * bdg_energies))), axis=-1) / beta\n",
      "/home/tjark/Projects/quant-met/src/quant_met/minimize_free_energy.py:25: RuntimeWarning: overflow encountered in exp\n",
      "  - np.sum(np.log(1 + np.nan_to_num(np.exp(-beta * bdg_energies))), axis=-1) / beta\n",
      "/home/tjark/Projects/quant-met/src/quant_met/minimize_free_energy.py:25: RuntimeWarning: overflow encountered in exp\n",
      "  - np.sum(np.log(1 + np.nan_to_num(np.exp(-beta * bdg_energies))), axis=-1) / beta\n",
      "/home/tjark/Projects/quant-met/src/quant_met/minimize_free_energy.py:25: RuntimeWarning: overflow encountered in exp\n",
      "  - np.sum(np.log(1 + np.nan_to_num(np.exp(-beta * bdg_energies))), axis=-1) / beta\n",
      "/home/tjark/Projects/quant-met/src/quant_met/minimize_free_energy.py:25: RuntimeWarning: overflow encountered in exp\n",
      "  - np.sum(np.log(1 + np.nan_to_num(np.exp(-beta * bdg_energies))), axis=-1) / beta\n",
      "/home/tjark/Projects/quant-met/src/quant_met/minimize_free_energy.py:25: RuntimeWarning: overflow encountered in exp\n",
      "  - np.sum(np.log(1 + np.nan_to_num(np.exp(-beta * bdg_energies))), axis=-1) / beta\n",
      "/home/tjark/Projects/quant-met/src/quant_met/minimize_free_energy.py:25: RuntimeWarning: overflow encountered in exp\n",
      "  - np.sum(np.log(1 + np.nan_to_num(np.exp(-beta * bdg_energies))), axis=-1) / beta\n",
      "/home/tjark/Projects/quant-met/src/quant_met/minimize_free_energy.py:25: RuntimeWarning: overflow encountered in exp\n",
      "  - np.sum(np.log(1 + np.nan_to_num(np.exp(-beta * bdg_energies))), axis=-1) / beta\n",
      "/home/tjark/Projects/quant-met/src/quant_met/minimize_free_energy.py:25: RuntimeWarning: overflow encountered in exp\n",
      "  - np.sum(np.log(1 + np.nan_to_num(np.exp(-beta * bdg_energies))), axis=-1) / beta\n"
     ]
    },
    {
     "name": "stdout",
     "output_type": "stream",
     "text": [
      "U = 0.7555555555555555\n",
      "[0.00500461 0.00498626]\n",
      "Time taken to solve the gap equation: 8.35 seconds\n"
     ]
    },
    {
     "name": "stderr",
     "output_type": "stream",
     "text": [
      "/home/tjark/Projects/quant-met/src/quant_met/minimize_free_energy.py:25: RuntimeWarning: overflow encountered in exp\n",
      "  - np.sum(np.log(1 + np.nan_to_num(np.exp(-beta * bdg_energies))), axis=-1) / beta\n",
      "/home/tjark/Projects/quant-met/src/quant_met/minimize_free_energy.py:25: RuntimeWarning: overflow encountered in exp\n",
      "  - np.sum(np.log(1 + np.nan_to_num(np.exp(-beta * bdg_energies))), axis=-1) / beta\n",
      "/home/tjark/Projects/quant-met/src/quant_met/minimize_free_energy.py:25: RuntimeWarning: overflow encountered in exp\n",
      "  - np.sum(np.log(1 + np.nan_to_num(np.exp(-beta * bdg_energies))), axis=-1) / beta\n",
      "/home/tjark/Projects/quant-met/src/quant_met/minimize_free_energy.py:25: RuntimeWarning: overflow encountered in exp\n",
      "  - np.sum(np.log(1 + np.nan_to_num(np.exp(-beta * bdg_energies))), axis=-1) / beta\n",
      "/home/tjark/Projects/quant-met/src/quant_met/minimize_free_energy.py:25: RuntimeWarning: overflow encountered in exp\n",
      "  - np.sum(np.log(1 + np.nan_to_num(np.exp(-beta * bdg_energies))), axis=-1) / beta\n",
      "/home/tjark/Projects/quant-met/src/quant_met/minimize_free_energy.py:25: RuntimeWarning: overflow encountered in exp\n",
      "  - np.sum(np.log(1 + np.nan_to_num(np.exp(-beta * bdg_energies))), axis=-1) / beta\n",
      "/home/tjark/Projects/quant-met/src/quant_met/minimize_free_energy.py:25: RuntimeWarning: overflow encountered in exp\n",
      "  - np.sum(np.log(1 + np.nan_to_num(np.exp(-beta * bdg_energies))), axis=-1) / beta\n",
      "/home/tjark/Projects/quant-met/src/quant_met/minimize_free_energy.py:25: RuntimeWarning: overflow encountered in exp\n",
      "  - np.sum(np.log(1 + np.nan_to_num(np.exp(-beta * bdg_energies))), axis=-1) / beta\n",
      "/home/tjark/Projects/quant-met/src/quant_met/minimize_free_energy.py:25: RuntimeWarning: overflow encountered in exp\n",
      "  - np.sum(np.log(1 + np.nan_to_num(np.exp(-beta * bdg_energies))), axis=-1) / beta\n",
      "/home/tjark/Projects/quant-met/src/quant_met/minimize_free_energy.py:25: RuntimeWarning: overflow encountered in exp\n",
      "  - np.sum(np.log(1 + np.nan_to_num(np.exp(-beta * bdg_energies))), axis=-1) / beta\n",
      "/home/tjark/Projects/quant-met/src/quant_met/minimize_free_energy.py:25: RuntimeWarning: overflow encountered in exp\n",
      "  - np.sum(np.log(1 + np.nan_to_num(np.exp(-beta * bdg_energies))), axis=-1) / beta\n"
     ]
    },
    {
     "name": "stdout",
     "output_type": "stream",
     "text": [
      "U = 1.4111111111111112\n",
      "[0.03786001 0.03785925]\n",
      "Time taken to solve the gap equation: 8.00 seconds\n"
     ]
    },
    {
     "name": "stderr",
     "output_type": "stream",
     "text": [
      "/home/tjark/Projects/quant-met/src/quant_met/minimize_free_energy.py:25: RuntimeWarning: overflow encountered in exp\n",
      "  - np.sum(np.log(1 + np.nan_to_num(np.exp(-beta * bdg_energies))), axis=-1) / beta\n",
      "/home/tjark/Projects/quant-met/src/quant_met/minimize_free_energy.py:25: RuntimeWarning: overflow encountered in exp\n",
      "  - np.sum(np.log(1 + np.nan_to_num(np.exp(-beta * bdg_energies))), axis=-1) / beta\n",
      "/home/tjark/Projects/quant-met/src/quant_met/minimize_free_energy.py:25: RuntimeWarning: overflow encountered in exp\n",
      "  - np.sum(np.log(1 + np.nan_to_num(np.exp(-beta * bdg_energies))), axis=-1) / beta\n",
      "/home/tjark/Projects/quant-met/src/quant_met/minimize_free_energy.py:25: RuntimeWarning: overflow encountered in exp\n",
      "  - np.sum(np.log(1 + np.nan_to_num(np.exp(-beta * bdg_energies))), axis=-1) / beta\n",
      "/home/tjark/Projects/quant-met/src/quant_met/minimize_free_energy.py:25: RuntimeWarning: overflow encountered in exp\n",
      "  - np.sum(np.log(1 + np.nan_to_num(np.exp(-beta * bdg_energies))), axis=-1) / beta\n",
      "/home/tjark/Projects/quant-met/src/quant_met/minimize_free_energy.py:25: RuntimeWarning: overflow encountered in exp\n",
      "  - np.sum(np.log(1 + np.nan_to_num(np.exp(-beta * bdg_energies))), axis=-1) / beta\n",
      "/home/tjark/Projects/quant-met/src/quant_met/minimize_free_energy.py:25: RuntimeWarning: overflow encountered in exp\n",
      "  - np.sum(np.log(1 + np.nan_to_num(np.exp(-beta * bdg_energies))), axis=-1) / beta\n",
      "/home/tjark/Projects/quant-met/src/quant_met/minimize_free_energy.py:25: RuntimeWarning: overflow encountered in exp\n",
      "  - np.sum(np.log(1 + np.nan_to_num(np.exp(-beta * bdg_energies))), axis=-1) / beta\n",
      "/home/tjark/Projects/quant-met/src/quant_met/minimize_free_energy.py:25: RuntimeWarning: overflow encountered in exp\n",
      "  - np.sum(np.log(1 + np.nan_to_num(np.exp(-beta * bdg_energies))), axis=-1) / beta\n",
      "/home/tjark/Projects/quant-met/src/quant_met/minimize_free_energy.py:25: RuntimeWarning: overflow encountered in exp\n",
      "  - np.sum(np.log(1 + np.nan_to_num(np.exp(-beta * bdg_energies))), axis=-1) / beta\n",
      "/home/tjark/Projects/quant-met/src/quant_met/minimize_free_energy.py:25: RuntimeWarning: overflow encountered in exp\n",
      "  - np.sum(np.log(1 + np.nan_to_num(np.exp(-beta * bdg_energies))), axis=-1) / beta\n"
     ]
    },
    {
     "name": "stdout",
     "output_type": "stream",
     "text": [
      "U = 2.066666666666667\n",
      "[0.11315789 0.11315789]\n",
      "Time taken to solve the gap equation: 8.01 seconds\n"
     ]
    },
    {
     "name": "stderr",
     "output_type": "stream",
     "text": [
      "/home/tjark/Projects/quant-met/src/quant_met/minimize_free_energy.py:25: RuntimeWarning: overflow encountered in exp\n",
      "  - np.sum(np.log(1 + np.nan_to_num(np.exp(-beta * bdg_energies))), axis=-1) / beta\n",
      "/home/tjark/Projects/quant-met/src/quant_met/minimize_free_energy.py:25: RuntimeWarning: overflow encountered in exp\n",
      "  - np.sum(np.log(1 + np.nan_to_num(np.exp(-beta * bdg_energies))), axis=-1) / beta\n",
      "/home/tjark/Projects/quant-met/src/quant_met/minimize_free_energy.py:25: RuntimeWarning: overflow encountered in exp\n",
      "  - np.sum(np.log(1 + np.nan_to_num(np.exp(-beta * bdg_energies))), axis=-1) / beta\n",
      "/home/tjark/Projects/quant-met/src/quant_met/minimize_free_energy.py:25: RuntimeWarning: overflow encountered in exp\n",
      "  - np.sum(np.log(1 + np.nan_to_num(np.exp(-beta * bdg_energies))), axis=-1) / beta\n",
      "/home/tjark/Projects/quant-met/src/quant_met/minimize_free_energy.py:25: RuntimeWarning: overflow encountered in exp\n",
      "  - np.sum(np.log(1 + np.nan_to_num(np.exp(-beta * bdg_energies))), axis=-1) / beta\n",
      "/home/tjark/Projects/quant-met/src/quant_met/minimize_free_energy.py:25: RuntimeWarning: overflow encountered in exp\n",
      "  - np.sum(np.log(1 + np.nan_to_num(np.exp(-beta * bdg_energies))), axis=-1) / beta\n",
      "/home/tjark/Projects/quant-met/src/quant_met/minimize_free_energy.py:25: RuntimeWarning: overflow encountered in exp\n",
      "  - np.sum(np.log(1 + np.nan_to_num(np.exp(-beta * bdg_energies))), axis=-1) / beta\n",
      "/home/tjark/Projects/quant-met/src/quant_met/minimize_free_energy.py:25: RuntimeWarning: overflow encountered in exp\n",
      "  - np.sum(np.log(1 + np.nan_to_num(np.exp(-beta * bdg_energies))), axis=-1) / beta\n",
      "/home/tjark/Projects/quant-met/src/quant_met/minimize_free_energy.py:25: RuntimeWarning: overflow encountered in exp\n",
      "  - np.sum(np.log(1 + np.nan_to_num(np.exp(-beta * bdg_energies))), axis=-1) / beta\n",
      "/home/tjark/Projects/quant-met/src/quant_met/minimize_free_energy.py:25: RuntimeWarning: overflow encountered in exp\n",
      "  - np.sum(np.log(1 + np.nan_to_num(np.exp(-beta * bdg_energies))), axis=-1) / beta\n",
      "/home/tjark/Projects/quant-met/src/quant_met/minimize_free_energy.py:25: RuntimeWarning: overflow encountered in exp\n",
      "  - np.sum(np.log(1 + np.nan_to_num(np.exp(-beta * bdg_energies))), axis=-1) / beta\n"
     ]
    },
    {
     "name": "stdout",
     "output_type": "stream",
     "text": [
      "U = 2.7222222222222223\n",
      "[0.21310974 0.21308156]\n",
      "Time taken to solve the gap equation: 7.63 seconds\n"
     ]
    },
    {
     "name": "stderr",
     "output_type": "stream",
     "text": [
      "/home/tjark/Projects/quant-met/src/quant_met/minimize_free_energy.py:25: RuntimeWarning: overflow encountered in exp\n",
      "  - np.sum(np.log(1 + np.nan_to_num(np.exp(-beta * bdg_energies))), axis=-1) / beta\n",
      "/home/tjark/Projects/quant-met/src/quant_met/minimize_free_energy.py:25: RuntimeWarning: overflow encountered in exp\n",
      "  - np.sum(np.log(1 + np.nan_to_num(np.exp(-beta * bdg_energies))), axis=-1) / beta\n",
      "/home/tjark/Projects/quant-met/src/quant_met/minimize_free_energy.py:25: RuntimeWarning: overflow encountered in exp\n",
      "  - np.sum(np.log(1 + np.nan_to_num(np.exp(-beta * bdg_energies))), axis=-1) / beta\n",
      "/home/tjark/Projects/quant-met/src/quant_met/minimize_free_energy.py:25: RuntimeWarning: overflow encountered in exp\n",
      "  - np.sum(np.log(1 + np.nan_to_num(np.exp(-beta * bdg_energies))), axis=-1) / beta\n",
      "/home/tjark/Projects/quant-met/src/quant_met/minimize_free_energy.py:25: RuntimeWarning: overflow encountered in exp\n",
      "  - np.sum(np.log(1 + np.nan_to_num(np.exp(-beta * bdg_energies))), axis=-1) / beta\n",
      "/home/tjark/Projects/quant-met/src/quant_met/minimize_free_energy.py:25: RuntimeWarning: overflow encountered in exp\n",
      "  - np.sum(np.log(1 + np.nan_to_num(np.exp(-beta * bdg_energies))), axis=-1) / beta\n",
      "/home/tjark/Projects/quant-met/src/quant_met/minimize_free_energy.py:25: RuntimeWarning: overflow encountered in exp\n",
      "  - np.sum(np.log(1 + np.nan_to_num(np.exp(-beta * bdg_energies))), axis=-1) / beta\n",
      "/home/tjark/Projects/quant-met/src/quant_met/minimize_free_energy.py:25: RuntimeWarning: overflow encountered in exp\n",
      "  - np.sum(np.log(1 + np.nan_to_num(np.exp(-beta * bdg_energies))), axis=-1) / beta\n",
      "/home/tjark/Projects/quant-met/src/quant_met/minimize_free_energy.py:25: RuntimeWarning: overflow encountered in exp\n",
      "  - np.sum(np.log(1 + np.nan_to_num(np.exp(-beta * bdg_energies))), axis=-1) / beta\n",
      "/home/tjark/Projects/quant-met/src/quant_met/minimize_free_energy.py:25: RuntimeWarning: overflow encountered in exp\n",
      "  - np.sum(np.log(1 + np.nan_to_num(np.exp(-beta * bdg_energies))), axis=-1) / beta\n",
      "/home/tjark/Projects/quant-met/src/quant_met/minimize_free_energy.py:25: RuntimeWarning: overflow encountered in exp\n",
      "  - np.sum(np.log(1 + np.nan_to_num(np.exp(-beta * bdg_energies))), axis=-1) / beta\n"
     ]
    },
    {
     "name": "stdout",
     "output_type": "stream",
     "text": [
      "U = 3.3777777777777778\n",
      "[0.29879366 0.29873117]\n",
      "Time taken to solve the gap equation: 7.60 seconds\n"
     ]
    },
    {
     "name": "stderr",
     "output_type": "stream",
     "text": [
      "/home/tjark/Projects/quant-met/src/quant_met/minimize_free_energy.py:25: RuntimeWarning: overflow encountered in exp\n",
      "  - np.sum(np.log(1 + np.nan_to_num(np.exp(-beta * bdg_energies))), axis=-1) / beta\n",
      "/home/tjark/Projects/quant-met/src/quant_met/minimize_free_energy.py:25: RuntimeWarning: overflow encountered in exp\n",
      "  - np.sum(np.log(1 + np.nan_to_num(np.exp(-beta * bdg_energies))), axis=-1) / beta\n",
      "/home/tjark/Projects/quant-met/src/quant_met/minimize_free_energy.py:25: RuntimeWarning: overflow encountered in exp\n",
      "  - np.sum(np.log(1 + np.nan_to_num(np.exp(-beta * bdg_energies))), axis=-1) / beta\n",
      "/home/tjark/Projects/quant-met/src/quant_met/minimize_free_energy.py:25: RuntimeWarning: overflow encountered in exp\n",
      "  - np.sum(np.log(1 + np.nan_to_num(np.exp(-beta * bdg_energies))), axis=-1) / beta\n",
      "/home/tjark/Projects/quant-met/src/quant_met/minimize_free_energy.py:25: RuntimeWarning: overflow encountered in exp\n",
      "  - np.sum(np.log(1 + np.nan_to_num(np.exp(-beta * bdg_energies))), axis=-1) / beta\n",
      "/home/tjark/Projects/quant-met/src/quant_met/minimize_free_energy.py:25: RuntimeWarning: overflow encountered in exp\n",
      "  - np.sum(np.log(1 + np.nan_to_num(np.exp(-beta * bdg_energies))), axis=-1) / beta\n",
      "/home/tjark/Projects/quant-met/src/quant_met/minimize_free_energy.py:25: RuntimeWarning: overflow encountered in exp\n",
      "  - np.sum(np.log(1 + np.nan_to_num(np.exp(-beta * bdg_energies))), axis=-1) / beta\n",
      "/home/tjark/Projects/quant-met/src/quant_met/minimize_free_energy.py:25: RuntimeWarning: overflow encountered in exp\n",
      "  - np.sum(np.log(1 + np.nan_to_num(np.exp(-beta * bdg_energies))), axis=-1) / beta\n",
      "/home/tjark/Projects/quant-met/src/quant_met/minimize_free_energy.py:25: RuntimeWarning: overflow encountered in exp\n",
      "  - np.sum(np.log(1 + np.nan_to_num(np.exp(-beta * bdg_energies))), axis=-1) / beta\n",
      "/home/tjark/Projects/quant-met/src/quant_met/minimize_free_energy.py:25: RuntimeWarning: overflow encountered in exp\n",
      "  - np.sum(np.log(1 + np.nan_to_num(np.exp(-beta * bdg_energies))), axis=-1) / beta\n",
      "/home/tjark/Projects/quant-met/src/quant_met/minimize_free_energy.py:25: RuntimeWarning: overflow encountered in exp\n",
      "  - np.sum(np.log(1 + np.nan_to_num(np.exp(-beta * bdg_energies))), axis=-1) / beta\n"
     ]
    },
    {
     "name": "stdout",
     "output_type": "stream",
     "text": [
      "U = 4.033333333333333\n",
      "[0.37896706 0.37894445]\n",
      "Time taken to solve the gap equation: 7.50 seconds\n"
     ]
    },
    {
     "name": "stderr",
     "output_type": "stream",
     "text": [
      "/home/tjark/Projects/quant-met/src/quant_met/minimize_free_energy.py:25: RuntimeWarning: overflow encountered in exp\n",
      "  - np.sum(np.log(1 + np.nan_to_num(np.exp(-beta * bdg_energies))), axis=-1) / beta\n",
      "/home/tjark/Projects/quant-met/src/quant_met/minimize_free_energy.py:25: RuntimeWarning: overflow encountered in exp\n",
      "  - np.sum(np.log(1 + np.nan_to_num(np.exp(-beta * bdg_energies))), axis=-1) / beta\n",
      "/home/tjark/Projects/quant-met/src/quant_met/minimize_free_energy.py:25: RuntimeWarning: overflow encountered in exp\n",
      "  - np.sum(np.log(1 + np.nan_to_num(np.exp(-beta * bdg_energies))), axis=-1) / beta\n",
      "/home/tjark/Projects/quant-met/src/quant_met/minimize_free_energy.py:25: RuntimeWarning: overflow encountered in exp\n",
      "  - np.sum(np.log(1 + np.nan_to_num(np.exp(-beta * bdg_energies))), axis=-1) / beta\n",
      "/home/tjark/Projects/quant-met/src/quant_met/minimize_free_energy.py:25: RuntimeWarning: overflow encountered in exp\n",
      "  - np.sum(np.log(1 + np.nan_to_num(np.exp(-beta * bdg_energies))), axis=-1) / beta\n",
      "/home/tjark/Projects/quant-met/src/quant_met/minimize_free_energy.py:25: RuntimeWarning: overflow encountered in exp\n",
      "  - np.sum(np.log(1 + np.nan_to_num(np.exp(-beta * bdg_energies))), axis=-1) / beta\n",
      "/home/tjark/Projects/quant-met/src/quant_met/minimize_free_energy.py:25: RuntimeWarning: overflow encountered in exp\n",
      "  - np.sum(np.log(1 + np.nan_to_num(np.exp(-beta * bdg_energies))), axis=-1) / beta\n",
      "/home/tjark/Projects/quant-met/src/quant_met/minimize_free_energy.py:25: RuntimeWarning: overflow encountered in exp\n",
      "  - np.sum(np.log(1 + np.nan_to_num(np.exp(-beta * bdg_energies))), axis=-1) / beta\n",
      "/home/tjark/Projects/quant-met/src/quant_met/minimize_free_energy.py:25: RuntimeWarning: overflow encountered in exp\n",
      "  - np.sum(np.log(1 + np.nan_to_num(np.exp(-beta * bdg_energies))), axis=-1) / beta\n",
      "/home/tjark/Projects/quant-met/src/quant_met/minimize_free_energy.py:25: RuntimeWarning: overflow encountered in exp\n",
      "  - np.sum(np.log(1 + np.nan_to_num(np.exp(-beta * bdg_energies))), axis=-1) / beta\n",
      "/home/tjark/Projects/quant-met/src/quant_met/minimize_free_energy.py:25: RuntimeWarning: overflow encountered in exp\n",
      "  - np.sum(np.log(1 + np.nan_to_num(np.exp(-beta * bdg_energies))), axis=-1) / beta\n"
     ]
    },
    {
     "name": "stdout",
     "output_type": "stream",
     "text": [
      "U = 4.688888888888888\n",
      "[0.44542952 0.44521924]\n",
      "Time taken to solve the gap equation: 7.91 seconds\n"
     ]
    },
    {
     "name": "stderr",
     "output_type": "stream",
     "text": [
      "/home/tjark/Projects/quant-met/src/quant_met/minimize_free_energy.py:25: RuntimeWarning: overflow encountered in exp\n",
      "  - np.sum(np.log(1 + np.nan_to_num(np.exp(-beta * bdg_energies))), axis=-1) / beta\n",
      "/home/tjark/Projects/quant-met/src/quant_met/minimize_free_energy.py:25: RuntimeWarning: overflow encountered in exp\n",
      "  - np.sum(np.log(1 + np.nan_to_num(np.exp(-beta * bdg_energies))), axis=-1) / beta\n",
      "/home/tjark/Projects/quant-met/src/quant_met/minimize_free_energy.py:25: RuntimeWarning: overflow encountered in exp\n",
      "  - np.sum(np.log(1 + np.nan_to_num(np.exp(-beta * bdg_energies))), axis=-1) / beta\n",
      "/home/tjark/Projects/quant-met/src/quant_met/minimize_free_energy.py:25: RuntimeWarning: overflow encountered in exp\n",
      "  - np.sum(np.log(1 + np.nan_to_num(np.exp(-beta * bdg_energies))), axis=-1) / beta\n",
      "/home/tjark/Projects/quant-met/src/quant_met/minimize_free_energy.py:25: RuntimeWarning: overflow encountered in exp\n",
      "  - np.sum(np.log(1 + np.nan_to_num(np.exp(-beta * bdg_energies))), axis=-1) / beta\n",
      "/home/tjark/Projects/quant-met/src/quant_met/minimize_free_energy.py:25: RuntimeWarning: overflow encountered in exp\n",
      "  - np.sum(np.log(1 + np.nan_to_num(np.exp(-beta * bdg_energies))), axis=-1) / beta\n",
      "/home/tjark/Projects/quant-met/src/quant_met/minimize_free_energy.py:25: RuntimeWarning: overflow encountered in exp\n",
      "  - np.sum(np.log(1 + np.nan_to_num(np.exp(-beta * bdg_energies))), axis=-1) / beta\n",
      "/home/tjark/Projects/quant-met/src/quant_met/minimize_free_energy.py:25: RuntimeWarning: overflow encountered in exp\n",
      "  - np.sum(np.log(1 + np.nan_to_num(np.exp(-beta * bdg_energies))), axis=-1) / beta\n",
      "/home/tjark/Projects/quant-met/src/quant_met/minimize_free_energy.py:25: RuntimeWarning: overflow encountered in exp\n",
      "  - np.sum(np.log(1 + np.nan_to_num(np.exp(-beta * bdg_energies))), axis=-1) / beta\n",
      "/home/tjark/Projects/quant-met/src/quant_met/minimize_free_energy.py:25: RuntimeWarning: overflow encountered in exp\n",
      "  - np.sum(np.log(1 + np.nan_to_num(np.exp(-beta * bdg_energies))), axis=-1) / beta\n",
      "/home/tjark/Projects/quant-met/src/quant_met/minimize_free_energy.py:25: RuntimeWarning: overflow encountered in exp\n",
      "  - np.sum(np.log(1 + np.nan_to_num(np.exp(-beta * bdg_energies))), axis=-1) / beta\n"
     ]
    },
    {
     "name": "stdout",
     "output_type": "stream",
     "text": [
      "U = 5.344444444444444\n",
      "[0.50539254 0.50530948]\n",
      "Time taken to solve the gap equation: 6.68 seconds\n"
     ]
    },
    {
     "name": "stderr",
     "output_type": "stream",
     "text": [
      "/home/tjark/Projects/quant-met/src/quant_met/minimize_free_energy.py:25: RuntimeWarning: overflow encountered in exp\n",
      "  - np.sum(np.log(1 + np.nan_to_num(np.exp(-beta * bdg_energies))), axis=-1) / beta\n",
      "/home/tjark/Projects/quant-met/src/quant_met/minimize_free_energy.py:25: RuntimeWarning: overflow encountered in exp\n",
      "  - np.sum(np.log(1 + np.nan_to_num(np.exp(-beta * bdg_energies))), axis=-1) / beta\n",
      "/home/tjark/Projects/quant-met/src/quant_met/minimize_free_energy.py:25: RuntimeWarning: overflow encountered in exp\n",
      "  - np.sum(np.log(1 + np.nan_to_num(np.exp(-beta * bdg_energies))), axis=-1) / beta\n",
      "/home/tjark/Projects/quant-met/src/quant_met/minimize_free_energy.py:25: RuntimeWarning: overflow encountered in exp\n",
      "  - np.sum(np.log(1 + np.nan_to_num(np.exp(-beta * bdg_energies))), axis=-1) / beta\n",
      "/home/tjark/Projects/quant-met/src/quant_met/minimize_free_energy.py:25: RuntimeWarning: overflow encountered in exp\n",
      "  - np.sum(np.log(1 + np.nan_to_num(np.exp(-beta * bdg_energies))), axis=-1) / beta\n",
      "/home/tjark/Projects/quant-met/src/quant_met/minimize_free_energy.py:25: RuntimeWarning: overflow encountered in exp\n",
      "  - np.sum(np.log(1 + np.nan_to_num(np.exp(-beta * bdg_energies))), axis=-1) / beta\n",
      "/home/tjark/Projects/quant-met/src/quant_met/minimize_free_energy.py:25: RuntimeWarning: overflow encountered in exp\n",
      "  - np.sum(np.log(1 + np.nan_to_num(np.exp(-beta * bdg_energies))), axis=-1) / beta\n",
      "/home/tjark/Projects/quant-met/src/quant_met/minimize_free_energy.py:25: RuntimeWarning: overflow encountered in exp\n",
      "  - np.sum(np.log(1 + np.nan_to_num(np.exp(-beta * bdg_energies))), axis=-1) / beta\n",
      "/home/tjark/Projects/quant-met/src/quant_met/minimize_free_energy.py:25: RuntimeWarning: overflow encountered in exp\n",
      "  - np.sum(np.log(1 + np.nan_to_num(np.exp(-beta * bdg_energies))), axis=-1) / beta\n",
      "/home/tjark/Projects/quant-met/src/quant_met/minimize_free_energy.py:25: RuntimeWarning: overflow encountered in exp\n",
      "  - np.sum(np.log(1 + np.nan_to_num(np.exp(-beta * bdg_energies))), axis=-1) / beta\n",
      "/home/tjark/Projects/quant-met/src/quant_met/minimize_free_energy.py:25: RuntimeWarning: overflow encountered in exp\n",
      "  - np.sum(np.log(1 + np.nan_to_num(np.exp(-beta * bdg_energies))), axis=-1) / beta\n"
     ]
    },
    {
     "name": "stdout",
     "output_type": "stream",
     "text": [
      "U = 6.0\n",
      "[0.5339279  0.53396823]\n",
      "Time taken to solve the gap equation: 4.74 seconds\n"
     ]
    },
    {
     "name": "stderr",
     "output_type": "stream",
     "text": [
      "/home/tjark/Projects/quant-met/src/quant_met/minimize_free_energy.py:25: RuntimeWarning: overflow encountered in exp\n",
      "  - np.sum(np.log(1 + np.nan_to_num(np.exp(-beta * bdg_energies))), axis=-1) / beta\n",
      "/home/tjark/Projects/quant-met/src/quant_met/minimize_free_energy.py:25: RuntimeWarning: overflow encountered in exp\n",
      "  - np.sum(np.log(1 + np.nan_to_num(np.exp(-beta * bdg_energies))), axis=-1) / beta\n",
      "/home/tjark/Projects/quant-met/src/quant_met/minimize_free_energy.py:25: RuntimeWarning: overflow encountered in exp\n",
      "  - np.sum(np.log(1 + np.nan_to_num(np.exp(-beta * bdg_energies))), axis=-1) / beta\n",
      "/home/tjark/Projects/quant-met/src/quant_met/minimize_free_energy.py:25: RuntimeWarning: overflow encountered in exp\n",
      "  - np.sum(np.log(1 + np.nan_to_num(np.exp(-beta * bdg_energies))), axis=-1) / beta\n",
      "/home/tjark/Projects/quant-met/src/quant_met/minimize_free_energy.py:25: RuntimeWarning: overflow encountered in exp\n",
      "  - np.sum(np.log(1 + np.nan_to_num(np.exp(-beta * bdg_energies))), axis=-1) / beta\n",
      "/home/tjark/Projects/quant-met/src/quant_met/minimize_free_energy.py:25: RuntimeWarning: overflow encountered in exp\n",
      "  - np.sum(np.log(1 + np.nan_to_num(np.exp(-beta * bdg_energies))), axis=-1) / beta\n",
      "/home/tjark/Projects/quant-met/src/quant_met/minimize_free_energy.py:25: RuntimeWarning: overflow encountered in exp\n",
      "  - np.sum(np.log(1 + np.nan_to_num(np.exp(-beta * bdg_energies))), axis=-1) / beta\n",
      "/home/tjark/Projects/quant-met/src/quant_met/minimize_free_energy.py:25: RuntimeWarning: overflow encountered in exp\n",
      "  - np.sum(np.log(1 + np.nan_to_num(np.exp(-beta * bdg_energies))), axis=-1) / beta\n",
      "/home/tjark/Projects/quant-met/src/quant_met/minimize_free_energy.py:25: RuntimeWarning: overflow encountered in exp\n",
      "  - np.sum(np.log(1 + np.nan_to_num(np.exp(-beta * bdg_energies))), axis=-1) / beta\n",
      "/home/tjark/Projects/quant-met/src/quant_met/minimize_free_energy.py:25: RuntimeWarning: overflow encountered in exp\n",
      "  - np.sum(np.log(1 + np.nan_to_num(np.exp(-beta * bdg_energies))), axis=-1) / beta\n",
      "/home/tjark/Projects/quant-met/src/quant_met/minimize_free_energy.py:25: RuntimeWarning: overflow encountered in exp\n",
      "  - np.sum(np.log(1 + np.nan_to_num(np.exp(-beta * bdg_energies))), axis=-1) / beta\n"
     ]
    },
    {
     "name": "stdout",
     "output_type": "stream",
     "text": [
      "U = 0.1\n",
      "[0. 0.]\n",
      "Time taken to solve the gap equation: 4.03 seconds\n"
     ]
    },
    {
     "name": "stderr",
     "output_type": "stream",
     "text": [
      "/home/tjark/Projects/quant-met/src/quant_met/minimize_free_energy.py:25: RuntimeWarning: overflow encountered in exp\n",
      "  - np.sum(np.log(1 + np.nan_to_num(np.exp(-beta * bdg_energies))), axis=-1) / beta\n",
      "/home/tjark/Projects/quant-met/src/quant_met/minimize_free_energy.py:25: RuntimeWarning: overflow encountered in exp\n",
      "  - np.sum(np.log(1 + np.nan_to_num(np.exp(-beta * bdg_energies))), axis=-1) / beta\n",
      "/home/tjark/Projects/quant-met/src/quant_met/minimize_free_energy.py:25: RuntimeWarning: overflow encountered in exp\n",
      "  - np.sum(np.log(1 + np.nan_to_num(np.exp(-beta * bdg_energies))), axis=-1) / beta\n",
      "/home/tjark/Projects/quant-met/src/quant_met/minimize_free_energy.py:25: RuntimeWarning: overflow encountered in exp\n",
      "  - np.sum(np.log(1 + np.nan_to_num(np.exp(-beta * bdg_energies))), axis=-1) / beta\n",
      "/home/tjark/Projects/quant-met/src/quant_met/minimize_free_energy.py:25: RuntimeWarning: overflow encountered in exp\n",
      "  - np.sum(np.log(1 + np.nan_to_num(np.exp(-beta * bdg_energies))), axis=-1) / beta\n",
      "/home/tjark/Projects/quant-met/src/quant_met/minimize_free_energy.py:25: RuntimeWarning: overflow encountered in exp\n",
      "  - np.sum(np.log(1 + np.nan_to_num(np.exp(-beta * bdg_energies))), axis=-1) / beta\n",
      "/home/tjark/Projects/quant-met/src/quant_met/minimize_free_energy.py:25: RuntimeWarning: overflow encountered in exp\n",
      "  - np.sum(np.log(1 + np.nan_to_num(np.exp(-beta * bdg_energies))), axis=-1) / beta\n",
      "/home/tjark/Projects/quant-met/src/quant_met/minimize_free_energy.py:25: RuntimeWarning: overflow encountered in exp\n",
      "  - np.sum(np.log(1 + np.nan_to_num(np.exp(-beta * bdg_energies))), axis=-1) / beta\n",
      "/home/tjark/Projects/quant-met/src/quant_met/minimize_free_energy.py:25: RuntimeWarning: overflow encountered in exp\n",
      "  - np.sum(np.log(1 + np.nan_to_num(np.exp(-beta * bdg_energies))), axis=-1) / beta\n",
      "/home/tjark/Projects/quant-met/src/quant_met/minimize_free_energy.py:25: RuntimeWarning: overflow encountered in exp\n",
      "  - np.sum(np.log(1 + np.nan_to_num(np.exp(-beta * bdg_energies))), axis=-1) / beta\n",
      "/home/tjark/Projects/quant-met/src/quant_met/minimize_free_energy.py:25: RuntimeWarning: overflow encountered in exp\n",
      "  - np.sum(np.log(1 + np.nan_to_num(np.exp(-beta * bdg_energies))), axis=-1) / beta\n"
     ]
    },
    {
     "name": "stdout",
     "output_type": "stream",
     "text": [
      "U = 0.7555555555555555\n",
      "[0.00492093 0.00488718]\n",
      "Time taken to solve the gap equation: 5.43 seconds\n"
     ]
    },
    {
     "name": "stderr",
     "output_type": "stream",
     "text": [
      "/home/tjark/Projects/quant-met/src/quant_met/minimize_free_energy.py:25: RuntimeWarning: overflow encountered in exp\n",
      "  - np.sum(np.log(1 + np.nan_to_num(np.exp(-beta * bdg_energies))), axis=-1) / beta\n",
      "/home/tjark/Projects/quant-met/src/quant_met/minimize_free_energy.py:25: RuntimeWarning: overflow encountered in exp\n",
      "  - np.sum(np.log(1 + np.nan_to_num(np.exp(-beta * bdg_energies))), axis=-1) / beta\n",
      "/home/tjark/Projects/quant-met/src/quant_met/minimize_free_energy.py:25: RuntimeWarning: overflow encountered in exp\n",
      "  - np.sum(np.log(1 + np.nan_to_num(np.exp(-beta * bdg_energies))), axis=-1) / beta\n",
      "/home/tjark/Projects/quant-met/src/quant_met/minimize_free_energy.py:25: RuntimeWarning: overflow encountered in exp\n",
      "  - np.sum(np.log(1 + np.nan_to_num(np.exp(-beta * bdg_energies))), axis=-1) / beta\n",
      "/home/tjark/Projects/quant-met/src/quant_met/minimize_free_energy.py:25: RuntimeWarning: overflow encountered in exp\n",
      "  - np.sum(np.log(1 + np.nan_to_num(np.exp(-beta * bdg_energies))), axis=-1) / beta\n",
      "/home/tjark/Projects/quant-met/src/quant_met/minimize_free_energy.py:25: RuntimeWarning: overflow encountered in exp\n",
      "  - np.sum(np.log(1 + np.nan_to_num(np.exp(-beta * bdg_energies))), axis=-1) / beta\n",
      "/home/tjark/Projects/quant-met/src/quant_met/minimize_free_energy.py:25: RuntimeWarning: overflow encountered in exp\n",
      "  - np.sum(np.log(1 + np.nan_to_num(np.exp(-beta * bdg_energies))), axis=-1) / beta\n",
      "/home/tjark/Projects/quant-met/src/quant_met/minimize_free_energy.py:25: RuntimeWarning: overflow encountered in exp\n",
      "  - np.sum(np.log(1 + np.nan_to_num(np.exp(-beta * bdg_energies))), axis=-1) / beta\n",
      "/home/tjark/Projects/quant-met/src/quant_met/minimize_free_energy.py:25: RuntimeWarning: overflow encountered in exp\n",
      "  - np.sum(np.log(1 + np.nan_to_num(np.exp(-beta * bdg_energies))), axis=-1) / beta\n",
      "/home/tjark/Projects/quant-met/src/quant_met/minimize_free_energy.py:25: RuntimeWarning: overflow encountered in exp\n",
      "  - np.sum(np.log(1 + np.nan_to_num(np.exp(-beta * bdg_energies))), axis=-1) / beta\n",
      "/home/tjark/Projects/quant-met/src/quant_met/minimize_free_energy.py:25: RuntimeWarning: overflow encountered in exp\n",
      "  - np.sum(np.log(1 + np.nan_to_num(np.exp(-beta * bdg_energies))), axis=-1) / beta\n"
     ]
    },
    {
     "name": "stdout",
     "output_type": "stream",
     "text": [
      "U = 1.4111111111111112\n",
      "[0.02404419 0.02401245]\n",
      "Time taken to solve the gap equation: 5.67 seconds\n"
     ]
    },
    {
     "name": "stderr",
     "output_type": "stream",
     "text": [
      "/home/tjark/Projects/quant-met/src/quant_met/minimize_free_energy.py:25: RuntimeWarning: overflow encountered in exp\n",
      "  - np.sum(np.log(1 + np.nan_to_num(np.exp(-beta * bdg_energies))), axis=-1) / beta\n",
      "/home/tjark/Projects/quant-met/src/quant_met/minimize_free_energy.py:25: RuntimeWarning: overflow encountered in exp\n",
      "  - np.sum(np.log(1 + np.nan_to_num(np.exp(-beta * bdg_energies))), axis=-1) / beta\n",
      "/home/tjark/Projects/quant-met/src/quant_met/minimize_free_energy.py:25: RuntimeWarning: overflow encountered in exp\n",
      "  - np.sum(np.log(1 + np.nan_to_num(np.exp(-beta * bdg_energies))), axis=-1) / beta\n",
      "/home/tjark/Projects/quant-met/src/quant_met/minimize_free_energy.py:25: RuntimeWarning: overflow encountered in exp\n",
      "  - np.sum(np.log(1 + np.nan_to_num(np.exp(-beta * bdg_energies))), axis=-1) / beta\n",
      "/home/tjark/Projects/quant-met/src/quant_met/minimize_free_energy.py:25: RuntimeWarning: overflow encountered in exp\n",
      "  - np.sum(np.log(1 + np.nan_to_num(np.exp(-beta * bdg_energies))), axis=-1) / beta\n",
      "/home/tjark/Projects/quant-met/src/quant_met/minimize_free_energy.py:25: RuntimeWarning: overflow encountered in exp\n",
      "  - np.sum(np.log(1 + np.nan_to_num(np.exp(-beta * bdg_energies))), axis=-1) / beta\n",
      "/home/tjark/Projects/quant-met/src/quant_met/minimize_free_energy.py:25: RuntimeWarning: overflow encountered in exp\n",
      "  - np.sum(np.log(1 + np.nan_to_num(np.exp(-beta * bdg_energies))), axis=-1) / beta\n",
      "/home/tjark/Projects/quant-met/src/quant_met/minimize_free_energy.py:25: RuntimeWarning: overflow encountered in exp\n",
      "  - np.sum(np.log(1 + np.nan_to_num(np.exp(-beta * bdg_energies))), axis=-1) / beta\n",
      "/home/tjark/Projects/quant-met/src/quant_met/minimize_free_energy.py:25: RuntimeWarning: overflow encountered in exp\n",
      "  - np.sum(np.log(1 + np.nan_to_num(np.exp(-beta * bdg_energies))), axis=-1) / beta\n",
      "/home/tjark/Projects/quant-met/src/quant_met/minimize_free_energy.py:25: RuntimeWarning: overflow encountered in exp\n",
      "  - np.sum(np.log(1 + np.nan_to_num(np.exp(-beta * bdg_energies))), axis=-1) / beta\n",
      "/home/tjark/Projects/quant-met/src/quant_met/minimize_free_energy.py:25: RuntimeWarning: overflow encountered in exp\n",
      "  - np.sum(np.log(1 + np.nan_to_num(np.exp(-beta * bdg_energies))), axis=-1) / beta\n"
     ]
    },
    {
     "name": "stdout",
     "output_type": "stream",
     "text": [
      "U = 2.066666666666667\n",
      "[0.071172   0.07112837]\n",
      "Time taken to solve the gap equation: 5.46 seconds\n"
     ]
    },
    {
     "name": "stderr",
     "output_type": "stream",
     "text": [
      "/home/tjark/Projects/quant-met/src/quant_met/minimize_free_energy.py:25: RuntimeWarning: overflow encountered in exp\n",
      "  - np.sum(np.log(1 + np.nan_to_num(np.exp(-beta * bdg_energies))), axis=-1) / beta\n",
      "/home/tjark/Projects/quant-met/src/quant_met/minimize_free_energy.py:25: RuntimeWarning: overflow encountered in exp\n",
      "  - np.sum(np.log(1 + np.nan_to_num(np.exp(-beta * bdg_energies))), axis=-1) / beta\n",
      "/home/tjark/Projects/quant-met/src/quant_met/minimize_free_energy.py:25: RuntimeWarning: overflow encountered in exp\n",
      "  - np.sum(np.log(1 + np.nan_to_num(np.exp(-beta * bdg_energies))), axis=-1) / beta\n",
      "/home/tjark/Projects/quant-met/src/quant_met/minimize_free_energy.py:25: RuntimeWarning: overflow encountered in exp\n",
      "  - np.sum(np.log(1 + np.nan_to_num(np.exp(-beta * bdg_energies))), axis=-1) / beta\n",
      "/home/tjark/Projects/quant-met/src/quant_met/minimize_free_energy.py:25: RuntimeWarning: overflow encountered in exp\n",
      "  - np.sum(np.log(1 + np.nan_to_num(np.exp(-beta * bdg_energies))), axis=-1) / beta\n",
      "/home/tjark/Projects/quant-met/src/quant_met/minimize_free_energy.py:25: RuntimeWarning: overflow encountered in exp\n",
      "  - np.sum(np.log(1 + np.nan_to_num(np.exp(-beta * bdg_energies))), axis=-1) / beta\n",
      "/home/tjark/Projects/quant-met/src/quant_met/minimize_free_energy.py:25: RuntimeWarning: overflow encountered in exp\n",
      "  - np.sum(np.log(1 + np.nan_to_num(np.exp(-beta * bdg_energies))), axis=-1) / beta\n",
      "/home/tjark/Projects/quant-met/src/quant_met/minimize_free_energy.py:25: RuntimeWarning: overflow encountered in exp\n",
      "  - np.sum(np.log(1 + np.nan_to_num(np.exp(-beta * bdg_energies))), axis=-1) / beta\n",
      "/home/tjark/Projects/quant-met/src/quant_met/minimize_free_energy.py:25: RuntimeWarning: overflow encountered in exp\n",
      "  - np.sum(np.log(1 + np.nan_to_num(np.exp(-beta * bdg_energies))), axis=-1) / beta\n",
      "/home/tjark/Projects/quant-met/src/quant_met/minimize_free_energy.py:25: RuntimeWarning: overflow encountered in exp\n",
      "  - np.sum(np.log(1 + np.nan_to_num(np.exp(-beta * bdg_energies))), axis=-1) / beta\n",
      "/home/tjark/Projects/quant-met/src/quant_met/minimize_free_energy.py:25: RuntimeWarning: overflow encountered in exp\n",
      "  - np.sum(np.log(1 + np.nan_to_num(np.exp(-beta * bdg_energies))), axis=-1) / beta\n"
     ]
    },
    {
     "name": "stdout",
     "output_type": "stream",
     "text": [
      "U = 2.7222222222222223\n",
      "[0.14422215 0.14425183]\n",
      "Time taken to solve the gap equation: 5.03 seconds\n"
     ]
    },
    {
     "name": "stderr",
     "output_type": "stream",
     "text": [
      "/home/tjark/Projects/quant-met/src/quant_met/minimize_free_energy.py:25: RuntimeWarning: overflow encountered in exp\n",
      "  - np.sum(np.log(1 + np.nan_to_num(np.exp(-beta * bdg_energies))), axis=-1) / beta\n",
      "/home/tjark/Projects/quant-met/src/quant_met/minimize_free_energy.py:25: RuntimeWarning: overflow encountered in exp\n",
      "  - np.sum(np.log(1 + np.nan_to_num(np.exp(-beta * bdg_energies))), axis=-1) / beta\n",
      "/home/tjark/Projects/quant-met/src/quant_met/minimize_free_energy.py:25: RuntimeWarning: overflow encountered in exp\n",
      "  - np.sum(np.log(1 + np.nan_to_num(np.exp(-beta * bdg_energies))), axis=-1) / beta\n",
      "/home/tjark/Projects/quant-met/src/quant_met/minimize_free_energy.py:25: RuntimeWarning: overflow encountered in exp\n",
      "  - np.sum(np.log(1 + np.nan_to_num(np.exp(-beta * bdg_energies))), axis=-1) / beta\n",
      "/home/tjark/Projects/quant-met/src/quant_met/minimize_free_energy.py:25: RuntimeWarning: overflow encountered in exp\n",
      "  - np.sum(np.log(1 + np.nan_to_num(np.exp(-beta * bdg_energies))), axis=-1) / beta\n",
      "/home/tjark/Projects/quant-met/src/quant_met/minimize_free_energy.py:25: RuntimeWarning: overflow encountered in exp\n",
      "  - np.sum(np.log(1 + np.nan_to_num(np.exp(-beta * bdg_energies))), axis=-1) / beta\n",
      "/home/tjark/Projects/quant-met/src/quant_met/minimize_free_energy.py:25: RuntimeWarning: overflow encountered in exp\n",
      "  - np.sum(np.log(1 + np.nan_to_num(np.exp(-beta * bdg_energies))), axis=-1) / beta\n",
      "/home/tjark/Projects/quant-met/src/quant_met/minimize_free_energy.py:25: RuntimeWarning: overflow encountered in exp\n",
      "  - np.sum(np.log(1 + np.nan_to_num(np.exp(-beta * bdg_energies))), axis=-1) / beta\n",
      "/home/tjark/Projects/quant-met/src/quant_met/minimize_free_energy.py:25: RuntimeWarning: overflow encountered in exp\n",
      "  - np.sum(np.log(1 + np.nan_to_num(np.exp(-beta * bdg_energies))), axis=-1) / beta\n",
      "/home/tjark/Projects/quant-met/src/quant_met/minimize_free_energy.py:25: RuntimeWarning: overflow encountered in exp\n",
      "  - np.sum(np.log(1 + np.nan_to_num(np.exp(-beta * bdg_energies))), axis=-1) / beta\n",
      "/home/tjark/Projects/quant-met/src/quant_met/minimize_free_energy.py:25: RuntimeWarning: overflow encountered in exp\n",
      "  - np.sum(np.log(1 + np.nan_to_num(np.exp(-beta * bdg_energies))), axis=-1) / beta\n"
     ]
    },
    {
     "name": "stdout",
     "output_type": "stream",
     "text": [
      "U = 3.3777777777777778\n",
      "[0.22615864 0.22615682]\n",
      "Time taken to solve the gap equation: 4.91 seconds\n"
     ]
    },
    {
     "name": "stderr",
     "output_type": "stream",
     "text": [
      "/home/tjark/Projects/quant-met/src/quant_met/minimize_free_energy.py:25: RuntimeWarning: overflow encountered in exp\n",
      "  - np.sum(np.log(1 + np.nan_to_num(np.exp(-beta * bdg_energies))), axis=-1) / beta\n",
      "/home/tjark/Projects/quant-met/src/quant_met/minimize_free_energy.py:25: RuntimeWarning: overflow encountered in exp\n",
      "  - np.sum(np.log(1 + np.nan_to_num(np.exp(-beta * bdg_energies))), axis=-1) / beta\n",
      "/home/tjark/Projects/quant-met/src/quant_met/minimize_free_energy.py:25: RuntimeWarning: overflow encountered in exp\n",
      "  - np.sum(np.log(1 + np.nan_to_num(np.exp(-beta * bdg_energies))), axis=-1) / beta\n",
      "/home/tjark/Projects/quant-met/src/quant_met/minimize_free_energy.py:25: RuntimeWarning: overflow encountered in exp\n",
      "  - np.sum(np.log(1 + np.nan_to_num(np.exp(-beta * bdg_energies))), axis=-1) / beta\n",
      "/home/tjark/Projects/quant-met/src/quant_met/minimize_free_energy.py:25: RuntimeWarning: overflow encountered in exp\n",
      "  - np.sum(np.log(1 + np.nan_to_num(np.exp(-beta * bdg_energies))), axis=-1) / beta\n",
      "/home/tjark/Projects/quant-met/src/quant_met/minimize_free_energy.py:25: RuntimeWarning: overflow encountered in exp\n",
      "  - np.sum(np.log(1 + np.nan_to_num(np.exp(-beta * bdg_energies))), axis=-1) / beta\n",
      "/home/tjark/Projects/quant-met/src/quant_met/minimize_free_energy.py:25: RuntimeWarning: overflow encountered in exp\n",
      "  - np.sum(np.log(1 + np.nan_to_num(np.exp(-beta * bdg_energies))), axis=-1) / beta\n",
      "/home/tjark/Projects/quant-met/src/quant_met/minimize_free_energy.py:25: RuntimeWarning: overflow encountered in exp\n",
      "  - np.sum(np.log(1 + np.nan_to_num(np.exp(-beta * bdg_energies))), axis=-1) / beta\n",
      "/home/tjark/Projects/quant-met/src/quant_met/minimize_free_energy.py:25: RuntimeWarning: overflow encountered in exp\n",
      "  - np.sum(np.log(1 + np.nan_to_num(np.exp(-beta * bdg_energies))), axis=-1) / beta\n",
      "/home/tjark/Projects/quant-met/src/quant_met/minimize_free_energy.py:25: RuntimeWarning: overflow encountered in exp\n",
      "  - np.sum(np.log(1 + np.nan_to_num(np.exp(-beta * bdg_energies))), axis=-1) / beta\n",
      "/home/tjark/Projects/quant-met/src/quant_met/minimize_free_energy.py:25: RuntimeWarning: overflow encountered in exp\n",
      "  - np.sum(np.log(1 + np.nan_to_num(np.exp(-beta * bdg_energies))), axis=-1) / beta\n"
     ]
    },
    {
     "name": "stdout",
     "output_type": "stream",
     "text": [
      "U = 4.033333333333333\n",
      "[0.29164832 0.29166202]\n",
      "Time taken to solve the gap equation: 5.40 seconds\n"
     ]
    },
    {
     "name": "stderr",
     "output_type": "stream",
     "text": [
      "/home/tjark/Projects/quant-met/src/quant_met/minimize_free_energy.py:25: RuntimeWarning: overflow encountered in exp\n",
      "  - np.sum(np.log(1 + np.nan_to_num(np.exp(-beta * bdg_energies))), axis=-1) / beta\n",
      "/home/tjark/Projects/quant-met/src/quant_met/minimize_free_energy.py:25: RuntimeWarning: overflow encountered in exp\n",
      "  - np.sum(np.log(1 + np.nan_to_num(np.exp(-beta * bdg_energies))), axis=-1) / beta\n",
      "/home/tjark/Projects/quant-met/src/quant_met/minimize_free_energy.py:25: RuntimeWarning: overflow encountered in exp\n",
      "  - np.sum(np.log(1 + np.nan_to_num(np.exp(-beta * bdg_energies))), axis=-1) / beta\n",
      "/home/tjark/Projects/quant-met/src/quant_met/minimize_free_energy.py:25: RuntimeWarning: overflow encountered in exp\n",
      "  - np.sum(np.log(1 + np.nan_to_num(np.exp(-beta * bdg_energies))), axis=-1) / beta\n",
      "/home/tjark/Projects/quant-met/src/quant_met/minimize_free_energy.py:25: RuntimeWarning: overflow encountered in exp\n",
      "  - np.sum(np.log(1 + np.nan_to_num(np.exp(-beta * bdg_energies))), axis=-1) / beta\n",
      "/home/tjark/Projects/quant-met/src/quant_met/minimize_free_energy.py:25: RuntimeWarning: overflow encountered in exp\n",
      "  - np.sum(np.log(1 + np.nan_to_num(np.exp(-beta * bdg_energies))), axis=-1) / beta\n",
      "/home/tjark/Projects/quant-met/src/quant_met/minimize_free_energy.py:25: RuntimeWarning: overflow encountered in exp\n",
      "  - np.sum(np.log(1 + np.nan_to_num(np.exp(-beta * bdg_energies))), axis=-1) / beta\n",
      "/home/tjark/Projects/quant-met/src/quant_met/minimize_free_energy.py:25: RuntimeWarning: overflow encountered in exp\n",
      "  - np.sum(np.log(1 + np.nan_to_num(np.exp(-beta * bdg_energies))), axis=-1) / beta\n",
      "/home/tjark/Projects/quant-met/src/quant_met/minimize_free_energy.py:25: RuntimeWarning: overflow encountered in exp\n",
      "  - np.sum(np.log(1 + np.nan_to_num(np.exp(-beta * bdg_energies))), axis=-1) / beta\n",
      "/home/tjark/Projects/quant-met/src/quant_met/minimize_free_energy.py:25: RuntimeWarning: overflow encountered in exp\n",
      "  - np.sum(np.log(1 + np.nan_to_num(np.exp(-beta * bdg_energies))), axis=-1) / beta\n",
      "/home/tjark/Projects/quant-met/src/quant_met/minimize_free_energy.py:25: RuntimeWarning: overflow encountered in exp\n",
      "  - np.sum(np.log(1 + np.nan_to_num(np.exp(-beta * bdg_energies))), axis=-1) / beta\n"
     ]
    },
    {
     "name": "stdout",
     "output_type": "stream",
     "text": [
      "U = 4.688888888888888\n",
      "[0.34590935 0.34596332]\n",
      "Time taken to solve the gap equation: 5.20 seconds\n"
     ]
    },
    {
     "name": "stderr",
     "output_type": "stream",
     "text": [
      "/home/tjark/Projects/quant-met/src/quant_met/minimize_free_energy.py:25: RuntimeWarning: overflow encountered in exp\n",
      "  - np.sum(np.log(1 + np.nan_to_num(np.exp(-beta * bdg_energies))), axis=-1) / beta\n",
      "/home/tjark/Projects/quant-met/src/quant_met/minimize_free_energy.py:25: RuntimeWarning: overflow encountered in exp\n",
      "  - np.sum(np.log(1 + np.nan_to_num(np.exp(-beta * bdg_energies))), axis=-1) / beta\n",
      "/home/tjark/Projects/quant-met/src/quant_met/minimize_free_energy.py:25: RuntimeWarning: overflow encountered in exp\n",
      "  - np.sum(np.log(1 + np.nan_to_num(np.exp(-beta * bdg_energies))), axis=-1) / beta\n",
      "/home/tjark/Projects/quant-met/src/quant_met/minimize_free_energy.py:25: RuntimeWarning: overflow encountered in exp\n",
      "  - np.sum(np.log(1 + np.nan_to_num(np.exp(-beta * bdg_energies))), axis=-1) / beta\n",
      "/home/tjark/Projects/quant-met/src/quant_met/minimize_free_energy.py:25: RuntimeWarning: overflow encountered in exp\n",
      "  - np.sum(np.log(1 + np.nan_to_num(np.exp(-beta * bdg_energies))), axis=-1) / beta\n",
      "/home/tjark/Projects/quant-met/src/quant_met/minimize_free_energy.py:25: RuntimeWarning: overflow encountered in exp\n",
      "  - np.sum(np.log(1 + np.nan_to_num(np.exp(-beta * bdg_energies))), axis=-1) / beta\n",
      "/home/tjark/Projects/quant-met/src/quant_met/minimize_free_energy.py:25: RuntimeWarning: overflow encountered in exp\n",
      "  - np.sum(np.log(1 + np.nan_to_num(np.exp(-beta * bdg_energies))), axis=-1) / beta\n",
      "/home/tjark/Projects/quant-met/src/quant_met/minimize_free_energy.py:25: RuntimeWarning: overflow encountered in exp\n",
      "  - np.sum(np.log(1 + np.nan_to_num(np.exp(-beta * bdg_energies))), axis=-1) / beta\n",
      "/home/tjark/Projects/quant-met/src/quant_met/minimize_free_energy.py:25: RuntimeWarning: overflow encountered in exp\n",
      "  - np.sum(np.log(1 + np.nan_to_num(np.exp(-beta * bdg_energies))), axis=-1) / beta\n",
      "/home/tjark/Projects/quant-met/src/quant_met/minimize_free_energy.py:25: RuntimeWarning: overflow encountered in exp\n",
      "  - np.sum(np.log(1 + np.nan_to_num(np.exp(-beta * bdg_energies))), axis=-1) / beta\n",
      "/home/tjark/Projects/quant-met/src/quant_met/minimize_free_energy.py:25: RuntimeWarning: overflow encountered in exp\n",
      "  - np.sum(np.log(1 + np.nan_to_num(np.exp(-beta * bdg_energies))), axis=-1) / beta\n"
     ]
    },
    {
     "name": "stdout",
     "output_type": "stream",
     "text": [
      "U = 5.344444444444444\n",
      "[0.41156592 0.41158744]\n",
      "Time taken to solve the gap equation: 5.22 seconds\n"
     ]
    },
    {
     "name": "stderr",
     "output_type": "stream",
     "text": [
      "/home/tjark/Projects/quant-met/src/quant_met/minimize_free_energy.py:25: RuntimeWarning: overflow encountered in exp\n",
      "  - np.sum(np.log(1 + np.nan_to_num(np.exp(-beta * bdg_energies))), axis=-1) / beta\n",
      "/home/tjark/Projects/quant-met/src/quant_met/minimize_free_energy.py:25: RuntimeWarning: overflow encountered in exp\n",
      "  - np.sum(np.log(1 + np.nan_to_num(np.exp(-beta * bdg_energies))), axis=-1) / beta\n",
      "/home/tjark/Projects/quant-met/src/quant_met/minimize_free_energy.py:25: RuntimeWarning: overflow encountered in exp\n",
      "  - np.sum(np.log(1 + np.nan_to_num(np.exp(-beta * bdg_energies))), axis=-1) / beta\n",
      "/home/tjark/Projects/quant-met/src/quant_met/minimize_free_energy.py:25: RuntimeWarning: overflow encountered in exp\n",
      "  - np.sum(np.log(1 + np.nan_to_num(np.exp(-beta * bdg_energies))), axis=-1) / beta\n",
      "/home/tjark/Projects/quant-met/src/quant_met/minimize_free_energy.py:25: RuntimeWarning: overflow encountered in exp\n",
      "  - np.sum(np.log(1 + np.nan_to_num(np.exp(-beta * bdg_energies))), axis=-1) / beta\n",
      "/home/tjark/Projects/quant-met/src/quant_met/minimize_free_energy.py:25: RuntimeWarning: overflow encountered in exp\n",
      "  - np.sum(np.log(1 + np.nan_to_num(np.exp(-beta * bdg_energies))), axis=-1) / beta\n",
      "/home/tjark/Projects/quant-met/src/quant_met/minimize_free_energy.py:25: RuntimeWarning: overflow encountered in exp\n",
      "  - np.sum(np.log(1 + np.nan_to_num(np.exp(-beta * bdg_energies))), axis=-1) / beta\n",
      "/home/tjark/Projects/quant-met/src/quant_met/minimize_free_energy.py:25: RuntimeWarning: overflow encountered in exp\n",
      "  - np.sum(np.log(1 + np.nan_to_num(np.exp(-beta * bdg_energies))), axis=-1) / beta\n",
      "/home/tjark/Projects/quant-met/src/quant_met/minimize_free_energy.py:25: RuntimeWarning: overflow encountered in exp\n",
      "  - np.sum(np.log(1 + np.nan_to_num(np.exp(-beta * bdg_energies))), axis=-1) / beta\n",
      "/home/tjark/Projects/quant-met/src/quant_met/minimize_free_energy.py:25: RuntimeWarning: overflow encountered in exp\n",
      "  - np.sum(np.log(1 + np.nan_to_num(np.exp(-beta * bdg_energies))), axis=-1) / beta\n",
      "/home/tjark/Projects/quant-met/src/quant_met/minimize_free_energy.py:25: RuntimeWarning: overflow encountered in exp\n",
      "  - np.sum(np.log(1 + np.nan_to_num(np.exp(-beta * bdg_energies))), axis=-1) / beta\n"
     ]
    },
    {
     "name": "stdout",
     "output_type": "stream",
     "text": [
      "U = 6.0\n",
      "[0.45487699 0.45496168]\n",
      "Time taken to solve the gap equation: 5.58 seconds\n"
     ]
    }
   ],
   "execution_count": 8
  },
  {
   "metadata": {
    "ExecuteTime": {
     "end_time": "2024-06-10T13:24:59.598048Z",
     "start_time": "2024-06-10T13:24:59.459936Z"
    }
   },
   "cell_type": "code",
   "source": [
    "fig, ax= plt.subplots()\n",
    "\n",
    "for mu in [0, 0.5, 1, 1.5, 2]:\n",
    "    #print(gap_size_vs_U[f'{mu}'])\n",
    "    ax.plot(gap_size_vs_U['U'], gap_size_vs_U[f'{mu}'], 'x--', label=f'{mu}', alpha=0.9)\n",
    "\n",
    "plt.ylim(bottom=0)\n",
    "plt.xlim(left=0, right=6)\n",
    "plt.ylabel(\"Gap/t\")\n",
    "plt.xlabel(\"U/t\")\n",
    "plt.legend()"
   ],
   "id": "7f06f0f9d7045df2",
   "outputs": [
    {
     "data": {
      "text/plain": [
       "<matplotlib.legend.Legend at 0x76e7040a6f60>"
      ]
     },
     "execution_count": 9,
     "metadata": {},
     "output_type": "execute_result"
    },
    {
     "data": {
      "text/plain": [
       "<Figure size 640x480 with 1 Axes>"
      ],
      "image/png": "[encoded data removed]"
     },
     "metadata": {},
     "output_type": "display_data"
    }
   ],
   "execution_count": 9
  },
  {
   "metadata": {},
   "cell_type": "code",
   "outputs": [],
   "execution_count": null,
   "source": "",
   "id": "92aa5a658f0d8d3d"
  }
 ],
 "metadata": {
  "kernelspec": {
   "display_name": "Python 3",
   "language": "python",
   "name": "python3"
  },
  "language_info": {
   "codemirror_mode": {
    "name": "ipython",
    "version": 2
   },
   "file_extension": ".py",
   "mimetype": "text/x-python",
   "name": "python",
   "nbconvert_exporter": "python",
   "pygments_lexer": "ipython2",
   "version": "2.7.6"
  }
 },
 "nbformat": 4,
 "nbformat_minor": 5
}
