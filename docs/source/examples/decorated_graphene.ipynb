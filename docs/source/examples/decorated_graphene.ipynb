{
 "cells": [
  {
   "cell_type": "code",
   "execution_count": 1,
   "id": "initial_id",
   "metadata": {
    "ExecuteTime": {
     "end_time": "2025-05-30T14:07:28.621510Z",
     "start_time": "2025-05-30T14:07:27.261227Z"
    },
    "collapsed": true
   },
   "outputs": [],
   "source": [
    "import numpy as np\n",
    "import sisl"
   ]
  },
  {
   "cell_type": "code",
   "execution_count": 8,
   "id": "77248be7db6f896e",
   "metadata": {
    "ExecuteTime": {
     "end_time": "2025-05-30T14:11:14.229043Z",
     "start_time": "2025-05-30T14:11:14.207431Z"
    }
   },
   "outputs": [],
   "source": [
    "# Carbon-carbon bond length in Angstrom\n",
    "a_cc = 1.42\n",
    "\n",
    "# Lattice vectors for a 2D graphene unit cell\n",
    "a1 = [3 / 2 * a_cc, np.sqrt(3) / 2 * a_cc, 0.0]\n",
    "a2 = [3 / 2 * a_cc, -np.sqrt(3) / 2 * a_cc, 0.0]\n",
    "a3 = [0.0, 0.0, 20.0]  # vacuum in z\n",
    "\n",
    "lattice = sisl.Lattice([a1, a2, a3])\n",
    "\n",
    "# Atomic positions\n",
    "pos = [\n",
    "    [0.0, 0.0, 0.0],\n",
    "    [1.42, 0, 0.0],\n",
    "    [0.0, 0.0, 0.0],\n",
    "]\n",
    "\n",
    "atoms = [\n",
    "    sisl.Atom(6),  # Carbon\n",
    "    sisl.Atom(6),  # Carbon\n",
    "    sisl.Atom(1),\n",
    "]\n",
    "\n",
    "# Build geometry\n",
    "geom = sisl.Geometry(pos, atoms, lattice=lattice)\n",
    "hamiltonian = sisl.Hamiltonian(geom)\n",
    "\n",
    "t = 1.0\n",
    "V = 0.0\n",
    "\n",
    "hamiltonian.H[0, 1] = -t\n",
    "hamiltonian.H[1, 0] = -t\n",
    "hamiltonian.H[0, 2] = V\n",
    "hamiltonian.H[2, 0] = V"
   ]
  },
  {
   "cell_type": "code",
   "execution_count": null,
   "id": "842951a59040806f",
   "metadata": {},
   "outputs": [],
   "source": []
  },
  {
   "cell_type": "code",
   "execution_count": 7,
   "id": "e2ad445209588e4e",
   "metadata": {
    "ExecuteTime": {
     "end_time": "2025-05-30T14:09:34.010152Z",
     "start_time": "2025-05-30T14:09:33.823315Z"
    }
   },
   "outputs": [
    {
     "data": {
      "text/plain": [
       "<sisl.viz.plots.bands.BandsPlot at 0x127ec54c0>"
      ]
     },
     "execution_count": 7,
     "metadata": {},
     "output_type": "execute_result"
    },
    {
     "data": {
      "image/png": "[encoded data removed]",
      "text/plain": [
       "<Figure size 640x480 with 1 Axes>"
      ]
     },
     "metadata": {},
     "output_type": "display_data"
    }
   ],
   "source": [
    "band = sisl.BandStructure(\n",
    "    hamiltonian,\n",
    "    [[0, 0, 0], [0, 0.5, 0], [1 / 3, 2 / 3, 0], [0, 0, 0]],\n",
    "    200,\n",
    "    [r\"Gamma\", r\"M\", r\"K\", r\"Gamma\"],\n",
    ")\n",
    "band.plot(Erange=(-3, 3), backend=\"matplotlib\")"
   ]
  }
 ],
 "metadata": {
  "kernelspec": {
   "display_name": "Python 3",
   "language": "python",
   "name": "python3"
  },
  "language_info": {
   "codemirror_mode": {
    "name": "ipython",
    "version": 2
   },
   "file_extension": ".py",
   "mimetype": "text/x-python",
   "name": "python",
   "nbconvert_exporter": "python",
   "pygments_lexer": "ipython2",
   "version": "2.7.6"
  }
 },
 "nbformat": 4,
 "nbformat_minor": 5
}
