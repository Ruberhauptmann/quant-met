{
 "cells": [
  {
   "cell_type": "code",
   "id": "initial_id",
   "metadata": {
    "collapsed": true,
    "ExecuteTime": {
     "end_time": "2025-09-09T18:35:36.830588Z",
     "start_time": "2025-09-09T18:35:35.812424Z"
    }
   },
   "source": [
    "import numpy as np\n",
    "import sisl"
   ],
   "outputs": [],
   "execution_count": 1
  },
  {
   "metadata": {
    "ExecuteTime": {
     "end_time": "2025-09-09T18:49:45.480116Z",
     "start_time": "2025-09-09T18:49:45.460275Z"
    }
   },
   "cell_type": "code",
   "source": [
    "# Lattice vectors for a 2D square unit cell\n",
    "a1 = [1.0, 0, 0]\n",
    "a2 = [0, 1.0, 0]\n",
    "a3 = [0.0, 0.0, 20.0]\n",
    "\n",
    "lattice = sisl.Lattice([a1, a2, a3], nsc=[3, 3, 1])\n",
    "\n",
    "intercell_displ = 0.5\n",
    "\n",
    "pos = [\n",
    "    [0, 0, 0.0],\n",
    "    [intercell_displ, 0, 0.0],  # x direction\n",
    "    [0, intercell_displ, 0.0],  # y direction\n",
    "]\n",
    "\n",
    "atoms = [\n",
    "    sisl.Atom(1),\n",
    "    sisl.Atom(1),\n",
    "    sisl.Atom(1),\n",
    "]\n",
    "\n",
    "geom = sisl.Geometry(pos, atoms, lattice=lattice)\n",
    "\n",
    "t = 1.0\n",
    "\n",
    "staggering_list = np.linspace(0, 1, num=5)\n",
    "staggering_list = [0]\n",
    "\n",
    "for staggering in staggering_list:\n",
    "    hamiltonian = sisl.Hamiltonian(geom)\n",
    "\n",
    "    hamiltonian[0, 1] = t + staggering\n",
    "    hamiltonian[0, 2] = t + staggering\n",
    "    hamiltonian[1, 0] = t + staggering\n",
    "    hamiltonian[2, 0] = t + staggering\n",
    "\n",
    "    hamiltonian[1, 0, (1, 0)] = t - staggering\n",
    "    hamiltonian[0, 1, (-1, 0)] = t - staggering\n",
    "    hamiltonian[2, 0, (0, 1)] = t - staggering\n",
    "    hamiltonian[0, 2, (0, -1)] = t - staggering\n",
    "\n",
    "    hamiltonian.finalize()\n",
    "    hamiltonian.write(\"lieb.HSX\")"
   ],
   "id": "1443d6178c0860bd",
   "outputs": [
    {
     "name": "stdout",
     "output_type": "stream",
     "text": [
      "[[6.28318531 0.         0.        ]\n",
      " [0.         6.28318531 0.        ]\n",
      " [0.         0.         0.31415927]]\n"
     ]
    },
    {
     "name": "stderr",
     "output_type": "stream",
     "text": [
      "warn:0: SislWarning: added 3 diagonal elements. This changes the sparsity pattern.\n"
     ]
    }
   ],
   "execution_count": 5
  }
 ],
 "metadata": {
  "kernelspec": {
   "display_name": "quant-met (3.13.5)",
   "language": "python",
   "name": "python3"
  },
  "language_info": {
   "codemirror_mode": {
    "name": "ipython",
    "version": 3
   },
   "file_extension": ".py",
   "mimetype": "text/x-python",
   "name": "python",
   "nbconvert_exporter": "python",
   "pygments_lexer": "ipython3",
   "version": "3.13.5"
  }
 },
 "nbformat": 4,
 "nbformat_minor": 5
}
