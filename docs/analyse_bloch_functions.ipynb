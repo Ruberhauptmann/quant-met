{
 "cells": [
  {
   "cell_type": "code",
   "id": "initial_id",
   "metadata": {
    "collapsed": true,
    "ExecuteTime": {
     "end_time": "2024-05-31T15:03:50.557948Z",
     "start_time": "2024-05-31T15:03:50.382568Z"
    }
   },
   "source": [
    "import sympy as sp\n",
    "from IPython.display import display"
   ],
   "outputs": [],
   "execution_count": 1
  },
  {
   "metadata": {
    "ExecuteTime": {
     "end_time": "2024-05-31T15:03:51.053838Z",
     "start_time": "2024-05-31T15:03:50.940878Z"
    }
   },
   "cell_type": "code",
   "source": [
    "sp.init_printing(use_latex='mathjax')\n",
    "#f = sp.symbols('f', complex=True)\n",
    "t_X, V = sp.symbols('t_X, V', real=True, positive=True)\n",
    "hamiltonian = sp.Matrix([[0, 0, V], [0, 0, 0], [V, 0, 3 * t_X]])\n",
    "display(hamiltonian)\n",
    "print(hamiltonian.is_diagonalizable())"
   ],
   "id": "cfa070327dcec31b",
   "outputs": [
    {
     "data": {
      "text/plain": [
       "⎡0  0    V  ⎤\n",
       "⎢           ⎥\n",
       "⎢0  0    0  ⎥\n",
       "⎢           ⎥\n",
       "⎣V  0  3⋅t_X⎦"
      ],
      "text/latex": "$\\displaystyle \\left[\\begin{matrix}0 & 0 & V\\\\0 & 0 & 0\\\\V & 0 & 3 t_{X}\\end{matrix}\\right]$"
     },
     "metadata": {},
     "output_type": "display_data"
    },
    {
     "name": "stdout",
     "output_type": "stream",
     "text": [
      "True\n"
     ]
    }
   ],
   "execution_count": 2
  },
  {
   "metadata": {
    "ExecuteTime": {
     "end_time": "2024-05-31T15:03:51.760999Z",
     "start_time": "2024-05-31T15:03:51.594776Z"
    }
   },
   "cell_type": "code",
   "source": [
    "bloch_matrix, diagonal_matrix = hamiltonian.diagonalize(normalize=True, sort=True)\n",
    "#display(hamiltonian.eigenvects(normalize=True, sort=True))\n",
    "display(sp.simplify(bloch_matrix))\n",
    "display(bloch_matrix.subs({t_X: 0.01, V: 0.1}))\n",
    "display(sp.simplify(diagonal_matrix))"
   ],
   "id": "7722f9efaffef757",
   "outputs": [
    {
     "data": {
      "text/plain": [
       "⎡                       _______________                              _________\n",
       "⎢                      ╱    2        2                              ╱    2    \n",
       "⎢           -3⋅t_X - ╲╱  4⋅V  + 9⋅t_X                    -3⋅t_X + ╲╱  4⋅V  + 9\n",
       "⎢0  ───────────────────────────────────────────  ─────────────────────────────\n",
       "⎢        ______________________________________       ________________________\n",
       "⎢       ╱                                    2       ╱                        \n",
       "⎢      ╱         ⎛           _______________⎞       ╱         ⎛           ____\n",
       "⎢     ╱      2   ⎜          ╱    2        2 ⎟      ╱      2   ⎜          ╱    \n",
       "⎢   ╲╱    4⋅V  + ⎝3⋅t_X + ╲╱  4⋅V  + 9⋅t_X  ⎠    ╲╱    4⋅V  + ⎝3⋅t_X - ╲╱  4⋅V\n",
       "⎢                                                                             \n",
       "⎢1                       0                                            0       \n",
       "⎢                                                                             \n",
       "⎢                       2⋅V                                          2⋅V      \n",
       "⎢0  ───────────────────────────────────────────  ─────────────────────────────\n",
       "⎢        ______________________________________       ________________________\n",
       "⎢       ╱                                    2       ╱                        \n",
       "⎢      ╱         ⎛           _______________⎞       ╱         ⎛           ____\n",
       "⎢     ╱      2   ⎜          ╱    2        2 ⎟      ╱      2   ⎜          ╱    \n",
       "⎣   ╲╱    4⋅V  + ⎝3⋅t_X + ╲╱  4⋅V  + 9⋅t_X  ⎠    ╲╱    4⋅V  + ⎝3⋅t_X - ╲╱  4⋅V\n",
       "\n",
       "______        ⎤\n",
       "    2         ⎥\n",
       "⋅t_X          ⎥\n",
       "──────────────⎥\n",
       "______________⎥\n",
       "            2 ⎥\n",
       "___________⎞  ⎥\n",
       "2        2 ⎟  ⎥\n",
       "  + 9⋅t_X  ⎠  ⎥\n",
       "              ⎥\n",
       "              ⎥\n",
       "              ⎥\n",
       "              ⎥\n",
       "──────────────⎥\n",
       "______________⎥\n",
       "            2 ⎥\n",
       "___________⎞  ⎥\n",
       "2        2 ⎟  ⎥\n",
       "  + 9⋅t_X  ⎠  ⎦"
      ],
      "text/latex": "$\\displaystyle \\left[\\begin{matrix}0 & \\frac{- 3 t_{X} - \\sqrt{4 V^{2} + 9 t_{X}^{2}}}{\\sqrt{4 V^{2} + \\left(3 t_{X} + \\sqrt{4 V^{2} + 9 t_{X}^{2}}\\right)^{2}}} & \\frac{- 3 t_{X} + \\sqrt{4 V^{2} + 9 t_{X}^{2}}}{\\sqrt{4 V^{2} + \\left(3 t_{X} - \\sqrt{4 V^{2} + 9 t_{X}^{2}}\\right)^{2}}}\\\\1 & 0 & 0\\\\0 & \\frac{2 V}{\\sqrt{4 V^{2} + \\left(3 t_{X} + \\sqrt{4 V^{2} + 9 t_{X}^{2}}\\right)^{2}}} & \\frac{2 V}{\\sqrt{4 V^{2} + \\left(3 t_{X} - \\sqrt{4 V^{2} + 9 t_{X}^{2}}\\right)^{2}}}\\end{matrix}\\right]$"
     },
     "metadata": {},
     "output_type": "display_data"
    },
    {
     "data": {
      "text/plain": [
       "⎡0  -0.757740210405336  0.652556337441357⎤\n",
       "⎢                                        ⎥\n",
       "⎢1          0                   0        ⎥\n",
       "⎢                                        ⎥\n",
       "⎣0  0.652556337441357   0.757740210405336⎦"
      ],
      "text/latex": "$\\displaystyle \\left[\\begin{matrix}0 & -0.757740210405336 & 0.652556337441357\\\\1 & 0 & 0\\\\0 & 0.652556337441357 & 0.757740210405336\\end{matrix}\\right]$"
     },
     "metadata": {},
     "output_type": "display_data"
    },
    {
     "data": {
      "text/plain": [
       "⎡0              0                           0             ⎤\n",
       "⎢                                                         ⎥\n",
       "⎢              _______________                            ⎥\n",
       "⎢             ╱    2        2                             ⎥\n",
       "⎢   3⋅t_X   ╲╱  4⋅V  + 9⋅t_X                              ⎥\n",
       "⎢0  ───── - ──────────────────              0             ⎥\n",
       "⎢     2             2                                     ⎥\n",
       "⎢                                                         ⎥\n",
       "⎢                                          _______________⎥\n",
       "⎢                                         ╱    2        2 ⎥\n",
       "⎢                               3⋅t_X   ╲╱  4⋅V  + 9⋅t_X  ⎥\n",
       "⎢0              0               ───── + ──────────────────⎥\n",
       "⎣                                 2             2         ⎦"
      ],
      "text/latex": "$\\displaystyle \\left[\\begin{matrix}0 & 0 & 0\\\\0 & \\frac{3 t_{X}}{2} - \\frac{\\sqrt{4 V^{2} + 9 t_{X}^{2}}}{2} & 0\\\\0 & 0 & \\frac{3 t_{X}}{2} + \\frac{\\sqrt{4 V^{2} + 9 t_{X}^{2}}}{2}\\end{matrix}\\right]$"
     },
     "metadata": {},
     "output_type": "display_data"
    }
   ],
   "execution_count": 3
  },
  {
   "metadata": {
    "ExecuteTime": {
     "end_time": "2024-05-31T15:11:01.415051Z",
     "start_time": "2024-05-31T15:11:01.300625Z"
    }
   },
   "cell_type": "code",
   "source": [
    "delta_1, delta_2, delta_3 = sp.symbols('Delta_1, Delta_2, Delta_3')\n",
    "delta_orbital = sp.Matrix([[delta_1, 0, 0], [0, delta_2, 0], [0, 0, delta_3]])\n",
    "display(sp.simplify(bloch_matrix * delta_orbital * sp.conjugate(bloch_matrix.T)))"
   ],
   "id": "bb38016d85d3ac30",
   "outputs": [
    {
     "data": {
      "text/plain": [
       "⎡      3⋅Δ₂⋅t_X         Δ₂         3⋅Δ₃⋅t_X         Δ₃                        \n",
       "⎢──────────────────── + ── - ──────────────────── + ──  0                     \n",
       "⎢     _______________   2         _______________   2                         \n",
       "⎢    ╱    2        2             ╱    2        2                              \n",
       "⎢2⋅╲╱  4⋅V  + 9⋅t_X          2⋅╲╱  4⋅V  + 9⋅t_X                               \n",
       "⎢                                                                             \n",
       "⎢                          0                            Δ₁                    \n",
       "⎢                                                                             \n",
       "⎢                    V⋅(-Δ₂ + Δ₃)                                   3⋅Δ₂⋅t_X  \n",
       "⎢                 ──────────────────                    0   - ────────────────\n",
       "⎢                    _______________                               ___________\n",
       "⎢                   ╱    2        2                               ╱    2      \n",
       "⎣                 ╲╱  4⋅V  + 9⋅t_X                            2⋅╲╱  4⋅V  + 9⋅t\n",
       "\n",
       "   V⋅(-Δ₂ + Δ₃)                      ⎤\n",
       "──────────────────                   ⎥\n",
       "   _______________                   ⎥\n",
       "  ╱    2        2                    ⎥\n",
       "╲╱  4⋅V  + 9⋅t_X                     ⎥\n",
       "                                     ⎥\n",
       "         0                           ⎥\n",
       "                                     ⎥\n",
       "       Δ₂         3⋅Δ₃⋅t_X         Δ₃⎥\n",
       "──── + ── + ──────────────────── + ──⎥\n",
       "____   2         _______________   2 ⎥\n",
       "  2             ╱    2        2      ⎥\n",
       "_X          2⋅╲╱  4⋅V  + 9⋅t_X       ⎦"
      ],
      "text/latex": "$\\displaystyle \\left[\\begin{matrix}\\frac{3 \\Delta_{2} t_{X}}{2 \\sqrt{4 V^{2} + 9 t_{X}^{2}}} + \\frac{\\Delta_{2}}{2} - \\frac{3 \\Delta_{3} t_{X}}{2 \\sqrt{4 V^{2} + 9 t_{X}^{2}}} + \\frac{\\Delta_{3}}{2} & 0 & \\frac{V \\left(- \\Delta_{2} + \\Delta_{3}\\right)}{\\sqrt{4 V^{2} + 9 t_{X}^{2}}}\\\\0 & \\Delta_{1} & 0\\\\\\frac{V \\left(- \\Delta_{2} + \\Delta_{3}\\right)}{\\sqrt{4 V^{2} + 9 t_{X}^{2}}} & 0 & - \\frac{3 \\Delta_{2} t_{X}}{2 \\sqrt{4 V^{2} + 9 t_{X}^{2}}} + \\frac{\\Delta_{2}}{2} + \\frac{3 \\Delta_{3} t_{X}}{2 \\sqrt{4 V^{2} + 9 t_{X}^{2}}} + \\frac{\\Delta_{3}}{2}\\end{matrix}\\right]$"
     },
     "metadata": {},
     "output_type": "display_data"
    }
   ],
   "execution_count": 14
  },
  {
   "metadata": {
    "ExecuteTime": {
     "end_time": "2024-05-31T15:09:31.112589Z",
     "start_time": "2024-05-31T15:09:31.100903Z"
    }
   },
   "cell_type": "code",
   "source": [
    "import numpy as np\n",
    "from quant_met import hamiltonians\n",
    "\n",
    "lattice_constant = np.sqrt(3)\n",
    "\n",
    "K = 4 * np.pi / (3 * lattice_constant) * np.array([1, 0])\n",
    "\n",
    "egx_h = hamiltonians.EGXHamiltonian(t_gr=1, t_x=0.01, V=1, a=lattice_constant, mu=0, U_gr=1, U_x=1)\n",
    "\n",
    "energies, bloch = egx_h.generate_bloch(K)\n",
    "\n",
    "np.set_printoptions(suppress=True, precision=4)\n",
    "\n",
    "print(np.real(egx_h.k_space_matrix(K)))\n",
    "\n",
    "#print(f\"Energies: {np.round(energies, decimals=4)}\")\n",
    "#print(f\"Bloch matrix:\\n {np.real(np.round(bloch, decimals=4))}\")\n",
    "print(f\"Energies: {energies}\")\n",
    "print(f\"Bloch matrix:\\n {np.real(bloch)}\")"
   ],
   "id": "fb945d06d98ec879",
   "outputs": [
    {
     "name": "stdout",
     "output_type": "stream",
     "text": [
      "[[[0.   0.   1.  ]\n",
      "  [0.   0.   0.  ]\n",
      "  [1.   0.   0.03]]]\n",
      "Energies: [-0.9851  0.      1.0151]\n",
      "Bloch matrix:\n",
      " [[ 0.7124  0.      0.7018]\n",
      " [-0.      1.      0.    ]\n",
      " [-0.7018 -0.      0.7124]]\n"
     ]
    }
   ],
   "execution_count": 11
  },
  {
   "metadata": {},
   "cell_type": "code",
   "outputs": [],
   "execution_count": null,
   "source": "",
   "id": "331da5bdf5f2e90a"
  }
 ],
 "metadata": {
  "kernelspec": {
   "display_name": "Python 3",
   "language": "python",
   "name": "python3"
  },
  "language_info": {
   "codemirror_mode": {
    "name": "ipython",
    "version": 2
   },
   "file_extension": ".py",
   "mimetype": "text/x-python",
   "name": "python",
   "nbconvert_exporter": "python",
   "pygments_lexer": "ipython2",
   "version": "2.7.6"
  }
 },
 "nbformat": 4,
 "nbformat_minor": 5
}
