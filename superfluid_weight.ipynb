{
 "cells": [
  {
   "cell_type": "code",
   "id": "initial_id",
   "metadata": {
    "collapsed": true,
    "ExecuteTime": {
     "end_time": "2024-06-22T12:37:45.572040Z",
     "start_time": "2024-06-22T12:37:45.100856Z"
    }
   },
   "source": [
    "import numpy as np\n",
    "from quant_met import hamiltonians, utils, plotting"
   ],
   "outputs": [],
   "execution_count": 1
  },
  {
   "metadata": {
    "ExecuteTime": {
     "end_time": "2024-06-22T12:37:46.159376Z",
     "start_time": "2024-06-22T12:37:46.150123Z"
    }
   },
   "cell_type": "code",
   "source": [
    "lattice_constant = np.sqrt(3)\n",
    "egx_h = hamiltonians.EGXHamiltonian(t_gr=1, t_x=0.01, V=1, a=lattice_constant, mu=0, U_x=1, U_gr=1)\n",
    "\n",
    "all_K_points = 4 * np.pi / (3 * lattice_constant) * np.array([\n",
    "    (np.sin(i * np.pi / 6), np.cos(i * np.pi / 6)) for i in [1, 3, 5, 7, 9, 11]]\n",
    ")\n",
    "nkx = 2\n",
    "nky = 2\n",
    "\n",
    "BZ_grid = utils.generate_uniform_grid(nkx, nky, all_K_points[1], all_K_points[5], origin=np.array([0, 0]))\n",
    "\n",
    "energies, bloch = egx_h.generate_bloch(BZ_grid)\n",
    "\n",
    "print(hamiltonians.calculate_current_op(egx_h, 0, k_points=BZ_grid))"
   ],
   "id": "3822d4ae35cd62c5",
   "outputs": [
    {
     "name": "stdout",
     "output_type": "stream",
     "text": [
      "[[[ 0.00000000e+00  0.00000000e+00  0.00000000e+00]\n",
      "  [ 0.00000000e+00  0.00000000e+00  0.00000000e+00]\n",
      "  [ 0.00000000e+00  0.00000000e+00  0.00000000e+00]]\n",
      "\n",
      " [[-1.11022302e-08  3.98082895e-02  2.00000000e+08]\n",
      "  [-1.47816733e+00  6.77505757e-10 -2.28374038e-02]\n",
      "  [-2.00000000e+08  1.36735450e+00  0.00000000e+00]]\n",
      "\n",
      " [[-3.33066907e-08  5.97868554e-03 -3.16400189e-08]\n",
      "  [ 2.21650308e-02  7.19139087e-10  7.61334299e-01]\n",
      "  [-3.14044987e-08  2.05358551e-01  2.22044605e-08]]\n",
      "\n",
      " [[ 0.00000000e+00  3.85265215e-02  2.00000000e+08]\n",
      "  [-7.39083524e-01  4.20766635e-10 -1.14186308e-02]\n",
      "  [-2.00000000e+08  1.32333212e+00  0.00000000e+00]]]\n"
     ]
    },
    {
     "name": "stderr",
     "output_type": "stream",
     "text": [
      "/Users/tjark/Projects/Research/quant-met/src/quant_met/hamiltonians/_superfluid_weight.py:37: ComplexWarning: Casting complex values to real discards the imaginary part\n",
      "  current_op[k_index, m, n] = (energy[m] - energy[n]) * np.dot(\n"
     ]
    }
   ],
   "execution_count": 2
  },
  {
   "metadata": {
    "ExecuteTime": {
     "end_time": "2024-06-22T12:37:47.180511Z",
     "start_time": "2024-06-22T12:37:47.174077Z"
    }
   },
   "cell_type": "code",
   "source": "",
   "id": "b6888a1654297362",
   "outputs": [
    {
     "name": "stdout",
     "output_type": "stream",
     "text": [
      "[-4.6948071  -0.79866576 -0.79866576 -0.79866576]\n",
      "-1.7727010943743071\n"
     ]
    }
   ],
   "execution_count": 3
  }
 ],
 "metadata": {
  "kernelspec": {
   "display_name": "Python 3",
   "language": "python",
   "name": "python3"
  },
  "language_info": {
   "codemirror_mode": {
    "name": "ipython",
    "version": 2
   },
   "file_extension": ".py",
   "mimetype": "text/x-python",
   "name": "python",
   "nbconvert_exporter": "python",
   "pygments_lexer": "ipython2",
   "version": "2.7.6"
  }
 },
 "nbformat": 4,
 "nbformat_minor": 5
}
