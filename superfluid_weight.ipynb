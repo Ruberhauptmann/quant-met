{
 "cells": [
  {
   "cell_type": "code",
   "id": "initial_id",
   "metadata": {
    "collapsed": true,
    "ExecuteTime": {
     "end_time": "2024-06-18T14:35:36.055505Z",
     "start_time": "2024-06-18T14:35:35.627420Z"
    }
   },
   "source": [
    "import numpy as np\n",
    "from quant_met import hamiltonians, utils, plotting"
   ],
   "outputs": [],
   "execution_count": 1
  },
  {
   "metadata": {
    "ExecuteTime": {
     "end_time": "2024-06-18T14:44:46.791227Z",
     "start_time": "2024-06-18T14:44:46.778195Z"
    }
   },
   "cell_type": "code",
   "source": [
    "lattice_constant = np.sqrt(3)\n",
    "egx_h = hamiltonians.EGXHamiltonian(t_gr=1, t_x=0.01, V=1, a=lattice_constant, mu=0, U_x=1, U_gr=1)\n",
    "\n",
    "all_K_points = 4 * np.pi / (3 * lattice_constant) * np.array([\n",
    "    (np.sin(i * np.pi / 6), np.cos(i * np.pi / 6)) for i in [1, 3, 5, 7, 9, 11]]\n",
    ")\n",
    "nkx = 2\n",
    "nky = 2\n",
    "\n",
    "BZ_grid = utils.generate_uniform_grid(nkx, nky, all_K_points[1], all_K_points[5], origin=np.array([0, 0]))\n",
    "\n",
    "energies, bloch = egx_h.generate_bloch(BZ_grid)\n",
    "\n",
    "print(hamiltonians.calculate_current_op(egx_h, 0, k_points=BZ_grid))"
   ],
   "id": "3822d4ae35cd62c5",
   "outputs": [
    {
     "name": "stdout",
     "output_type": "stream",
     "text": [
      "[[[ 0.00000000e+00  0.00000000e+00  0.00000000e+00]\n",
      "  [ 0.00000000e+00  0.00000000e+00  0.00000000e+00]\n",
      "  [ 0.00000000e+00  0.00000000e+00  0.00000000e+00]]\n",
      "\n",
      " [[ 3.33066907e-08  3.99617677e-02  2.00000000e+08]\n",
      "  [-1.47816733e+00  6.93889390e-10 -2.28373933e-02]\n",
      "  [-2.00000000e+08  1.37262623e+00 -2.22044605e-08]]\n",
      "\n",
      " [[ 1.11022302e-08  6.52488520e-03  1.58200097e-08]\n",
      "  [ 2.21650310e-02  7.73541963e-10  7.61334305e-01]\n",
      "  [ 3.16400189e-08  2.24119665e-01  0.00000000e+00]]\n",
      "\n",
      " [[ 2.22044605e-08  3.73377642e-02  2.00000000e+08]\n",
      "  [-7.39083493e-01  7.96525947e-11 -1.14186511e-02]\n",
      "  [-2.00000000e+08  1.28250017e+00 -2.22044605e-08]]]\n"
     ]
    }
   ],
   "execution_count": 11
  },
  {
   "metadata": {},
   "cell_type": "code",
   "outputs": [],
   "execution_count": null,
   "source": "",
   "id": "b6888a1654297362"
  }
 ],
 "metadata": {
  "kernelspec": {
   "display_name": "Python 3",
   "language": "python",
   "name": "python3"
  },
  "language_info": {
   "codemirror_mode": {
    "name": "ipython",
    "version": 2
   },
   "file_extension": ".py",
   "mimetype": "text/x-python",
   "name": "python",
   "nbconvert_exporter": "python",
   "pygments_lexer": "ipython2",
   "version": "2.7.6"
  }
 },
 "nbformat": 4,
 "nbformat_minor": 5
}
