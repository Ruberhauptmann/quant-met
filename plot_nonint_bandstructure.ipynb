{
 "cells": [
  {
   "cell_type": "code",
   "id": "initial_id",
   "metadata": {
    "collapsed": true,
    "ExecuteTime": {
     "end_time": "2024-05-10T11:22:21.945690Z",
     "start_time": "2024-05-10T11:22:21.430805Z"
    }
   },
   "source": [
    "%matplotlib inline\n",
    "import matplotlib.pyplot as plt\n",
    "import numpy as np\n",
    "from quant_met.bcs import nonint\n",
    "from quant_met.configuration import Configuration\n",
    "from quant_met import plotting"
   ],
   "execution_count": 1,
   "outputs": []
  },
  {
   "metadata": {
    "ExecuteTime": {
     "end_time": "2024-05-10T11:22:22.386257Z",
     "start_time": "2024-05-10T11:22:22.384209Z"
    }
   },
   "cell_type": "code",
   "source": "lattice_constant = np.sqrt(3)",
   "id": "e78e48d02f592fc6",
   "execution_count": 2,
   "outputs": []
  },
  {
   "metadata": {
    "ExecuteTime": {
     "end_time": "2024-05-10T11:22:22.988583Z",
     "start_time": "2024-05-10T11:22:22.889385Z"
    }
   },
   "cell_type": "code",
   "source": [
    "whole_path, whole_path_plot, ticks, labels = plotting.generate_bz_path(lattice_constant)\n",
    "\n",
    "all_K_points = 4 * np.pi / (3 * lattice_constant) * np.array([\n",
    "    (np.sin(i * np.pi / 6), np.cos(i * np.pi / 6)) for i in [1, 3, 5, 7, 9, 11]]\n",
    ")\n",
    "\n",
    "BZ_path_plot = plotting.plot_into_bz(all_K_points, whole_path)"
   ],
   "id": "a43e7053d037ee07",
   "execution_count": 3,
   "outputs": []
  },
  {
   "metadata": {
    "ExecuteTime": {
     "end_time": "2024-05-10T11:22:24.305665Z",
     "start_time": "2024-05-10T11:22:24.303731Z"
    }
   },
   "cell_type": "code",
   "source": "V_list = [0.1, 1, 2, 4]",
   "id": "888f172716dc242f",
   "execution_count": 4,
   "outputs": []
  },
  {
   "metadata": {
    "ExecuteTime": {
     "end_time": "2024-05-10T11:22:27.052706Z",
     "start_time": "2024-05-10T11:22:26.179390Z"
    }
   },
   "cell_type": "code",
   "source": [
    "config = Configuration(t_gr=1, t_x=0.01, a=lattice_constant, U_Gr=0, U_X=0, V=0, mu=0)\n",
    "\n",
    "fig, axs = plt.subplots(nrows=1, ncols=len(V_list), figsize=(len(V_list)*5, 5))\n",
    "\n",
    "for V, ax in zip(V_list, axs):\n",
    "    config.V = V\n",
    "    ax.set_title(f\"$V = {config.V}, \\\\mu = {config.mu}$\")\n",
    "    band_structure = nonint.calculate_bandstructure(config, whole_path)\n",
    "    bands = band_structure[['band_1', 'band_2', 'band_3']].to_numpy().T\n",
    "    overlaps = band_structure[['wx_1', 'wx_2', 'wx_3']].to_numpy().T\n",
    "    plotting.plot_nonint_bandstructure(bands, overlaps, whole_path_plot, ticks, labels, fig, ax)"
   ],
   "id": "fa92ece8fde27dd1",
   "execution_count": 5,
   "outputs": []
  },
  {
   "metadata": {
    "ExecuteTime": {
     "end_time": "2024-05-10T11:22:37.038468Z",
     "start_time": "2024-05-10T11:22:36.244421Z"
    }
   },
   "cell_type": "code",
   "source": [
    "config = Configuration(t_gr=1, t_x=0.01, a=lattice_constant, U_Gr=0, U_X=0, V=0, mu=-1)\n",
    "\n",
    "fig, axs = plt.subplots(nrows=1, ncols=len(V_list), figsize=(len(V_list)*5, 5))\n",
    "\n",
    "for V, ax in zip(V_list, axs):\n",
    "    config.V = V\n",
    "    ax.set_title(f\"$V = {config.V}, \\\\mu = {config.mu}$\")\n",
    "    band_structure = nonint.calculate_bandstructure(config, whole_path)\n",
    "    bands = band_structure[['band_1', 'band_2', 'band_3']].to_numpy().T\n",
    "    overlaps = band_structure[['wx_1', 'wx_2', 'wx_3']].to_numpy().T\n",
    "    plotting.plot_nonint_bandstructure(bands, overlaps, whole_path_plot, ticks, labels, fig, ax)"
   ],
   "id": "ad3e1d92be5d8d67",
   "execution_count": 6,
   "outputs": []
  },
  {
   "metadata": {
    "ExecuteTime": {
     "end_time": "2024-05-10T11:22:44.811256Z",
     "start_time": "2024-05-10T11:22:44.054612Z"
    }
   },
   "cell_type": "code",
   "source": [
    "config = Configuration(t_gr=1, t_x=0.01, a=lattice_constant, U_Gr=0, U_X=0, V=0, mu=1)\n",
    "\n",
    "fig, axs = plt.subplots(nrows=1, ncols=len(V_list), figsize=(len(V_list)*5, 5))\n",
    "\n",
    "for V, ax in zip(V_list, axs):\n",
    "    config.V = V\n",
    "    ax.set_title(f\"$V = {config.V}, \\\\mu = {config.mu}$\")\n",
    "    band_structure = nonint.calculate_bandstructure(config, whole_path)\n",
    "    bands = band_structure[['band_1', 'band_2', 'band_3']].to_numpy().T\n",
    "    overlaps = band_structure[['wx_1', 'wx_2', 'wx_3']].to_numpy().T\n",
    "    plotting.plot_nonint_bandstructure(bands, overlaps, whole_path_plot, ticks, labels, fig, ax)"
   ],
   "id": "764fb9b9053139b7",
   "execution_count": 7,
   "outputs": []
  },
  {
   "metadata": {},
   "cell_type": "code",
   "execution_count": null,
   "source": "",
   "id": "94eb38c65625964f",
   "outputs": []
  }
 ],
 "metadata": {
  "kernelspec": {
   "display_name": "Python 3",
   "language": "python",
   "name": "python3"
  },
  "language_info": {
   "codemirror_mode": {
    "name": "ipython",
    "version": 2
   },
   "file_extension": ".py",
   "mimetype": "text/x-python",
   "name": "python",
   "nbconvert_exporter": "python",
   "pygments_lexer": "ipython2",
   "version": "2.7.6"
  }
 },
 "nbformat": 4,
 "nbformat_minor": 5
}
