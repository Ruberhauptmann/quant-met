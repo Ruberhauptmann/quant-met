{
 "cells": [
  {
   "cell_type": "code",
   "id": "initial_id",
   "metadata": {
    "collapsed": true,
    "ExecuteTime": {
     "end_time": "2024-06-27T10:15:23.493021Z",
     "start_time": "2024-06-27T10:15:23.207918Z"
    }
   },
   "source": [
    "import numpy as np\n",
    "from quant_met import hamiltonians, utils\n",
    "lattice_constant = np.sqrt(3)"
   ],
   "outputs": [],
   "execution_count": 1
  },
  {
   "metadata": {
    "ExecuteTime": {
     "end_time": "2024-06-27T10:15:23.496874Z",
     "start_time": "2024-06-27T10:15:23.493904Z"
    }
   },
   "cell_type": "code",
   "source": [
    "all_K_points = 4 * np.pi / (3 * lattice_constant) * np.array([\n",
    "    (np.sin(i * np.pi / 6), np.cos(i * np.pi / 6)) for i in [1, 3, 5, 7, 9, 11]]\n",
    ")\n",
    "nkx = 2\n",
    "nky = 2\n",
    "\n",
    "BZ_grid = utils.generate_uniform_grid(nkx, nky, all_K_points[1], all_K_points[5], origin=np.array([0, 0]))"
   ],
   "id": "67faa168e41b9026",
   "outputs": [],
   "execution_count": 2
  },
  {
   "metadata": {
    "ExecuteTime": {
     "end_time": "2024-06-27T10:15:23.498971Z",
     "start_time": "2024-06-27T10:15:23.497517Z"
    }
   },
   "cell_type": "code",
   "source": "",
   "id": "a5c8ab5c0de45029",
   "outputs": [],
   "execution_count": 2
  },
  {
   "metadata": {
    "ExecuteTime": {
     "end_time": "2024-06-27T10:15:23.692598Z",
     "start_time": "2024-06-27T10:15:23.683840Z"
    }
   },
   "cell_type": "code",
   "source": [
    "graphene_h = hamiltonians.GrapheneHamiltonian(t_nn=1, a=lattice_constant, mu=0, coulomb_gr=1)\n",
    "\n",
    "bdg_energies, bdg_functions = graphene_h.diagonalize_bdg(k_list=np.array([[1, 1]]), delta=np.array([1, 1]))\n",
    "energies, bloch = graphene_h.generate_bloch(k_points=np.array([[1, 1]]))\n",
    "bdg_functions = bdg_functions[0]\n",
    "bloch = bloch[0]\n",
    "\n",
    "w_plus = np.zeros((4, 2), dtype=np.complex64)\n",
    "\n",
    "for i in range(0, 4):\n",
    "    for m in range(0, 2):\n",
    "        w_plus[i, m] = np.tensordot(bloch[m], np.array([1, 0]), axes=0).reshape(-1) @ bdg_functions[i]\n",
    "\n",
    "print(bdg_functions)\n",
    "print(w_plus)"
   ],
   "id": "3b692707601c7284",
   "outputs": [
    {
     "name": "stdout",
     "output_type": "stream",
     "text": [
      "[[-5.00000000e-01+0.j         -5.00000000e-01+0.j\n",
      "   5.00000000e-01+0.j         -5.00000000e-01+0.j        ]\n",
      " [-4.04328904e-01+0.29413966j -4.53407836e-01-0.21076369j\n",
      "  -4.53407836e-01-0.21076369j  4.04328904e-01-0.29413966j]\n",
      " [ 2.94139656e-01+0.4043289j   2.10763693e-01-0.45340784j\n",
      "   2.10763693e-01-0.45340784j -2.94139656e-01-0.4043289j ]\n",
      " [ 4.99600361e-16-0.5j        -4.44089210e-16+0.5j\n",
      "   5.55111512e-16-0.5j         4.99600361e-16-0.5j       ]]\n",
      "[[ 7.0710677e-01+0.0000000e+00j -4.9960036e-16+6.2450045e-17j]\n",
      " [-3.4704044e-02-3.5702059e-01j  5.9367287e-01-1.3742080e-01j]\n",
      " [-5.8955710e-02-6.0651147e-01j -3.4946319e-01+8.0892213e-02j]\n",
      " [ 3.9252311e-17+6.1062266e-16j  9.2064291e-02+7.0108783e-01j]]\n"
     ]
    }
   ],
   "execution_count": 3
  },
  {
   "metadata": {
    "ExecuteTime": {
     "end_time": "2024-06-27T10:20:10.677599Z",
     "start_time": "2024-06-27T10:20:10.670300Z"
    }
   },
   "cell_type": "code",
   "source": [
    "egx_h = hamiltonians.EGXHamiltonian(t_gr=1, t_x=0.01, V=1, a=lattice_constant, mu=-1.5, U_x=1, U_gr=1)\n",
    "\n",
    "k = np.array([1, 1])\n",
    "\n",
    "energies, bloch = egx_h.generate_bloch(k_points=np.array([k]))\n",
    "\n",
    "print(energies)\n",
    "\n",
    "bloch = bloch[0]\n",
    "#print(bloch)\n",
    "#print(bloch[:, 0])\n",
    "\n",
    "#print(np.conjugate(bloch[:, 0]) @ egx_h.hamiltonian_derivative(k, 'x') @ bloch[:, 0])\n",
    "print(bloch[:, 0])\n",
    "#print(egx_h.hamiltonian_derivative(k, 'x'))\n",
    "#print(bloch[:, 0] @ egx_h.hamiltonian_derivative(k, 'x') @ np.conjugate(bloch[:, 0]))"
   ],
   "id": "3822d4ae35cd62c5",
   "outputs": [
    {
     "name": "stdout",
     "output_type": "stream",
     "text": [
      "[[-0.46506926  1.50102122  3.46542605]]\n",
      "[ 0.70713884+0.00000000e+00j  0.60362067-7.92652587e-02j\n",
      " -0.35960224-3.46944695e-18j]\n"
     ]
    }
   ],
   "execution_count": 10
  },
  {
   "metadata": {
    "ExecuteTime": {
     "end_time": "2024-06-27T10:21:20.898842Z",
     "start_time": "2024-06-27T10:21:20.892324Z"
    }
   },
   "cell_type": "code",
   "source": "print(np.array_str(egx_h.calculate_current_operator('x', k=np.array([k])), precision=2))",
   "id": "1910304a8223a85",
   "outputs": [
    {
     "name": "stdout",
     "output_type": "stream",
     "text": [
      "[[ 0.92+2.78e-17j  0.37-2.80e-01j  0.  -6.70e-01j]\n",
      " [ 0.37+2.80e-01j  0.03+1.02e-20j -0.39-2.80e-01j]\n",
      " [ 0.  +6.70e-01j -0.39+2.80e-01j -0.91+1.39e-17j]]\n"
     ]
    }
   ],
   "execution_count": 12
  },
  {
   "metadata": {},
   "cell_type": "code",
   "outputs": [],
   "execution_count": null,
   "source": "",
   "id": "63bfc3a684569e9a"
  }
 ],
 "metadata": {
  "kernelspec": {
   "display_name": "Python 3",
   "language": "python",
   "name": "python3"
  },
  "language_info": {
   "codemirror_mode": {
    "name": "ipython",
    "version": 2
   },
   "file_extension": ".py",
   "mimetype": "text/x-python",
   "name": "python",
   "nbconvert_exporter": "python",
   "pygments_lexer": "ipython2",
   "version": "2.7.6"
  }
 },
 "nbformat": 4,
 "nbformat_minor": 5
}
