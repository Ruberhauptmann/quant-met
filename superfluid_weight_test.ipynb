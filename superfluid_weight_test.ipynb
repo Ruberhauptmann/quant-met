{
 "cells": [
  {
   "cell_type": "code",
   "id": "initial_id",
   "metadata": {
    "collapsed": true,
    "ExecuteTime": {
     "end_time": "2024-06-28T14:27:23.593616Z",
     "start_time": "2024-06-28T14:27:23.260116Z"
    }
   },
   "source": [
    "import numpy as np\n",
    "from quant_met import hamiltonians, utils\n",
    "lattice_constant = np.sqrt(3)"
   ],
   "outputs": [],
   "execution_count": 1
  },
  {
   "metadata": {
    "ExecuteTime": {
     "end_time": "2024-06-28T14:27:23.597451Z",
     "start_time": "2024-06-28T14:27:23.594488Z"
    }
   },
   "cell_type": "code",
   "source": [
    "all_K_points = 4 * np.pi / (3 * lattice_constant) * np.array([\n",
    "    (np.sin(i * np.pi / 6), np.cos(i * np.pi / 6)) for i in [1, 3, 5, 7, 9, 11]]\n",
    ")\n",
    "nkx = 2\n",
    "nky = 2\n",
    "\n",
    "BZ_grid = utils.generate_uniform_grid(nkx, nky, all_K_points[1], all_K_points[5], origin=np.array([0, 0]))"
   ],
   "id": "67faa168e41b9026",
   "outputs": [],
   "execution_count": 2
  },
  {
   "metadata": {
    "ExecuteTime": {
     "end_time": "2024-06-28T14:28:35.629723Z",
     "start_time": "2024-06-28T14:28:35.626679Z"
    }
   },
   "cell_type": "code",
   "source": [
    "graphene_h = hamiltonians.GrapheneHamiltonian(t_nn=1, a=1e6, mu=0, coulomb_gr=0)\n",
    "\n",
    "k = np.array([[ 0.00000000e+000, -1.79769313e+302]])\n",
    "\n",
    "print(np.array_str(graphene_h.bdg_hamiltonian(k), precision=3))\n",
    "\n",
    "print(graphene_h.diagonalize_bdg(k))"
   ],
   "id": "3b692707601c7284",
   "outputs": [
    {
     "name": "stdout",
     "output_type": "stream",
     "text": [
      "[[[ 0.   +0.j  -2.364-0.1j  0.   +0.j   0.   +0.j ]\n",
      "  [-2.364+0.1j  0.   +0.j   0.   +0.j   0.   +0.j ]\n",
      "  [ 0.   -0.j   0.   -0.j  -0.   +0.j   2.364-0.1j]\n",
      "  [ 0.   -0.j   0.   -0.j   2.364+0.1j -0.   +0.j ]]]\n",
      "(array([[-2.36600113, -2.36600113,  2.36600113,  2.36600113]]), array([[[-0.70710677+0.j        , -0.        +0.j        ,\n",
      "          0.        +0.j        ,  0.70710677+0.j        ],\n",
      "        [-0.70646995+0.03000297j, -0.        +0.j        ,\n",
      "          0.        +0.j        , -0.70646995+0.03000297j],\n",
      "        [ 0.        +0.j        , -0.70710677+0.j        ,\n",
      "         -0.70710677+0.j        ,  0.        +0.j        ],\n",
      "        [ 0.        +0.j        ,  0.70646995+0.03000297j,\n",
      "         -0.70646995-0.03000297j,  0.        +0.j        ]]],\n",
      "      dtype=complex64))\n"
     ]
    }
   ],
   "execution_count": 13
  },
  {
   "metadata": {
    "ExecuteTime": {
     "end_time": "2024-06-28T14:23:53.121525Z",
     "start_time": "2024-06-28T14:23:53.109830Z"
    }
   },
   "cell_type": "code",
   "source": [
    "egx_h = hamiltonians.EGXHamiltonian(t_gr=1e6, t_x=0.01, V=1, a=lattice_constant, mu=0, U_x=1, U_gr=0)\n",
    "\n",
    "#k = np.array([1, 1])\n",
    "k = np.array([[ 0.00000000e+000, -1.79769313e+302]])\n",
    "\n",
    "#energies, bloch = egx_h.calculate_bloch(k)\n",
    "\n",
    "print(egx_h.bdg_hamiltonian(k))\n",
    "print(egx_h.diagonalize_bdg(k))\n",
    "\n",
    "#print(energies)\n",
    "\n",
    "#print(bloch)\n",
    "#print(bloch[:, 0])\n",
    "\n",
    "#print(np.conjugate(bloch[:, 0]) @ egx_h.hamiltonian_derivative(k, 'x') @ bloch[:, 0])\n",
    "#print(bloch[:, 0])\n",
    "#print(egx_h.hamiltonian_derivative(k, 'x'))\n",
    "#print(bloch[:, 0] @ egx_h.hamiltonian_derivative(k, 'x') @ np.conjugate(bloch[:, 0]))"
   ],
   "id": "3822d4ae35cd62c5",
   "outputs": [
    {
     "name": "stdout",
     "output_type": "stream",
     "text": [
      "[[[ 0.0000000e+00   +0.j     -2.9453222e+06+2466.1865j\n",
      "    1.0000000e+00   +0.j      0.0000000e+00   +0.j\n",
      "    0.0000000e+00   +0.j      0.0000000e+00   +0.j    ]\n",
      "  [-2.9453222e+06-2466.1865j  0.0000000e+00   +0.j\n",
      "    0.0000000e+00   +0.j      0.0000000e+00   +0.j\n",
      "    0.0000000e+00   +0.j      0.0000000e+00   +0.j    ]\n",
      "  [ 1.0000000e+00   +0.j      0.0000000e+00   +0.j\n",
      "    1.0980245e-02   +0.j      0.0000000e+00   +0.j\n",
      "    0.0000000e+00   +0.j      0.0000000e+00   +0.j    ]\n",
      "  [ 0.0000000e+00   -0.j      0.0000000e+00   -0.j\n",
      "    0.0000000e+00   -0.j     -0.0000000e+00   +0.j\n",
      "    2.9453222e+06+2466.1865j -1.0000000e+00   +0.j    ]\n",
      "  [ 0.0000000e+00   -0.j      0.0000000e+00   -0.j\n",
      "    0.0000000e+00   -0.j      2.9453222e+06-2466.1865j\n",
      "   -0.0000000e+00   +0.j     -0.0000000e+00   +0.j    ]\n",
      "  [ 0.0000000e+00   -0.j      0.0000000e+00   -0.j\n",
      "    0.0000000e+00   -0.j     -1.0000000e+00   +0.j\n",
      "   -0.0000000e+00   +0.j     -1.0980245e-02   +0.j    ]]]\n",
      "[[[ 0.0000000e+00   +0.j     -2.9453222e+06+2466.1865j\n",
      "    1.0000000e+00   +0.j      0.0000000e+00   +0.j\n",
      "    0.0000000e+00   +0.j      0.0000000e+00   +0.j    ]\n",
      "  [-2.9453222e+06-2466.1865j  0.0000000e+00   +0.j\n",
      "    0.0000000e+00   +0.j      0.0000000e+00   +0.j\n",
      "    0.0000000e+00   +0.j      0.0000000e+00   +0.j    ]\n",
      "  [ 1.0000000e+00   +0.j      0.0000000e+00   +0.j\n",
      "    1.0980245e-02   +0.j      0.0000000e+00   +0.j\n",
      "    0.0000000e+00   +0.j      0.0000000e+00   +0.j    ]\n",
      "  [ 0.0000000e+00   -0.j      0.0000000e+00   -0.j\n",
      "    0.0000000e+00   -0.j     -0.0000000e+00   +0.j\n",
      "    2.9453222e+06+2466.1865j -1.0000000e+00   +0.j    ]\n",
      "  [ 0.0000000e+00   -0.j      0.0000000e+00   -0.j\n",
      "    0.0000000e+00   -0.j      2.9453222e+06-2466.1865j\n",
      "   -0.0000000e+00   +0.j     -0.0000000e+00   +0.j    ]\n",
      "  [ 0.0000000e+00   -0.j      0.0000000e+00   -0.j\n",
      "    0.0000000e+00   -0.j     -1.0000000e+00   +0.j\n",
      "   -0.0000000e+00   +0.j     -1.0980245e-02   +0.j    ]]]\n",
      "(array([[-2.94532325e+06, -2.94532325e+06, -1.09802447e-02,\n",
      "         1.09802447e-02,  2.94532325e+06,  2.94532325e+06]]), array([[[ 7.0710677e-01+0.0000000e+00j,  0.0000000e+00+0.0000000e+00j,\n",
      "         -0.0000000e+00+0.0000000e+00j, -1.2657446e-15-0.0000000e+00j,\n",
      "         -7.0710677e-01+0.0000000e+00j,  0.0000000e+00+0.0000000e+00j],\n",
      "        [ 7.0710653e-01+5.9207669e-04j,  0.0000000e+00+0.0000000e+00j,\n",
      "         -0.0000000e+00+0.0000000e+00j,  3.3952119e-07+2.8428895e-10j,\n",
      "          7.0710653e-01+5.9207669e-04j,  0.0000000e+00+0.0000000e+00j],\n",
      "        [-2.4007781e-07+1.7891013e-27j,  0.0000000e+00+0.0000000e+00j,\n",
      "         -0.0000000e+00+0.0000000e+00j,  1.0000000e+00+7.0368035e-20j,\n",
      "         -2.4007781e-07+1.7891013e-27j,  0.0000000e+00+0.0000000e+00j],\n",
      "        [ 0.0000000e+00+0.0000000e+00j, -7.0710677e-01+0.0000000e+00j,\n",
      "         -1.2657446e-15-0.0000000e+00j, -0.0000000e+00+0.0000000e+00j,\n",
      "          0.0000000e+00+0.0000000e+00j,  7.0710677e-01+0.0000000e+00j],\n",
      "        [ 0.0000000e+00+0.0000000e+00j,  7.0710653e-01-5.9207669e-04j,\n",
      "          3.3952119e-07-2.8428895e-10j, -0.0000000e+00+0.0000000e+00j,\n",
      "          0.0000000e+00+0.0000000e+00j,  7.0710653e-01-5.9207669e-04j],\n",
      "        [ 0.0000000e+00+0.0000000e+00j, -2.4007781e-07-1.7891013e-27j,\n",
      "          1.0000000e+00-7.0368035e-20j, -0.0000000e+00+0.0000000e+00j,\n",
      "          0.0000000e+00+0.0000000e+00j, -2.4007781e-07-1.7891013e-27j]]],\n",
      "      dtype=complex64))\n"
     ]
    }
   ],
   "execution_count": 8
  },
  {
   "metadata": {
    "ExecuteTime": {
     "end_time": "2024-06-28T11:17:22.720148Z",
     "start_time": "2024-06-28T11:17:22.598647Z"
    }
   },
   "cell_type": "code",
   "source": "print(np.array_str(hamiltonians.calculate_current_operator('x', k=np.array([k])), precision=2))",
   "id": "1910304a8223a85",
   "outputs": [
    {
     "ename": "AttributeError",
     "evalue": "module 'quant_met.hamiltonians' has no attribute 'calculate_current_operator'",
     "output_type": "error",
     "traceback": [
      "\u001B[0;31m---------------------------------------------------------------------------\u001B[0m",
      "\u001B[0;31mAttributeError\u001B[0m                            Traceback (most recent call last)",
      "Cell \u001B[0;32mIn[5], line 1\u001B[0m\n\u001B[0;32m----> 1\u001B[0m \u001B[38;5;28mprint\u001B[39m(np\u001B[38;5;241m.\u001B[39marray_str(\u001B[43mhamiltonians\u001B[49m\u001B[38;5;241;43m.\u001B[39;49m\u001B[43mcalculate_current_operator\u001B[49m(\u001B[38;5;124m'\u001B[39m\u001B[38;5;124mx\u001B[39m\u001B[38;5;124m'\u001B[39m, k\u001B[38;5;241m=\u001B[39mnp\u001B[38;5;241m.\u001B[39marray([k])), precision\u001B[38;5;241m=\u001B[39m\u001B[38;5;241m2\u001B[39m))\n",
      "\u001B[0;31mAttributeError\u001B[0m: module 'quant_met.hamiltonians' has no attribute 'calculate_current_operator'"
     ]
    }
   ],
   "execution_count": 5
  },
  {
   "metadata": {
    "ExecuteTime": {
     "end_time": "2024-06-28T11:18:05.204762Z",
     "start_time": "2024-06-28T11:18:05.153256Z"
    }
   },
   "cell_type": "code",
   "source": "print(hamiltonians.calculate_superfluid_weight(h=egx_h, k_grid=BZ_grid, direction_1='x', direction_2='x'))",
   "id": "63bfc3a684569e9a",
   "outputs": [
    {
     "ename": "ValueError",
     "evalue": "k_list must be a array of k points",
     "output_type": "error",
     "traceback": [
      "\u001B[0;31m---------------------------------------------------------------------------\u001B[0m",
      "\u001B[0;31mValueError\u001B[0m                                Traceback (most recent call last)",
      "Cell \u001B[0;32mIn[6], line 1\u001B[0m\n\u001B[0;32m----> 1\u001B[0m \u001B[38;5;28mprint\u001B[39m(\u001B[43mhamiltonians\u001B[49m\u001B[38;5;241;43m.\u001B[39;49m\u001B[43mcalculate_superfluid_weight\u001B[49m\u001B[43m(\u001B[49m\u001B[43mh\u001B[49m\u001B[38;5;241;43m=\u001B[39;49m\u001B[43megx_h\u001B[49m\u001B[43m,\u001B[49m\u001B[43m \u001B[49m\u001B[43mk_grid\u001B[49m\u001B[38;5;241;43m=\u001B[39;49m\u001B[43mBZ_grid\u001B[49m\u001B[43m,\u001B[49m\u001B[43m \u001B[49m\u001B[43mdirection_1\u001B[49m\u001B[38;5;241;43m=\u001B[39;49m\u001B[38;5;124;43m'\u001B[39;49m\u001B[38;5;124;43mx\u001B[39;49m\u001B[38;5;124;43m'\u001B[39;49m\u001B[43m,\u001B[49m\u001B[43m \u001B[49m\u001B[43mdirection_2\u001B[49m\u001B[38;5;241;43m=\u001B[39;49m\u001B[38;5;124;43m'\u001B[39;49m\u001B[38;5;124;43mx\u001B[39;49m\u001B[38;5;124;43m'\u001B[39;49m\u001B[43m)\u001B[49m)\n",
      "File \u001B[0;32m~/Projects/Research/quant-met/src/quant_met/hamiltonians/_superfluid_weight.py:117\u001B[0m, in \u001B[0;36mcalculate_superfluid_weight\u001B[0;34m(h, k_grid, direction_1, direction_2)\u001B[0m\n\u001B[1;32m    114\u001B[0m s_weight_geom \u001B[38;5;241m=\u001B[39m \u001B[38;5;241m0\u001B[39m\n\u001B[1;32m    116\u001B[0m \u001B[38;5;28;01mfor\u001B[39;00m k \u001B[38;5;129;01min\u001B[39;00m k_grid:\n\u001B[0;32m--> 117\u001B[0m     C_mnpq \u001B[38;5;241m=\u001B[39m \u001B[43mcalculate_c_factor\u001B[49m\u001B[43m(\u001B[49m\u001B[43mh\u001B[49m\u001B[43m,\u001B[49m\u001B[43m \u001B[49m\u001B[43mk\u001B[49m\u001B[43m)\u001B[49m\n\u001B[1;32m    118\u001B[0m     j_up \u001B[38;5;241m=\u001B[39m calculate_current_operator(h, direction_1, k)\n\u001B[1;32m    119\u001B[0m     j_down \u001B[38;5;241m=\u001B[39m calculate_current_operator(h, direction_2, \u001B[38;5;241m-\u001B[39mk)\n",
      "File \u001B[0;32m~/Projects/Research/quant-met/src/quant_met/hamiltonians/_superfluid_weight.py:56\u001B[0m, in \u001B[0;36mcalculate_c_factor\u001B[0;34m(h, k)\u001B[0m\n\u001B[1;32m     53\u001B[0m \u001B[38;5;28;01mdef\u001B[39;00m \u001B[38;5;21mcalculate_c_factor\u001B[39m(\n\u001B[1;32m     54\u001B[0m     h: BaseHamiltonian, k: npt\u001B[38;5;241m.\u001B[39mNDArray[np\u001B[38;5;241m.\u001B[39mfloat64]\n\u001B[1;32m     55\u001B[0m ) \u001B[38;5;241m-\u001B[39m\u001B[38;5;241m>\u001B[39m npt\u001B[38;5;241m.\u001B[39mNDArray[np\u001B[38;5;241m.\u001B[39mcomplex64]:\n\u001B[0;32m---> 56\u001B[0m     bdg_energies, _ \u001B[38;5;241m=\u001B[39m \u001B[43mh\u001B[49m\u001B[38;5;241;43m.\u001B[39;49m\u001B[43mdiagonalize_bdg\u001B[49m\u001B[43m(\u001B[49m\u001B[43mk\u001B[49m\u001B[43m,\u001B[49m\u001B[43m \u001B[49m\u001B[43mh\u001B[49m\u001B[38;5;241;43m.\u001B[39;49m\u001B[43mdelta_orbital_basis\u001B[49m\u001B[43m)\u001B[49m\n\u001B[1;32m     57\u001B[0m     w_plus, w_minus \u001B[38;5;241m=\u001B[39m calculate_w_matrix(h, k)\n\u001B[1;32m     58\u001B[0m     bdg_energies \u001B[38;5;241m=\u001B[39m bdg_energies[\u001B[38;5;241m0\u001B[39m]\n",
      "File \u001B[0;32m~/Projects/Research/quant-met/src/quant_met/hamiltonians/_base_hamiltonian.py:75\u001B[0m, in \u001B[0;36mBaseHamiltonian.diagonalize_bdg\u001B[0;34m(self, k_list, delta)\u001B[0m\n\u001B[1;32m     71\u001B[0m \u001B[38;5;28;01mdef\u001B[39;00m \u001B[38;5;21mdiagonalize_bdg\u001B[39m(\n\u001B[1;32m     72\u001B[0m     \u001B[38;5;28mself\u001B[39m, k_list: npt\u001B[38;5;241m.\u001B[39mNDArray[np\u001B[38;5;241m.\u001B[39mfloat64], delta: npt\u001B[38;5;241m.\u001B[39mNDArray[np\u001B[38;5;241m.\u001B[39mfloat64]\n\u001B[1;32m     73\u001B[0m ) \u001B[38;5;241m-\u001B[39m\u001B[38;5;241m>\u001B[39m \u001B[38;5;28mtuple\u001B[39m[npt\u001B[38;5;241m.\u001B[39mNDArray[np\u001B[38;5;241m.\u001B[39mfloat64], npt\u001B[38;5;241m.\u001B[39mNDArray[np\u001B[38;5;241m.\u001B[39mcomplex64]]:\n\u001B[1;32m     74\u001B[0m     \u001B[38;5;28;01mif\u001B[39;00m k_list\u001B[38;5;241m.\u001B[39mndim \u001B[38;5;241m==\u001B[39m \u001B[38;5;241m1\u001B[39m:\n\u001B[0;32m---> 75\u001B[0m         \u001B[38;5;28;01mraise\u001B[39;00m \u001B[38;5;167;01mValueError\u001B[39;00m(\u001B[38;5;124m\"\u001B[39m\u001B[38;5;124mk_list must be a array of k points\u001B[39m\u001B[38;5;124m\"\u001B[39m)\n\u001B[1;32m     76\u001B[0m     bdg_matrix \u001B[38;5;241m=\u001B[39m np\u001B[38;5;241m.\u001B[39marray(\n\u001B[1;32m     77\u001B[0m         [\n\u001B[1;32m     78\u001B[0m             np\u001B[38;5;241m.\u001B[39mblock(\n\u001B[0;32m   (...)\u001B[0m\n\u001B[1;32m     91\u001B[0m         ]\n\u001B[1;32m     92\u001B[0m     )\n\u001B[1;32m     93\u001B[0m     eigenvalues, eigenvectors \u001B[38;5;241m=\u001B[39m np\u001B[38;5;241m.\u001B[39mlinalg\u001B[38;5;241m.\u001B[39meigh(bdg_matrix)\n",
      "\u001B[0;31mValueError\u001B[0m: k_list must be a array of k points"
     ]
    }
   ],
   "execution_count": 6
  },
  {
   "metadata": {},
   "cell_type": "code",
   "outputs": [],
   "execution_count": null,
   "source": "",
   "id": "f44978f0922730b6"
  }
 ],
 "metadata": {
  "kernelspec": {
   "display_name": "Python 3",
   "language": "python",
   "name": "python3"
  },
  "language_info": {
   "codemirror_mode": {
    "name": "ipython",
    "version": 2
   },
   "file_extension": ".py",
   "mimetype": "text/x-python",
   "name": "python",
   "nbconvert_exporter": "python",
   "pygments_lexer": "ipython2",
   "version": "2.7.6"
  }
 },
 "nbformat": 4,
 "nbformat_minor": 5
}
